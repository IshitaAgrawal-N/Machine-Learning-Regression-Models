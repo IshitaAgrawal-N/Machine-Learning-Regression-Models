{
  "cells": [
    {
      "cell_type": "markdown",
      "metadata": {
        "id": "view-in-github",
        "colab_type": "text"
      },
      "source": [
        "<a href=\"https://colab.research.google.com/github/IshitaAgrawal-N/Machine-Learning-Regression-Models/blob/main/BIOMASS_CONC.ipynb\" target=\"_parent\"><img src=\"https://colab.research.google.com/assets/colab-badge.svg\" alt=\"Open In Colab\"/></a>"
      ]
    },
    {
      "cell_type": "code",
      "execution_count": null,
      "metadata": {
        "colab": {
          "base_uri": "https://localhost:8080/"
        },
        "id": "Rl2Cc0omx0IO",
        "outputId": "8c925af8-b54f-4235-85ad-918ab4c60e8b"
      },
      "outputs": [
        {
          "name": "stdout",
          "output_type": "stream",
          "text": [
            "Mounted at /content/gdrive\n"
          ]
        }
      ],
      "source": [
        "from google.colab import drive\n",
        "\n",
        "drive.mount('/content/gdrive')\n"
      ]
    },
    {
      "cell_type": "markdown",
      "metadata": {
        "id": "xFLYp4WZz0Oa"
      },
      "source": [
        "# **NEURAL NETWORK MODEL**"
      ]
    },
    {
      "cell_type": "code",
      "execution_count": null,
      "metadata": {
        "colab": {
          "base_uri": "https://localhost:8080/"
        },
        "id": "uBAgRBCgyJfD",
        "outputId": "a451a86d-9d32-4726-9326-e86ec87bdd4b"
      },
      "outputs": [
        {
          "name": "stdout",
          "output_type": "stream",
          "text": [
            "   Aeration Rate  AgitatorPower  ...  Biomass Conc  Substrate Conc\n",
            "0       7.997728      29.666590  ...      0.100000       15.000000\n",
            "1       7.786650      30.725216  ...      0.105235       14.989514\n",
            "2       7.667642      30.741825  ...      0.110740       14.978389\n",
            "3       7.641116      30.311470  ...      0.116530       14.966589\n",
            "4       8.304563      29.958562  ...      0.122621       14.954077\n",
            "\n",
            "[5 rows x 13 columns]\n"
          ]
        }
      ],
      "source": [
        "from sklearn.model_selection import cross_val_score\n",
        "from sklearn.model_selection import train_test_split\n",
        "\n",
        "from sklearn.model_selection import KFold\n",
        "from sklearn.pipeline import Pipeline\n",
        "import pandas as pd\n",
        "from keras.models import Sequential\n",
        "from keras.layers import Dense\n",
        "from keras.wrappers.scikit_learn import KerasRegressor\n",
        "\n",
        "data = '/content/gdrive/My Drive/CHE SOP-DOP/1-s2.0-S1369703X18301359-mmc2.xlsx - Sheet1.csv'\n",
        "df = pd.read_csv(data)\n",
        "\n",
        "Parameters = ['Aeration Rate', 'AgitatorPower', 'Subst Feed Conc.', 'Substrate feed T', 'Temp', 'pH', 'Dis O2 Conc.', 'CO2 Conc.', 'VOL', 'Heat', 'Peni Conc.', 'Biomass Conc', 'Substrate Conc']\n",
        "df.columns = Parameters\n",
        "print(df.head())\n"
      ]
    },
    {
      "cell_type": "code",
      "execution_count": null,
      "metadata": {
        "colab": {
          "base_uri": "https://localhost:8080/"
        },
        "id": "41FtB_aNyTnZ",
        "outputId": "b8a27ceb-3af0-488c-c506-0ccd066257d4"
      },
      "outputs": [
        {
          "name": "stdout",
          "output_type": "stream",
          "text": [
            "       Aeration Rate  AgitatorPower  ...  Biomass Conc  Substrate Conc\n",
            "count   48000.000000   48000.000000  ...  48000.000000    48000.000000\n",
            "mean        7.174676      33.084610  ...     10.997847        2.043106\n",
            "std         1.087719       4.223971  ...      3.718742        6.038446\n",
            "min         4.653990      23.979445  ...      0.000634       -0.010375\n",
            "25%         6.262741      30.008750  ...     10.912407        0.012933\n",
            "50%         7.289793      33.304819  ...     12.793935        0.022299\n",
            "75%         8.044820      36.443006  ...     13.080617        0.057500\n",
            "max         9.446993      40.697969  ...     13.489368       29.336738\n",
            "\n",
            "[8 rows x 13 columns]\n"
          ]
        }
      ],
      "source": [
        "print(df.describe())"
      ]
    },
    {
      "cell_type": "code",
      "execution_count": null,
      "metadata": {
        "id": "zc8wIfT5yVhr"
      },
      "outputs": [],
      "source": [
        "X = df.drop(['Peni Conc.', 'Biomass Conc', 'Substrate Conc'], axis=1)\n",
        "y = df['Biomass Conc']"
      ]
    },
    {
      "cell_type": "code",
      "execution_count": null,
      "metadata": {
        "colab": {
          "base_uri": "https://localhost:8080/"
        },
        "id": "Tcel9baryadd",
        "outputId": "03197619-a506-4c15-dce1-9bcff2a54a0f"
      },
      "outputs": [
        {
          "name": "stdout",
          "output_type": "stream",
          "text": [
            "       Aeration Rate  AgitatorPower  ...         VOL       Heat\n",
            "0           7.997728      29.666590  ...  100.000000   0.008368\n",
            "1           7.786650      30.725216  ...   99.987549   0.021791\n",
            "2           7.667642      30.741825  ...   99.975100   0.071371\n",
            "3           7.641116      30.311470  ...   99.962653   0.093127\n",
            "4           8.304563      29.958562  ...   99.950208   0.142380\n",
            "...              ...            ...  ...         ...        ...\n",
            "47995       5.421724      36.327411  ...  105.720389  76.572162\n",
            "47996       5.217079      35.776739  ...  105.729643  76.576014\n",
            "47997       5.694386      35.206284  ...  105.738909  76.564558\n",
            "47998       5.562624      36.284345  ...  105.748192  76.555443\n",
            "47999       5.574685      35.997997  ...  105.757491  76.535246\n",
            "\n",
            "[48000 rows x 10 columns]\n"
          ]
        }
      ],
      "source": [
        "print(X)\n"
      ]
    },
    {
      "cell_type": "code",
      "execution_count": null,
      "metadata": {
        "colab": {
          "base_uri": "https://localhost:8080/"
        },
        "id": "2BYc0LBGyfk4",
        "outputId": "c9bc679e-585f-4efa-b333-45ca221db36b"
      },
      "outputs": [
        {
          "name": "stdout",
          "output_type": "stream",
          "text": [
            "0         0.100000\n",
            "1         0.105235\n",
            "2         0.110740\n",
            "3         0.116530\n",
            "4         0.122621\n",
            "           ...    \n",
            "47995    13.030947\n",
            "47996    13.029589\n",
            "47997    13.028279\n",
            "47998    13.027020\n",
            "47999    13.025816\n",
            "Name: Biomass Conc, Length: 48000, dtype: float64\n"
          ]
        }
      ],
      "source": [
        "print(y)"
      ]
    },
    {
      "cell_type": "code",
      "execution_count": null,
      "metadata": {
        "id": "VxQh3dbyykji"
      },
      "outputs": [],
      "source": [
        "X_train, X_test, y_train, y_test = train_test_split(X,y, test_size = 0.2, random_state=20)\n"
      ]
    },
    {
      "cell_type": "code",
      "execution_count": null,
      "metadata": {
        "id": "l8WkHmpQ1yc9"
      },
      "outputs": [],
      "source": [
        "from sklearn.preprocessing import StandardScaler\n",
        "scaler=StandardScaler()\n",
        "scaler.fit(X_train)\n",
        "X_train_scaled = scaler.transform(X_train)\n",
        "\n",
        "X_test_scaled = scaler.transform(X_test)"
      ]
    },
    {
      "cell_type": "code",
      "execution_count": null,
      "metadata": {
        "colab": {
          "base_uri": "https://localhost:8080/"
        },
        "id": "UYEjc9Um11Ey",
        "outputId": "64f6f3cb-5a1e-437a-be61-827b07424cfc"
      },
      "outputs": [
        {
          "name": "stdout",
          "output_type": "stream",
          "text": [
            "[[-0.77346914  1.37783364  0.38123198 ...  0.46400136  1.58997535\n",
            "   0.58232551]\n",
            " [-0.49204976  0.16752631  0.43282061 ... -0.30668483 -1.14626671\n",
            "  -0.23690715]\n",
            " [-0.46701665 -1.82319065 -2.6629187  ... -2.90900815 -1.22421445\n",
            "  -2.80568642]\n",
            " ...\n",
            " [-1.6163894  -1.02952337  0.38396933 ...  0.51943729  0.26547936\n",
            "   0.65374575]\n",
            " [ 0.05831028  1.05774776  0.38102141 ... -0.08271203 -1.32254172\n",
            "  -0.56494077]\n",
            " [ 0.79658618 -0.12047534  0.28458225 ...  0.59098659  1.67797132\n",
            "   0.5435943 ]]\n"
          ]
        }
      ],
      "source": [
        "print(X_test_scaled)"
      ]
    },
    {
      "cell_type": "code",
      "execution_count": null,
      "metadata": {
        "colab": {
          "base_uri": "https://localhost:8080/"
        },
        "id": "0nsRBg9H1-WW",
        "outputId": "caaebe35-fbca-4c36-8e81-d7d43311687b"
      },
      "outputs": [
        {
          "name": "stdout",
          "output_type": "stream",
          "text": [
            "Model: \"sequential_5\"\n",
            "_________________________________________________________________\n",
            "Layer (type)                 Output Shape              Param #   \n",
            "=================================================================\n",
            "dense_15 (Dense)             (None, 12)                132       \n",
            "_________________________________________________________________\n",
            "dense_16 (Dense)             (None, 8)                 104       \n",
            "_________________________________________________________________\n",
            "dense_17 (Dense)             (None, 1)                 9         \n",
            "=================================================================\n",
            "Total params: 245\n",
            "Trainable params: 245\n",
            "Non-trainable params: 0\n",
            "_________________________________________________________________\n"
          ]
        }
      ],
      "source": [
        "model = Sequential()\n",
        "model.add(Dense(12, input_dim=10, activation='relu'))\n",
        "\n",
        "model.add(Dense(8, activation='relu'))\n",
        "model.add(Dense(1, activation='linear'))\n",
        "model.compile(loss='mean_squared_error', optimizer='adam', metrics=['mae'])\n",
        "model.summary()\n",
        "\n"
      ]
    },
    {
      "cell_type": "code",
      "execution_count": null,
      "metadata": {
        "id": "3DTILggX2AEh"
      },
      "outputs": [],
      "source": [
        "history = model.fit(X_train_scaled, y_train, validation_split=0.2,epochs=100, batch_size=10, verbose=0)\n"
      ]
    },
    {
      "cell_type": "code",
      "execution_count": null,
      "metadata": {
        "colab": {
          "base_uri": "https://localhost:8080/",
          "height": 573
        },
        "id": "7eWlhmyY2o2t",
        "outputId": "ff3e5965-7532-45a0-bf61-3e06c9431203"
      },
      "outputs": [
        {
          "data": {
            "image/png": "[encoded data removed]",
            "text/plain": [
              "<Figure size 432x288 with 1 Axes>"
            ]
          },
          "metadata": {
            "tags": []
          },
          "output_type": "display_data"
        },
        {
          "data": {
            "image/png": "[encoded data removed]",
            "text/plain": [
              "<Figure size 432x288 with 1 Axes>"
            ]
          },
          "metadata": {
            "tags": []
          },
          "output_type": "display_data"
        }
      ],
      "source": [
        "import numpy as np\n",
        "import pandas as pd \n",
        "from matplotlib import pyplot as plt\n",
        "import matplotlib\n",
        "%matplotlib inline\n",
        "loss = history.history['loss']\n",
        "val_loss = history.history['val_loss']\n",
        "epochs = range(1, len(loss)+1)\n",
        "plt.plot(epochs, loss, 'y', label='Training loss')\n",
        "\n",
        "plt.plot(epochs, val_loss, 'b', label='validation loss')\n",
        "plt.title('Training and validation loss')\n",
        "plt.xlabel('Epochs')\n",
        "plt.ylabel('Loss')\n",
        "plt.legend()\n",
        "plt.show()\n",
        "\n",
        "\n",
        "acc = history.history['mae']\n",
        "val_acc = history.history['val_mae']\n",
        "plt.plot(epochs, acc, 'y', label='Training MAE')\n",
        "\n",
        "plt.plot(epochs, val_acc, 'b', label='validation accuracy')\n",
        "plt.title('Training and validation MAE')\n",
        "plt.xlabel('Epochs')\n",
        "plt.ylabel('Accuracy')\n",
        "plt.legend()\n",
        "plt.show()\n"
      ]
    },
    {
      "cell_type": "code",
      "execution_count": null,
      "metadata": {
        "colab": {
          "base_uri": "https://localhost:8080/"
        },
        "id": "3aLg02hI2vxw",
        "outputId": "c62fdb0b-0b36-471a-c7c7-bdddd9e94c79"
      },
      "outputs": [
        {
          "name": "stdout",
          "output_type": "stream",
          "text": [
            "Predicted values are:  [[13.161388  ]\n",
            " [10.163709  ]\n",
            " [ 0.42606318]\n",
            " [ 0.33233383]\n",
            " [13.049739  ]\n",
            " [12.701723  ]\n",
            " [13.167815  ]\n",
            " [12.997355  ]\n",
            " [10.195791  ]\n",
            " [13.070933  ]]\n",
            "Real values are:  31164    13.154615\n",
            "15339    10.161854\n",
            "32055     0.446778\n",
            "30430     0.345407\n",
            "17544    12.979028\n",
            "6875     12.699931\n",
            "36585    13.130444\n",
            "38943    12.973355\n",
            "40246    10.173145\n",
            "8625     13.021007\n",
            "Name: Biomass Conc, dtype: float64\n"
          ]
        }
      ],
      "source": [
        "predictions = model.predict(X_test_scaled[:10])\n",
        "print(\"Predicted values are: \", predictions)\n",
        "print(\"Real values are: \", y_test[:10])"
      ]
    },
    {
      "cell_type": "code",
      "execution_count": null,
      "metadata": {
        "colab": {
          "base_uri": "https://localhost:8080/"
        },
        "id": "3pLpyQzz2_Aq",
        "outputId": "88993e98-3fac-4050-ba63-6a5bd9cdb355"
      },
      "outputs": [
        {
          "name": "stdout",
          "output_type": "stream",
          "text": [
            "300/300 [==============================] - 0s 947us/step - loss: 9.4980e-04 - mae: 0.0238\n",
            "Mean squared error from neural network:  0.0009497990249656141\n",
            "Mean absolute error from neural network:  0.023823576048016548\n"
          ]
        }
      ],
      "source": [
        "mse_neural, mae_neural = model.evaluate(X_test_scaled, y_test)\n",
        "print('Mean squared error from neural network: ', mse_neural)\n",
        "print('Mean absolute error from neural network: ', mae_neural)\n"
      ]
    },
    {
      "cell_type": "code",
      "execution_count": null,
      "metadata": {
        "id": "butJThul3EhT"
      },
      "outputs": [],
      "source": [
        "from sklearn import linear_model\n",
        "from sklearn.tree import DecisionTreeRegressor\n",
        "from sklearn.metrics import mean_squared_error, mean_absolute_error\n",
        "from sklearn.ensemble import RandomForestRegressor"
      ]
    },
    {
      "cell_type": "markdown",
      "metadata": {
        "id": "PPqdcT1G3i-G"
      },
      "source": [
        "# **LINEAR REGRESSION MODEL**"
      ]
    },
    {
      "cell_type": "code",
      "execution_count": null,
      "metadata": {
        "colab": {
          "background_save": true,
          "base_uri": "https://localhost:8080/"
        },
        "id": "DJwynoRRAoWc",
        "outputId": "55a2df0c-185e-4b87-8511-207948960397"
      },
      "outputs": [
        {
          "ename": "FileNotFoundError",
          "evalue": "ignored",
          "output_type": "error",
          "traceback": [
            "\u001b[0;31m---------------------------------------------------------------------------\u001b[0m",
            "\u001b[0;31mFileNotFoundError\u001b[0m                         Traceback (most recent call last)",
            "\u001b[0;32m<ipython-input-1-9865ad6d443b>\u001b[0m in \u001b[0;36m<module>\u001b[0;34m()\u001b[0m\n\u001b[1;32m      2\u001b[0m \u001b[0;32mimport\u001b[0m \u001b[0mnumpy\u001b[0m \u001b[0;32mas\u001b[0m \u001b[0mnp\u001b[0m\u001b[0;34m\u001b[0m\u001b[0;34m\u001b[0m\u001b[0m\n\u001b[1;32m      3\u001b[0m \u001b[0mdata\u001b[0m \u001b[0;34m=\u001b[0m \u001b[0;34m'/content/gdrive/My Drive/CHE SOP-DOP/1-s2.0-S1369703X18301359-mmc2.xlsx - Sheet1.csv'\u001b[0m\u001b[0;34m\u001b[0m\u001b[0;34m\u001b[0m\u001b[0m\n\u001b[0;32m----> 4\u001b[0;31m \u001b[0mdf\u001b[0m \u001b[0;34m=\u001b[0m \u001b[0mpd\u001b[0m\u001b[0;34m.\u001b[0m\u001b[0mread_csv\u001b[0m\u001b[0;34m(\u001b[0m\u001b[0mdata\u001b[0m\u001b[0;34m)\u001b[0m\u001b[0;34m\u001b[0m\u001b[0;34m\u001b[0m\u001b[0m\n\u001b[0m\u001b[1;32m      5\u001b[0m \u001b[0;34m\u001b[0m\u001b[0m\n\u001b[1;32m      6\u001b[0m \u001b[0mParameters\u001b[0m \u001b[0;34m=\u001b[0m \u001b[0;34m[\u001b[0m\u001b[0;34m'Aeration Rate'\u001b[0m\u001b[0;34m,\u001b[0m \u001b[0;34m'AgitatorPower'\u001b[0m\u001b[0;34m,\u001b[0m \u001b[0;34m'Subst Feed Conc.'\u001b[0m\u001b[0;34m,\u001b[0m \u001b[0;34m'Substrate feed T'\u001b[0m\u001b[0;34m,\u001b[0m \u001b[0;34m'Temp'\u001b[0m\u001b[0;34m,\u001b[0m \u001b[0;34m'pH'\u001b[0m\u001b[0;34m,\u001b[0m \u001b[0;34m'Dis O2 Conc.'\u001b[0m\u001b[0;34m,\u001b[0m \u001b[0;34m'CO2 Conc.'\u001b[0m\u001b[0;34m,\u001b[0m \u001b[0;34m'VOL'\u001b[0m\u001b[0;34m,\u001b[0m \u001b[0;34m'Heat'\u001b[0m\u001b[0;34m,\u001b[0m \u001b[0;34m'Peni Conc.'\u001b[0m\u001b[0;34m,\u001b[0m \u001b[0;34m'Biomass Conc'\u001b[0m\u001b[0;34m,\u001b[0m \u001b[0;34m'Substrate Conc'\u001b[0m\u001b[0;34m]\u001b[0m\u001b[0;34m\u001b[0m\u001b[0;34m\u001b[0m\u001b[0m\n",
            "\u001b[0;32m/usr/local/lib/python3.7/dist-packages/pandas/io/parsers.py\u001b[0m in \u001b[0;36mread_csv\u001b[0;34m(filepath_or_buffer, sep, delimiter, header, names, index_col, usecols, squeeze, prefix, mangle_dupe_cols, dtype, engine, converters, true_values, false_values, skipinitialspace, skiprows, skipfooter, nrows, na_values, keep_default_na, na_filter, verbose, skip_blank_lines, parse_dates, infer_datetime_format, keep_date_col, date_parser, dayfirst, cache_dates, iterator, chunksize, compression, thousands, decimal, lineterminator, quotechar, quoting, doublequote, escapechar, comment, encoding, dialect, error_bad_lines, warn_bad_lines, delim_whitespace, low_memory, memory_map, float_precision)\u001b[0m\n\u001b[1;32m    686\u001b[0m     )\n\u001b[1;32m    687\u001b[0m \u001b[0;34m\u001b[0m\u001b[0m\n\u001b[0;32m--> 688\u001b[0;31m     \u001b[0;32mreturn\u001b[0m \u001b[0m_read\u001b[0m\u001b[0;34m(\u001b[0m\u001b[0mfilepath_or_buffer\u001b[0m\u001b[0;34m,\u001b[0m \u001b[0mkwds\u001b[0m\u001b[0;34m)\u001b[0m\u001b[0;34m\u001b[0m\u001b[0;34m\u001b[0m\u001b[0m\n\u001b[0m\u001b[1;32m    689\u001b[0m \u001b[0;34m\u001b[0m\u001b[0m\n\u001b[1;32m    690\u001b[0m \u001b[0;34m\u001b[0m\u001b[0m\n",
            "\u001b[0;32m/usr/local/lib/python3.7/dist-packages/pandas/io/parsers.py\u001b[0m in \u001b[0;36m_read\u001b[0;34m(filepath_or_buffer, kwds)\u001b[0m\n\u001b[1;32m    452\u001b[0m \u001b[0;34m\u001b[0m\u001b[0m\n\u001b[1;32m    453\u001b[0m     \u001b[0;31m# Create the parser.\u001b[0m\u001b[0;34m\u001b[0m\u001b[0;34m\u001b[0m\u001b[0;34m\u001b[0m\u001b[0m\n\u001b[0;32m--> 454\u001b[0;31m     \u001b[0mparser\u001b[0m \u001b[0;34m=\u001b[0m \u001b[0mTextFileReader\u001b[0m\u001b[0;34m(\u001b[0m\u001b[0mfp_or_buf\u001b[0m\u001b[0;34m,\u001b[0m \u001b[0;34m**\u001b[0m\u001b[0mkwds\u001b[0m\u001b[0;34m)\u001b[0m\u001b[0;34m\u001b[0m\u001b[0;34m\u001b[0m\u001b[0m\n\u001b[0m\u001b[1;32m    455\u001b[0m \u001b[0;34m\u001b[0m\u001b[0m\n\u001b[1;32m    456\u001b[0m     \u001b[0;32mif\u001b[0m \u001b[0mchunksize\u001b[0m \u001b[0;32mor\u001b[0m \u001b[0miterator\u001b[0m\u001b[0;34m:\u001b[0m\u001b[0;34m\u001b[0m\u001b[0;34m\u001b[0m\u001b[0m\n",
            "\u001b[0;32m/usr/local/lib/python3.7/dist-packages/pandas/io/parsers.py\u001b[0m in \u001b[0;36m__init__\u001b[0;34m(self, f, engine, **kwds)\u001b[0m\n\u001b[1;32m    946\u001b[0m             \u001b[0mself\u001b[0m\u001b[0;34m.\u001b[0m\u001b[0moptions\u001b[0m\u001b[0;34m[\u001b[0m\u001b[0;34m\"has_index_names\"\u001b[0m\u001b[0;34m]\u001b[0m \u001b[0;34m=\u001b[0m \u001b[0mkwds\u001b[0m\u001b[0;34m[\u001b[0m\u001b[0;34m\"has_index_names\"\u001b[0m\u001b[0;34m]\u001b[0m\u001b[0;34m\u001b[0m\u001b[0;34m\u001b[0m\u001b[0m\n\u001b[1;32m    947\u001b[0m \u001b[0;34m\u001b[0m\u001b[0m\n\u001b[0;32m--> 948\u001b[0;31m         \u001b[0mself\u001b[0m\u001b[0;34m.\u001b[0m\u001b[0m_make_engine\u001b[0m\u001b[0;34m(\u001b[0m\u001b[0mself\u001b[0m\u001b[0;34m.\u001b[0m\u001b[0mengine\u001b[0m\u001b[0;34m)\u001b[0m\u001b[0;34m\u001b[0m\u001b[0;34m\u001b[0m\u001b[0m\n\u001b[0m\u001b[1;32m    949\u001b[0m \u001b[0;34m\u001b[0m\u001b[0m\n\u001b[1;32m    950\u001b[0m     \u001b[0;32mdef\u001b[0m \u001b[0mclose\u001b[0m\u001b[0;34m(\u001b[0m\u001b[0mself\u001b[0m\u001b[0;34m)\u001b[0m\u001b[0;34m:\u001b[0m\u001b[0;34m\u001b[0m\u001b[0;34m\u001b[0m\u001b[0m\n",
            "\u001b[0;32m/usr/local/lib/python3.7/dist-packages/pandas/io/parsers.py\u001b[0m in \u001b[0;36m_make_engine\u001b[0;34m(self, engine)\u001b[0m\n\u001b[1;32m   1178\u001b[0m     \u001b[0;32mdef\u001b[0m \u001b[0m_make_engine\u001b[0m\u001b[0;34m(\u001b[0m\u001b[0mself\u001b[0m\u001b[0;34m,\u001b[0m \u001b[0mengine\u001b[0m\u001b[0;34m=\u001b[0m\u001b[0;34m\"c\"\u001b[0m\u001b[0;34m)\u001b[0m\u001b[0;34m:\u001b[0m\u001b[0;34m\u001b[0m\u001b[0;34m\u001b[0m\u001b[0m\n\u001b[1;32m   1179\u001b[0m         \u001b[0;32mif\u001b[0m \u001b[0mengine\u001b[0m \u001b[0;34m==\u001b[0m \u001b[0;34m\"c\"\u001b[0m\u001b[0;34m:\u001b[0m\u001b[0;34m\u001b[0m\u001b[0;34m\u001b[0m\u001b[0m\n\u001b[0;32m-> 1180\u001b[0;31m             \u001b[0mself\u001b[0m\u001b[0;34m.\u001b[0m\u001b[0m_engine\u001b[0m \u001b[0;34m=\u001b[0m \u001b[0mCParserWrapper\u001b[0m\u001b[0;34m(\u001b[0m\u001b[0mself\u001b[0m\u001b[0;34m.\u001b[0m\u001b[0mf\u001b[0m\u001b[0;34m,\u001b[0m \u001b[0;34m**\u001b[0m\u001b[0mself\u001b[0m\u001b[0;34m.\u001b[0m\u001b[0moptions\u001b[0m\u001b[0;34m)\u001b[0m\u001b[0;34m\u001b[0m\u001b[0;34m\u001b[0m\u001b[0m\n\u001b[0m\u001b[1;32m   1181\u001b[0m         \u001b[0;32melse\u001b[0m\u001b[0;34m:\u001b[0m\u001b[0;34m\u001b[0m\u001b[0;34m\u001b[0m\u001b[0m\n\u001b[1;32m   1182\u001b[0m             \u001b[0;32mif\u001b[0m \u001b[0mengine\u001b[0m \u001b[0;34m==\u001b[0m \u001b[0;34m\"python\"\u001b[0m\u001b[0;34m:\u001b[0m\u001b[0;34m\u001b[0m\u001b[0;34m\u001b[0m\u001b[0m\n",
            "\u001b[0;32m/usr/local/lib/python3.7/dist-packages/pandas/io/parsers.py\u001b[0m in \u001b[0;36m__init__\u001b[0;34m(self, src, **kwds)\u001b[0m\n\u001b[1;32m   2008\u001b[0m         \u001b[0mkwds\u001b[0m\u001b[0;34m[\u001b[0m\u001b[0;34m\"usecols\"\u001b[0m\u001b[0;34m]\u001b[0m \u001b[0;34m=\u001b[0m \u001b[0mself\u001b[0m\u001b[0;34m.\u001b[0m\u001b[0musecols\u001b[0m\u001b[0;34m\u001b[0m\u001b[0;34m\u001b[0m\u001b[0m\n\u001b[1;32m   2009\u001b[0m \u001b[0;34m\u001b[0m\u001b[0m\n\u001b[0;32m-> 2010\u001b[0;31m         \u001b[0mself\u001b[0m\u001b[0;34m.\u001b[0m\u001b[0m_reader\u001b[0m \u001b[0;34m=\u001b[0m \u001b[0mparsers\u001b[0m\u001b[0;34m.\u001b[0m\u001b[0mTextReader\u001b[0m\u001b[0;34m(\u001b[0m\u001b[0msrc\u001b[0m\u001b[0;34m,\u001b[0m \u001b[0;34m**\u001b[0m\u001b[0mkwds\u001b[0m\u001b[0;34m)\u001b[0m\u001b[0;34m\u001b[0m\u001b[0;34m\u001b[0m\u001b[0m\n\u001b[0m\u001b[1;32m   2011\u001b[0m         \u001b[0mself\u001b[0m\u001b[0;34m.\u001b[0m\u001b[0munnamed_cols\u001b[0m \u001b[0;34m=\u001b[0m \u001b[0mself\u001b[0m\u001b[0;34m.\u001b[0m\u001b[0m_reader\u001b[0m\u001b[0;34m.\u001b[0m\u001b[0munnamed_cols\u001b[0m\u001b[0;34m\u001b[0m\u001b[0;34m\u001b[0m\u001b[0m\n\u001b[1;32m   2012\u001b[0m \u001b[0;34m\u001b[0m\u001b[0m\n",
            "\u001b[0;32mpandas/_libs/parsers.pyx\u001b[0m in \u001b[0;36mpandas._libs.parsers.TextReader.__cinit__\u001b[0;34m()\u001b[0m\n",
            "\u001b[0;32mpandas/_libs/parsers.pyx\u001b[0m in \u001b[0;36mpandas._libs.parsers.TextReader._setup_parser_source\u001b[0;34m()\u001b[0m\n",
            "\u001b[0;31mFileNotFoundError\u001b[0m: [Errno 2] No such file or directory: '/content/gdrive/My Drive/CHE SOP-DOP/1-s2.0-S1369703X18301359-mmc2.xlsx - Sheet1.csv'"
          ]
        }
      ],
      "source": [
        "import pandas as pd\n",
        "import numpy as np\n",
        "data = '/content/gdrive/My Drive/CHE SOP-DOP/1-s2.0-S1369703X18301359-mmc2.xlsx - Sheet1.csv'\n",
        "df = pd.read_csv(data)\n",
        "\n",
        "Parameters = ['Aeration Rate', 'AgitatorPower', 'Subst Feed Conc.', 'Substrate feed T', 'Temp', 'pH', 'Dis O2 Conc.', 'CO2 Conc.', 'VOL', 'Heat', 'Peni Conc.', 'Biomass Conc', 'Substrate Conc']\n",
        "df.columns = Parameters\n",
        "print(df.head())\n",
        "\n"
      ]
    },
    {
      "cell_type": "code",
      "execution_count": null,
      "metadata": {
        "colab": {
          "background_save": true
        },
        "id": "HufZnE0gL_ep"
      },
      "outputs": [],
      "source": [
        "X = df.drop(['Peni Conc.', 'Biomass Conc', 'Substrate Conc'], axis=1)\n",
        "y = df['Biomass Conc']"
      ]
    },
    {
      "cell_type": "code",
      "execution_count": null,
      "metadata": {
        "colab": {
          "background_save": true
        },
        "id": "U4QEaSPoMATp"
      },
      "outputs": [],
      "source": [
        "print(X)"
      ]
    },
    {
      "cell_type": "code",
      "execution_count": null,
      "metadata": {
        "colab": {
          "background_save": true
        },
        "id": "uWDxosVbMCVn"
      },
      "outputs": [],
      "source": [
        "print(y)"
      ]
    },
    {
      "cell_type": "code",
      "execution_count": null,
      "metadata": {
        "colab": {
          "background_save": true
        },
        "id": "Obomd9pNMEys"
      },
      "outputs": [],
      "source": [
        "from sklearn.model_selection import train_test_split\n",
        "X_train,X_test,y_train,y_test=train_test_split(X,y, test_size=0.3, random_state=0)\n"
      ]
    },
    {
      "cell_type": "code",
      "execution_count": null,
      "metadata": {
        "colab": {
          "background_save": true
        },
        "id": "rRFuIS09MGhu"
      },
      "outputs": [],
      "source": [
        "from sklearn.linear_model import LinearRegression\n",
        "ml=LinearRegression()\n",
        "ml.fit(X_train,y_train)\n"
      ]
    },
    {
      "cell_type": "code",
      "execution_count": null,
      "metadata": {
        "colab": {
          "background_save": true
        },
        "id": "shSgbE4fMId5"
      },
      "outputs": [],
      "source": [
        "y_pred=ml.predict(X_test)\n",
        "print(y_pred)\n"
      ]
    },
    {
      "cell_type": "code",
      "execution_count": null,
      "metadata": {
        "colab": {
          "background_save": true
        },
        "id": "lWULCEuvMKTi"
      },
      "outputs": [],
      "source": [
        "from sklearn.metrics import r2_score\n",
        "r2_score(y_test,y_pred)\n"
      ]
    },
    {
      "cell_type": "code",
      "execution_count": null,
      "metadata": {
        "colab": {
          "background_save": true
        },
        "id": "U5v8M7NZMRQ_"
      },
      "outputs": [],
      "source": [
        "import matplotlib.pyplot as plt \n",
        "plt.figure(figsize=(10,5))\n",
        "plt.scatter(y_test, y_pred)\n",
        "plt.xlabel('Actual Biomass Concentration')\n",
        "plt.ylabel('Predicted Biomass Concentration')\n",
        "plt.title('Biomass Concentration: Actual vs Predicted')\n"
      ]
    },
    {
      "cell_type": "code",
      "execution_count": null,
      "metadata": {
        "colab": {
          "background_save": true
        },
        "id": "Zc31rsqDMTxz"
      },
      "outputs": [],
      "source": [
        "pred_y_df=pd.DataFrame({'Actual Value':y_test, 'Predicted Value':y_pred, 'Difference':y_test-y_pred})\n",
        "pred_y_df[0:10]\n"
      ]
    },
    {
      "cell_type": "code",
      "execution_count": null,
      "metadata": {
        "colab": {
          "background_save": true
        },
        "id": "cE3F_tq-MWFh"
      },
      "outputs": [],
      "source": [
        "from sklearn import linear_model\n",
        "from sklearn.tree import DecisionTreeRegressor\n",
        "from sklearn.metrics import mean_squared_error, mean_absolute_error\n",
        "from sklearn.ensemble import RandomForestRegressor\n",
        "lr_model = linear_model.LinearRegression()\n",
        "lr_model.fit(X_train, y_train)\n",
        "y_pred_lr = lr_model.predict(X_test)\n",
        "mse_lr = mean_squared_error(y_test, y_pred_lr)\n",
        "mae_lr = mean_absolute_error(y_test, y_pred_lr)\n",
        "print('Mean squared error from linear regression: ', mse_lr)\n",
        "print('Mean absolute error from linear regression: ', mae_lr)\n"
      ]
    },
    {
      "cell_type": "code",
      "execution_count": null,
      "metadata": {
        "colab": {
          "background_save": true
        },
        "id": "E3R2V-3jqpKS"
      },
      "outputs": [],
      "source": [
        "from statsmodels.api import OLS\n",
        "from statsmodels.api import add_constant\n",
        "X_train = add_constant(X_train)\n",
        "OLS(y_train, X_train).fit().summary()"
      ]
    },
    {
      "cell_type": "markdown",
      "metadata": {
        "id": "guXZz8c1MZYS"
      },
      "source": [
        "# **RANDOM FOREST REGRESSION MODEL**"
      ]
    },
    {
      "cell_type": "code",
      "execution_count": null,
      "metadata": {
        "colab": {
          "base_uri": "https://localhost:8080/"
        },
        "id": "fs0BmDmhMYSv",
        "outputId": "b51ecdb2-e13e-4993-f2da-4f1a7f0f5add"
      },
      "outputs": [
        {
          "name": "stdout",
          "output_type": "stream",
          "text": [
            "   Aeration Rate  AgitatorPower  ...  Biomass Conc  Substrate Conc\n",
            "0       7.997728      29.666590  ...      0.100000       15.000000\n",
            "1       7.786650      30.725216  ...      0.105235       14.989514\n",
            "2       7.667642      30.741825  ...      0.110740       14.978389\n",
            "3       7.641116      30.311470  ...      0.116530       14.966589\n",
            "4       8.304563      29.958562  ...      0.122621       14.954077\n",
            "\n",
            "[5 rows x 13 columns]\n"
          ]
        }
      ],
      "source": [
        "import pandas as pd\n",
        "import numpy as np\n",
        "import matplotlib.pyplot as plt \n",
        "data = '/content/gdrive/My Drive/CHE SOP-DOP/1-s2.0-S1369703X18301359-mmc2.xlsx - Sheet1.csv'\n",
        "df = pd.read_csv(data)\n",
        "\n",
        "Parameters = ['Aeration Rate', 'AgitatorPower', 'Subst Feed Conc.', 'Substrate feed T', 'Temp', 'pH', 'Dis O2 Conc.', 'CO2 Conc.', 'VOL', 'Heat', 'Peni Conc.', 'Biomass Conc', 'Substrate Conc']\n",
        "df.columns = Parameters\n",
        "print(df.head())\n"
      ]
    },
    {
      "cell_type": "code",
      "execution_count": null,
      "metadata": {
        "id": "X_IBOosNMfFI"
      },
      "outputs": [],
      "source": [
        "X = df.drop(['Peni Conc.', 'Biomass Conc', 'Substrate Conc'], axis=1)\n",
        "y = df['Biomass Conc']"
      ]
    },
    {
      "cell_type": "code",
      "execution_count": null,
      "metadata": {
        "id": "PJMmFrZmMmjb"
      },
      "outputs": [],
      "source": [
        "from sklearn.model_selection import train_test_split\n",
        "X_train,X_test,y_train,y_test=train_test_split(X,y, test_size=0.3, random_state=0)\n"
      ]
    },
    {
      "cell_type": "code",
      "execution_count": null,
      "metadata": {
        "colab": {
          "base_uri": "https://localhost:8080/"
        },
        "id": "s9ga_tPqMoN6",
        "outputId": "015e38d4-4239-4610-d3a6-9c0537c38443"
      },
      "outputs": [
        {
          "data": {
            "text/plain": [
              "RandomForestRegressor(bootstrap=True, ccp_alpha=0.0, criterion='mse',\n",
              "                      max_depth=None, max_features='auto', max_leaf_nodes=None,\n",
              "                      max_samples=None, min_impurity_decrease=0.0,\n",
              "                      min_impurity_split=None, min_samples_leaf=1,\n",
              "                      min_samples_split=2, min_weight_fraction_leaf=0.0,\n",
              "                      n_estimators=500, n_jobs=None, oob_score=False,\n",
              "                      random_state=0, verbose=0, warm_start=False)"
            ]
          },
          "execution_count": 72,
          "metadata": {
            "tags": []
          },
          "output_type": "execute_result"
        }
      ],
      "source": [
        "#Import the Random Forest Regressor \n",
        "from sklearn.ensemble import RandomForestRegressor   \n",
        "  \n",
        "#Create a Random Forest regressor object from Random Forest Regressor class\n",
        "RFReg = RandomForestRegressor(n_estimators = 500, random_state = 0)\n",
        "  \n",
        "#Fit the random forest regressor with training data represented by X_train and y_train\n",
        "RFReg.fit(X_train, y_train)\n"
      ]
    },
    {
      "cell_type": "code",
      "execution_count": null,
      "metadata": {
        "colab": {
          "base_uri": "https://localhost:8080/"
        },
        "id": "vo26Cfv9MqDH",
        "outputId": "d49b4e74-0d44-4eda-e86e-79fdd7166409"
      },
      "outputs": [
        {
          "name": "stdout",
          "output_type": "stream",
          "text": [
            "R-Square Error associated with Random Forest Regression is: 0.9999689894754747\n"
          ]
        }
      ],
      "source": [
        "#Predicted Height from test dataset w.r.t Random Forest Regression\n",
        "y_predict_rfr = RFReg.predict((X_test))\n",
        "\n",
        "#Model Evaluation using R-Square for Random Forest Regression\n",
        "from sklearn import metrics\n",
        "r_square = metrics.r2_score(y_test, y_predict_rfr)\n",
        "print('R-Square Error associated with Random Forest Regression is:', r_square)\n"
      ]
    },
    {
      "cell_type": "code",
      "execution_count": null,
      "metadata": {
        "colab": {
          "base_uri": "https://localhost:8080/",
          "height": 367
        },
        "id": "B2nyx6FaMsMY",
        "outputId": "af2db8ae-54a0-4b4e-f4d2-8f47fafb51f7"
      },
      "outputs": [
        {
          "data": {
            "text/plain": [
              "Text(0.5, 1.0, 'Biomass Concentration: Actual vs Predicted using Random Forest Regression')"
            ]
          },
          "execution_count": 88,
          "metadata": {
            "tags": []
          },
          "output_type": "execute_result"
        },
        {
          "data": {
            "image/png": "[encoded data removed]",
            "text/plain": [
              "<Figure size 720x360 with 1 Axes>"
            ]
          },
          "metadata": {
            "tags": []
          },
          "output_type": "display_data"
        }
      ],
      "source": [
        "plt.figure(figsize=(10,5))\n",
        "plt.scatter(y_test, y_predict_rfr)\n",
        "plt.xlabel('Actual Biomass Concentration')\n",
        "plt.ylabel('Predicted Biomass Concentration')\n",
        "plt.title('Biomass Concentration: Actual vs Predicted using Random Forest Regression')\n"
      ]
    },
    {
      "cell_type": "code",
      "execution_count": null,
      "metadata": {
        "colab": {
          "base_uri": "https://localhost:8080/",
          "height": 1000
        },
        "id": "6pzXytkBMuNv",
        "outputId": "0f231376-90be-4a4c-a32e-efc564084fe6"
      },
      "outputs": [
        {
          "data": {
            "text/html": [
              "<div>\n",
              "<style scoped>\n",
              "    .dataframe tbody tr th:only-of-type {\n",
              "        vertical-align: middle;\n",
              "    }\n",
              "\n",
              "    .dataframe tbody tr th {\n",
              "        vertical-align: top;\n",
              "    }\n",
              "\n",
              "    .dataframe thead th {\n",
              "        text-align: right;\n",
              "    }\n",
              "</style>\n",
              "<table border=\"1\" class=\"dataframe\">\n",
              "  <thead>\n",
              "    <tr style=\"text-align: right;\">\n",
              "      <th></th>\n",
              "      <th>Actual Value</th>\n",
              "      <th>Predicted Value</th>\n",
              "      <th>Difference</th>\n",
              "    </tr>\n",
              "  </thead>\n",
              "  <tbody>\n",
              "    <tr>\n",
              "      <th>37957</th>\n",
              "      <td>12.470112</td>\n",
              "      <td>12.441208</td>\n",
              "      <td>0.028903</td>\n",
              "    </tr>\n",
              "    <tr>\n",
              "      <th>45965</th>\n",
              "      <td>13.109609</td>\n",
              "      <td>13.110500</td>\n",
              "      <td>-0.000891</td>\n",
              "    </tr>\n",
              "    <tr>\n",
              "      <th>33541</th>\n",
              "      <td>13.054118</td>\n",
              "      <td>13.043132</td>\n",
              "      <td>0.010986</td>\n",
              "    </tr>\n",
              "    <tr>\n",
              "      <th>9905</th>\n",
              "      <td>11.415595</td>\n",
              "      <td>11.391619</td>\n",
              "      <td>0.023976</td>\n",
              "    </tr>\n",
              "    <tr>\n",
              "      <th>9472</th>\n",
              "      <td>12.949333</td>\n",
              "      <td>12.952003</td>\n",
              "      <td>-0.002670</td>\n",
              "    </tr>\n",
              "    <tr>\n",
              "      <th>23682</th>\n",
              "      <td>13.008011</td>\n",
              "      <td>12.980701</td>\n",
              "      <td>0.027310</td>\n",
              "    </tr>\n",
              "    <tr>\n",
              "      <th>12880</th>\n",
              "      <td>3.887685</td>\n",
              "      <td>3.898110</td>\n",
              "      <td>-0.010425</td>\n",
              "    </tr>\n",
              "    <tr>\n",
              "      <th>786</th>\n",
              "      <td>13.064879</td>\n",
              "      <td>13.070671</td>\n",
              "      <td>-0.005792</td>\n",
              "    </tr>\n",
              "    <tr>\n",
              "      <th>3015</th>\n",
              "      <td>13.220514</td>\n",
              "      <td>13.219937</td>\n",
              "      <td>0.000576</td>\n",
              "    </tr>\n",
              "    <tr>\n",
              "      <th>37111</th>\n",
              "      <td>12.324558</td>\n",
              "      <td>12.292767</td>\n",
              "      <td>0.031791</td>\n",
              "    </tr>\n",
              "    <tr>\n",
              "      <th>18801</th>\n",
              "      <td>13.298321</td>\n",
              "      <td>13.295582</td>\n",
              "      <td>0.002739</td>\n",
              "    </tr>\n",
              "    <tr>\n",
              "      <th>7791</th>\n",
              "      <td>12.932661</td>\n",
              "      <td>12.937131</td>\n",
              "      <td>-0.004471</td>\n",
              "    </tr>\n",
              "    <tr>\n",
              "      <th>28516</th>\n",
              "      <td>12.591535</td>\n",
              "      <td>12.604068</td>\n",
              "      <td>-0.012533</td>\n",
              "    </tr>\n",
              "    <tr>\n",
              "      <th>5153</th>\n",
              "      <td>12.874878</td>\n",
              "      <td>12.860955</td>\n",
              "      <td>0.013922</td>\n",
              "    </tr>\n",
              "    <tr>\n",
              "      <th>8611</th>\n",
              "      <td>13.021764</td>\n",
              "      <td>13.022678</td>\n",
              "      <td>-0.000914</td>\n",
              "    </tr>\n",
              "    <tr>\n",
              "      <th>13066</th>\n",
              "      <td>12.300916</td>\n",
              "      <td>12.302355</td>\n",
              "      <td>-0.001439</td>\n",
              "    </tr>\n",
              "    <tr>\n",
              "      <th>30167</th>\n",
              "      <td>13.270376</td>\n",
              "      <td>13.270364</td>\n",
              "      <td>0.000012</td>\n",
              "    </tr>\n",
              "    <tr>\n",
              "      <th>33586</th>\n",
              "      <td>13.004335</td>\n",
              "      <td>13.001952</td>\n",
              "      <td>0.002383</td>\n",
              "    </tr>\n",
              "    <tr>\n",
              "      <th>9068</th>\n",
              "      <td>9.255376</td>\n",
              "      <td>9.313433</td>\n",
              "      <td>-0.058056</td>\n",
              "    </tr>\n",
              "    <tr>\n",
              "      <th>2545</th>\n",
              "      <td>11.948087</td>\n",
              "      <td>11.955318</td>\n",
              "      <td>-0.007232</td>\n",
              "    </tr>\n",
              "    <tr>\n",
              "      <th>21500</th>\n",
              "      <td>13.026026</td>\n",
              "      <td>13.023521</td>\n",
              "      <td>0.002506</td>\n",
              "    </tr>\n",
              "    <tr>\n",
              "      <th>14180</th>\n",
              "      <td>12.930546</td>\n",
              "      <td>12.935422</td>\n",
              "      <td>-0.004876</td>\n",
              "    </tr>\n",
              "    <tr>\n",
              "      <th>7070</th>\n",
              "      <td>12.883716</td>\n",
              "      <td>12.882607</td>\n",
              "      <td>0.001109</td>\n",
              "    </tr>\n",
              "    <tr>\n",
              "      <th>34866</th>\n",
              "      <td>12.877067</td>\n",
              "      <td>12.869605</td>\n",
              "      <td>0.007463</td>\n",
              "    </tr>\n",
              "    <tr>\n",
              "      <th>19627</th>\n",
              "      <td>12.169699</td>\n",
              "      <td>12.198109</td>\n",
              "      <td>-0.028410</td>\n",
              "    </tr>\n",
              "    <tr>\n",
              "      <th>25421</th>\n",
              "      <td>12.901137</td>\n",
              "      <td>12.899610</td>\n",
              "      <td>0.001527</td>\n",
              "    </tr>\n",
              "    <tr>\n",
              "      <th>2870</th>\n",
              "      <td>13.283066</td>\n",
              "      <td>13.282166</td>\n",
              "      <td>0.000899</td>\n",
              "    </tr>\n",
              "    <tr>\n",
              "      <th>8729</th>\n",
              "      <td>13.017688</td>\n",
              "      <td>13.009524</td>\n",
              "      <td>0.008164</td>\n",
              "    </tr>\n",
              "    <tr>\n",
              "      <th>28490</th>\n",
              "      <td>12.459818</td>\n",
              "      <td>12.477724</td>\n",
              "      <td>-0.017906</td>\n",
              "    </tr>\n",
              "    <tr>\n",
              "      <th>13603</th>\n",
              "      <td>0.097073</td>\n",
              "      <td>0.075292</td>\n",
              "      <td>0.021781</td>\n",
              "    </tr>\n",
              "    <tr>\n",
              "      <th>20751</th>\n",
              "      <td>12.920123</td>\n",
              "      <td>12.916296</td>\n",
              "      <td>0.003827</td>\n",
              "    </tr>\n",
              "    <tr>\n",
              "      <th>32480</th>\n",
              "      <td>12.837601</td>\n",
              "      <td>12.834623</td>\n",
              "      <td>0.002978</td>\n",
              "    </tr>\n",
              "    <tr>\n",
              "      <th>44681</th>\n",
              "      <td>13.146847</td>\n",
              "      <td>13.141620</td>\n",
              "      <td>0.005227</td>\n",
              "    </tr>\n",
              "    <tr>\n",
              "      <th>44478</th>\n",
              "      <td>13.400856</td>\n",
              "      <td>13.402125</td>\n",
              "      <td>-0.001269</td>\n",
              "    </tr>\n",
              "    <tr>\n",
              "      <th>5517</th>\n",
              "      <td>13.118976</td>\n",
              "      <td>13.115964</td>\n",
              "      <td>0.003012</td>\n",
              "    </tr>\n",
              "    <tr>\n",
              "      <th>39426</th>\n",
              "      <td>10.035332</td>\n",
              "      <td>10.037795</td>\n",
              "      <td>-0.002463</td>\n",
              "    </tr>\n",
              "    <tr>\n",
              "      <th>2747</th>\n",
              "      <td>13.078226</td>\n",
              "      <td>13.078713</td>\n",
              "      <td>-0.000487</td>\n",
              "    </tr>\n",
              "    <tr>\n",
              "      <th>21574</th>\n",
              "      <td>12.943140</td>\n",
              "      <td>12.951296</td>\n",
              "      <td>-0.008156</td>\n",
              "    </tr>\n",
              "    <tr>\n",
              "      <th>2307</th>\n",
              "      <td>13.095117</td>\n",
              "      <td>13.074960</td>\n",
              "      <td>0.020156</td>\n",
              "    </tr>\n",
              "    <tr>\n",
              "      <th>18996</th>\n",
              "      <td>13.353645</td>\n",
              "      <td>13.354522</td>\n",
              "      <td>-0.000877</td>\n",
              "    </tr>\n",
              "  </tbody>\n",
              "</table>\n",
              "</div>"
            ],
            "text/plain": [
              "       Actual Value  Predicted Value  Difference\n",
              "37957     12.470112        12.441208    0.028903\n",
              "45965     13.109609        13.110500   -0.000891\n",
              "33541     13.054118        13.043132    0.010986\n",
              "9905      11.415595        11.391619    0.023976\n",
              "9472      12.949333        12.952003   -0.002670\n",
              "23682     13.008011        12.980701    0.027310\n",
              "12880      3.887685         3.898110   -0.010425\n",
              "786       13.064879        13.070671   -0.005792\n",
              "3015      13.220514        13.219937    0.000576\n",
              "37111     12.324558        12.292767    0.031791\n",
              "18801     13.298321        13.295582    0.002739\n",
              "7791      12.932661        12.937131   -0.004471\n",
              "28516     12.591535        12.604068   -0.012533\n",
              "5153      12.874878        12.860955    0.013922\n",
              "8611      13.021764        13.022678   -0.000914\n",
              "13066     12.300916        12.302355   -0.001439\n",
              "30167     13.270376        13.270364    0.000012\n",
              "33586     13.004335        13.001952    0.002383\n",
              "9068       9.255376         9.313433   -0.058056\n",
              "2545      11.948087        11.955318   -0.007232\n",
              "21500     13.026026        13.023521    0.002506\n",
              "14180     12.930546        12.935422   -0.004876\n",
              "7070      12.883716        12.882607    0.001109\n",
              "34866     12.877067        12.869605    0.007463\n",
              "19627     12.169699        12.198109   -0.028410\n",
              "25421     12.901137        12.899610    0.001527\n",
              "2870      13.283066        13.282166    0.000899\n",
              "8729      13.017688        13.009524    0.008164\n",
              "28490     12.459818        12.477724   -0.017906\n",
              "13603      0.097073         0.075292    0.021781\n",
              "20751     12.920123        12.916296    0.003827\n",
              "32480     12.837601        12.834623    0.002978\n",
              "44681     13.146847        13.141620    0.005227\n",
              "44478     13.400856        13.402125   -0.001269\n",
              "5517      13.118976        13.115964    0.003012\n",
              "39426     10.035332        10.037795   -0.002463\n",
              "2747      13.078226        13.078713   -0.000487\n",
              "21574     12.943140        12.951296   -0.008156\n",
              "2307      13.095117        13.074960    0.020156\n",
              "18996     13.353645        13.354522   -0.000877"
            ]
          },
          "execution_count": 76,
          "metadata": {
            "tags": []
          },
          "output_type": "execute_result"
        }
      ],
      "source": [
        "pred_y_df=pd.DataFrame({'Actual Value' :y_test, 'Predicted Value' :y_predict_rfr, 'Difference' :y_test-y_predict_rfr})\n",
        "pred_y_df[0:40]\n"
      ]
    },
    {
      "cell_type": "code",
      "execution_count": null,
      "metadata": {
        "colab": {
          "base_uri": "https://localhost:8080/"
        },
        "id": "AmhVKLF2MwGj",
        "outputId": "4a7aacf1-813c-430a-85fc-4497460d5d14"
      },
      "outputs": [
        {
          "name": "stdout",
          "output_type": "stream",
          "text": [
            "Mean squared error for Random Forest Regression for Penicillin Concentration:  0.0004249660606769363\n",
            "Mean absolute error for Random Forest Regression for Penicillin Concentration:  0.01354807909790831\n"
          ]
        }
      ],
      "source": [
        "from sklearn import linear_model\n",
        "from sklearn.tree import DecisionTreeRegressor\n",
        "from sklearn.metrics import mean_squared_error, mean_absolute_error\n",
        "from sklearn.ensemble import RandomForestRegressor\n",
        "\n",
        "model = RandomForestRegressor(n_estimators=500, random_state=0)\n",
        "model.fit(X_train, y_train)\n",
        "y_pred_rf = model.predict(X_test)\n",
        "mse_rf = mean_squared_error(y_test, y_pred_rf)\n",
        "mae_rf = mean_absolute_error(y_test, y_pred_rf)\n",
        "print('Mean squared error for Random Forest Regression for Biomass Concentration: ', mse_rf)\n",
        "print('Mean absolute error for Random Forest Regression for Biomass Concentration: ', mae_rf)\n"
      ]
    },
    {
      "cell_type": "code",
      "execution_count": null,
      "metadata": {
        "colab": {
          "base_uri": "https://localhost:8080/"
        },
        "id": "kCgnob1cMyom",
        "outputId": "55490a4d-cfac-4656-c072-ba46027a2ecb"
      },
      "outputs": [
        {
          "name": "stdout",
          "output_type": "stream",
          "text": [
            "Temp                0.000003\n",
            "Substrate feed T    0.000003\n",
            "pH                  0.000003\n",
            "Dis O2 Conc.        0.000013\n",
            "Subst Feed Conc.    0.000015\n",
            "CO2 Conc.           0.000016\n",
            "Aeration Rate       0.000021\n",
            "AgitatorPower       0.000041\n",
            "VOL                 0.000065\n",
            "Heat                0.999819\n",
            "dtype: float64\n"
          ]
        }
      ],
      "source": [
        "import pandas as pd\n",
        "Parameters_list = list(X.columns)\n",
        "Parameters_imp = pd.Series(model.feature_importances_,index=Parameters_list).sort_values()\n",
        "print(Parameters_imp)"
      ]
    }
  ],
  "metadata": {
    "colab": {
      "name": "BIOMASS CONC.ipynb",
      "provenance": [],
      "include_colab_link": true
    },
    "kernelspec": {
      "display_name": "Python 3",
      "name": "python3"
    },
    "language_info": {
      "name": "python"
    }
  },
  "nbformat": 4,
  "nbformat_minor": 0
}