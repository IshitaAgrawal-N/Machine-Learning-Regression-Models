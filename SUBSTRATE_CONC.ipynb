{
  "nbformat": 4,
  "nbformat_minor": 0,
  "metadata": {
    "colab": {
      "name": "SUBSTRATE CONC.ipynb",
      "provenance": [],
      "authorship_tag": "ABX9TyMBidMK4eV5WNblsllQeNEW",
      "include_colab_link": true
    },
    "kernelspec": {
      "name": "python3",
      "display_name": "Python 3"
    },
    "language_info": {
      "name": "python"
    }
  },
  "cells": [
    {
      "cell_type": "markdown",
      "metadata": {
        "id": "view-in-github",
        "colab_type": "text"
      },
      "source": [
        "<a href=\"https://colab.research.google.com/github/IshitaAgrawal-N/Machine-Learning-Regression-Models/blob/main/SUBSTRATE_CONC.ipynb\" target=\"_parent\"><img src=\"https://colab.research.google.com/assets/colab-badge.svg\" alt=\"Open In Colab\"/></a>"
      ]
    },
    {
      "cell_type": "code",
      "metadata": {
        "colab": {
          "base_uri": "https://localhost:8080/"
        },
        "id": "O4lzVUqpzBMb",
        "outputId": "655c9518-be6f-4187-ffdf-d29d87488c78"
      },
      "source": [
        "from google.colab import drive\n",
        "\n",
        "drive.mount('/content/gdrive')\n"
      ],
      "execution_count": null,
      "outputs": [
        {
          "output_type": "stream",
          "text": [
            "Mounted at /content/gdrive\n"
          ],
          "name": "stdout"
        }
      ]
    },
    {
      "cell_type": "markdown",
      "metadata": {
        "id": "AnhjlUZy3Wc8"
      },
      "source": [
        "# **NEURAL NETWORK MODEL**"
      ]
    },
    {
      "cell_type": "code",
      "metadata": {
        "id": "qP4uPZtnzNth",
        "colab": {
          "base_uri": "https://localhost:8080/"
        },
        "outputId": "c2d3ee38-158f-49d6-c2d3-8534066a6b52"
      },
      "source": [
        "from sklearn.model_selection import cross_val_score\n",
        "from sklearn.model_selection import train_test_split\n",
        "\n",
        "from sklearn.model_selection import KFold\n",
        "from sklearn.pipeline import Pipeline\n",
        "import pandas as pd\n",
        "from keras.models import Sequential\n",
        "from keras.layers import Dense\n",
        "from keras.wrappers.scikit_learn import KerasRegressor\n",
        "\n",
        "data = '/content/gdrive/My Drive/CHE SOP-DOP/1-s2.0-S1369703X18301359-mmc2.xlsx - Sheet1.csv'\n",
        "df = pd.read_csv(data)\n",
        "\n",
        "Parameters = ['Aeration Rate', 'AgitatorPower', 'Subst Feed Conc.', 'Substrate feed T', 'Temp', 'pH', 'Dis O2 Conc.', 'CO2 Conc.', 'VOL', 'Heat', 'Peni Conc.', 'Biomass Conc', 'Substrate Conc']\n",
        "df.columns = Parameters\n",
        "print(df.head())\n"
      ],
      "execution_count": null,
      "outputs": [
        {
          "output_type": "stream",
          "text": [
            "   Aeration Rate  AgitatorPower  ...  Biomass Conc  Substrate Conc\n",
            "0       7.997728      29.666590  ...      0.100000       15.000000\n",
            "1       7.786650      30.725216  ...      0.105235       14.989514\n",
            "2       7.667642      30.741825  ...      0.110740       14.978389\n",
            "3       7.641116      30.311470  ...      0.116530       14.966589\n",
            "4       8.304563      29.958562  ...      0.122621       14.954077\n",
            "\n",
            "[5 rows x 13 columns]\n"
          ],
          "name": "stdout"
        }
      ]
    },
    {
      "cell_type": "code",
      "metadata": {
        "colab": {
          "base_uri": "https://localhost:8080/"
        },
        "id": "INJ9CswQzT1c",
        "outputId": "a81d04e9-3187-436a-c86a-cfb2229b9dbc"
      },
      "source": [
        "print(df.describe())"
      ],
      "execution_count": null,
      "outputs": [
        {
          "output_type": "stream",
          "text": [
            "       Aeration Rate  AgitatorPower  ...  Biomass Conc  Substrate Conc\n",
            "count   48000.000000   48000.000000  ...  48000.000000    48000.000000\n",
            "mean        7.174676      33.084610  ...     10.997847        2.043106\n",
            "std         1.087719       4.223971  ...      3.718742        6.038446\n",
            "min         4.653990      23.979445  ...      0.000634       -0.010375\n",
            "25%         6.262741      30.008750  ...     10.912407        0.012933\n",
            "50%         7.289793      33.304819  ...     12.793935        0.022299\n",
            "75%         8.044820      36.443006  ...     13.080617        0.057500\n",
            "max         9.446993      40.697969  ...     13.489368       29.336738\n",
            "\n",
            "[8 rows x 13 columns]\n"
          ],
          "name": "stdout"
        }
      ]
    },
    {
      "cell_type": "code",
      "metadata": {
        "id": "XHuTblA-zV9E"
      },
      "source": [
        "X = df.drop(['Peni Conc.', 'Biomass Conc', 'Substrate Conc'], axis=1)\n",
        "y = df['Substrate Conc']"
      ],
      "execution_count": null,
      "outputs": []
    },
    {
      "cell_type": "code",
      "metadata": {
        "id": "a785LCpZze0u",
        "colab": {
          "base_uri": "https://localhost:8080/"
        },
        "outputId": "a2564a65-95bb-495e-bf26-ddc3137ed1b8"
      },
      "source": [
        "print(X)\n",
        "\n"
      ],
      "execution_count": null,
      "outputs": [
        {
          "output_type": "stream",
          "text": [
            "       Aeration Rate  AgitatorPower  ...         VOL       Heat\n",
            "0           7.997728      29.666590  ...  100.000000   0.008368\n",
            "1           7.786650      30.725216  ...   99.987549   0.021791\n",
            "2           7.667642      30.741825  ...   99.975100   0.071371\n",
            "3           7.641116      30.311470  ...   99.962653   0.093127\n",
            "4           8.304563      29.958562  ...   99.950208   0.142380\n",
            "...              ...            ...  ...         ...        ...\n",
            "47995       5.421724      36.327411  ...  105.720389  76.572162\n",
            "47996       5.217079      35.776739  ...  105.729643  76.576014\n",
            "47997       5.694386      35.206284  ...  105.738909  76.564558\n",
            "47998       5.562624      36.284345  ...  105.748192  76.555443\n",
            "47999       5.574685      35.997997  ...  105.757491  76.535246\n",
            "\n",
            "[48000 rows x 10 columns]\n"
          ],
          "name": "stdout"
        }
      ]
    },
    {
      "cell_type": "code",
      "metadata": {
        "colab": {
          "base_uri": "https://localhost:8080/"
        },
        "id": "XUVUoF90zjZ3",
        "outputId": "dbe5f8e9-7694-4a15-a46f-822212283e3d"
      },
      "source": [
        "print(y)"
      ],
      "execution_count": null,
      "outputs": [
        {
          "output_type": "stream",
          "text": [
            "0        15.000000\n",
            "1        14.989514\n",
            "2        14.978389\n",
            "3        14.966589\n",
            "4        14.954077\n",
            "           ...    \n",
            "47995     0.008121\n",
            "47996     0.008268\n",
            "47997     0.008417\n",
            "47998     0.008580\n",
            "47999     0.008751\n",
            "Name: Substrate Conc, Length: 48000, dtype: float64\n"
          ],
          "name": "stdout"
        }
      ]
    },
    {
      "cell_type": "code",
      "metadata": {
        "id": "nJ15Us8TzqOB"
      },
      "source": [
        "X_train, X_test, y_train, y_test = train_test_split(X,y, test_size = 0.2, random_state=20)\n"
      ],
      "execution_count": null,
      "outputs": []
    },
    {
      "cell_type": "code",
      "metadata": {
        "id": "n0uXc5BX1wHM"
      },
      "source": [
        "from sklearn.preprocessing import StandardScaler\n",
        "scaler=StandardScaler()\n",
        "scaler.fit(X_train)\n",
        "X_train_scaled = scaler.transform(X_train)\n",
        "\n",
        "X_test_scaled = scaler.transform(X_test)"
      ],
      "execution_count": null,
      "outputs": []
    },
    {
      "cell_type": "code",
      "metadata": {
        "colab": {
          "base_uri": "https://localhost:8080/"
        },
        "id": "dasko8cy13rv",
        "outputId": "92a47cfa-821e-4448-9795-0b9ef5cdf430"
      },
      "source": [
        "print(X_test_scaled)"
      ],
      "execution_count": null,
      "outputs": [
        {
          "output_type": "stream",
          "text": [
            "[[-0.77346914  1.37783364  0.38123198 ...  0.46400136  1.58997535\n",
            "   0.58232551]\n",
            " [-0.49204976  0.16752631  0.43282061 ... -0.30668483 -1.14626671\n",
            "  -0.23690715]\n",
            " [-0.46701665 -1.82319065 -2.6629187  ... -2.90900815 -1.22421445\n",
            "  -2.80568642]\n",
            " ...\n",
            " [-1.6163894  -1.02952337  0.38396933 ...  0.51943729  0.26547936\n",
            "   0.65374575]\n",
            " [ 0.05831028  1.05774776  0.38102141 ... -0.08271203 -1.32254172\n",
            "  -0.56494077]\n",
            " [ 0.79658618 -0.12047534  0.28458225 ...  0.59098659  1.67797132\n",
            "   0.5435943 ]]\n"
          ],
          "name": "stdout"
        }
      ]
    },
    {
      "cell_type": "code",
      "metadata": {
        "colab": {
          "base_uri": "https://localhost:8080/"
        },
        "id": "oDTjHnxP165N",
        "outputId": "d6d3b5b8-01a4-48c5-acdc-c235f0cb7c3b"
      },
      "source": [
        "model = Sequential()\n",
        "model.add(Dense(128, input_dim=10, activation='relu'))\n",
        "\n",
        "model.add(Dense(64, activation='relu'))\n",
        "model.add(Dense(1, activation='linear'))\n",
        "model.compile(loss='mean_squared_error', optimizer='adam', metrics=['mae'])\n",
        "model.summary()\n",
        "\n"
      ],
      "execution_count": null,
      "outputs": [
        {
          "output_type": "stream",
          "text": [
            "Model: \"sequential_8\"\n",
            "_________________________________________________________________\n",
            "Layer (type)                 Output Shape              Param #   \n",
            "=================================================================\n",
            "dense_24 (Dense)             (None, 128)               1408      \n",
            "_________________________________________________________________\n",
            "dense_25 (Dense)             (None, 64)                8256      \n",
            "_________________________________________________________________\n",
            "dense_26 (Dense)             (None, 1)                 65        \n",
            "=================================================================\n",
            "Total params: 9,729\n",
            "Trainable params: 9,729\n",
            "Non-trainable params: 0\n",
            "_________________________________________________________________\n"
          ],
          "name": "stdout"
        }
      ]
    },
    {
      "cell_type": "code",
      "metadata": {
        "colab": {
          "base_uri": "https://localhost:8080/"
        },
        "id": "pncdw50X2EOZ",
        "outputId": "49af930a-8b58-4e86-ffdf-cad4864d40e9"
      },
      "source": [
        "history = model.fit(X_train_scaled, y_train, validation_split=0.2,epochs=100)\n"
      ],
      "execution_count": null,
      "outputs": [
        {
          "output_type": "stream",
          "text": [
            "Epoch 1/100\n",
            "960/960 [==============================] - 2s 2ms/step - loss: 8.6602 - mae: 1.0641 - val_loss: 4.7379 - val_mae: 0.7372\n",
            "Epoch 2/100\n",
            "960/960 [==============================] - 2s 2ms/step - loss: 4.3274 - mae: 0.6750 - val_loss: 4.3865 - val_mae: 0.6746\n",
            "Epoch 3/100\n",
            "960/960 [==============================] - 2s 2ms/step - loss: 4.1084 - mae: 0.6528 - val_loss: 4.3024 - val_mae: 0.6723\n",
            "Epoch 4/100\n",
            "960/960 [==============================] - 2s 2ms/step - loss: 3.8740 - mae: 0.6257 - val_loss: 4.4975 - val_mae: 0.6636\n",
            "Epoch 5/100\n",
            "960/960 [==============================] - 2s 2ms/step - loss: 3.8537 - mae: 0.6221 - val_loss: 4.5575 - val_mae: 0.6734\n",
            "Epoch 6/100\n",
            "960/960 [==============================] - 2s 2ms/step - loss: 3.7753 - mae: 0.6056 - val_loss: 4.0656 - val_mae: 0.6534\n",
            "Epoch 7/100\n",
            "960/960 [==============================] - 2s 2ms/step - loss: 3.7027 - mae: 0.6133 - val_loss: 3.9661 - val_mae: 0.6572\n",
            "Epoch 8/100\n",
            "960/960 [==============================] - 2s 2ms/step - loss: 3.5708 - mae: 0.6122 - val_loss: 4.0289 - val_mae: 0.6575\n",
            "Epoch 9/100\n",
            "960/960 [==============================] - 2s 2ms/step - loss: 3.5041 - mae: 0.6122 - val_loss: 3.8044 - val_mae: 0.6448\n",
            "Epoch 10/100\n",
            "960/960 [==============================] - 2s 2ms/step - loss: 3.1764 - mae: 0.5883 - val_loss: 3.6187 - val_mae: 0.6608\n",
            "Epoch 11/100\n",
            "960/960 [==============================] - 2s 2ms/step - loss: 3.2093 - mae: 0.5983 - val_loss: 3.4227 - val_mae: 0.6057\n",
            "Epoch 12/100\n",
            "960/960 [==============================] - 2s 2ms/step - loss: 3.0631 - mae: 0.5852 - val_loss: 3.4499 - val_mae: 0.6431\n",
            "Epoch 13/100\n",
            "960/960 [==============================] - 2s 2ms/step - loss: 3.2101 - mae: 0.6117 - val_loss: 3.2175 - val_mae: 0.6126\n",
            "Epoch 14/100\n",
            "960/960 [==============================] - 2s 2ms/step - loss: 2.8497 - mae: 0.5648 - val_loss: 3.1677 - val_mae: 0.6335\n",
            "Epoch 15/100\n",
            "960/960 [==============================] - 2s 2ms/step - loss: 2.9378 - mae: 0.5823 - val_loss: 3.1345 - val_mae: 0.6063\n",
            "Epoch 16/100\n",
            "960/960 [==============================] - 2s 2ms/step - loss: 2.7591 - mae: 0.5582 - val_loss: 3.1371 - val_mae: 0.5925\n",
            "Epoch 17/100\n",
            "960/960 [==============================] - 2s 2ms/step - loss: 2.7702 - mae: 0.5601 - val_loss: 3.1301 - val_mae: 0.6031\n",
            "Epoch 18/100\n",
            "960/960 [==============================] - 2s 2ms/step - loss: 2.5883 - mae: 0.5271 - val_loss: 2.9318 - val_mae: 0.6072\n",
            "Epoch 19/100\n",
            "960/960 [==============================] - 2s 2ms/step - loss: 2.6982 - mae: 0.5509 - val_loss: 3.0527 - val_mae: 0.5762\n",
            "Epoch 20/100\n",
            "960/960 [==============================] - 2s 2ms/step - loss: 2.6469 - mae: 0.5385 - val_loss: 3.0441 - val_mae: 0.5908\n",
            "Epoch 21/100\n",
            "960/960 [==============================] - 2s 2ms/step - loss: 2.5911 - mae: 0.5312 - val_loss: 2.9445 - val_mae: 0.5937\n",
            "Epoch 22/100\n",
            "960/960 [==============================] - 2s 2ms/step - loss: 2.5000 - mae: 0.5265 - val_loss: 2.8981 - val_mae: 0.5759\n",
            "Epoch 23/100\n",
            "960/960 [==============================] - 2s 2ms/step - loss: 2.6163 - mae: 0.5374 - val_loss: 2.8388 - val_mae: 0.5972\n",
            "Epoch 24/100\n",
            "960/960 [==============================] - 2s 2ms/step - loss: 2.5552 - mae: 0.5305 - val_loss: 2.7947 - val_mae: 0.5601\n",
            "Epoch 25/100\n",
            "960/960 [==============================] - 2s 2ms/step - loss: 2.3937 - mae: 0.5061 - val_loss: 2.7181 - val_mae: 0.5507\n",
            "Epoch 26/100\n",
            "960/960 [==============================] - 2s 2ms/step - loss: 2.3563 - mae: 0.5011 - val_loss: 2.7244 - val_mae: 0.5492\n",
            "Epoch 27/100\n",
            "960/960 [==============================] - 2s 2ms/step - loss: 2.4290 - mae: 0.5184 - val_loss: 2.6849 - val_mae: 0.5599\n",
            "Epoch 28/100\n",
            "960/960 [==============================] - 2s 2ms/step - loss: 2.3350 - mae: 0.5033 - val_loss: 2.7275 - val_mae: 0.5523\n",
            "Epoch 29/100\n",
            "960/960 [==============================] - 2s 2ms/step - loss: 2.3413 - mae: 0.5061 - val_loss: 2.5522 - val_mae: 0.5287\n",
            "Epoch 30/100\n",
            "960/960 [==============================] - 2s 2ms/step - loss: 2.2916 - mae: 0.4980 - val_loss: 2.5541 - val_mae: 0.5366\n",
            "Epoch 31/100\n",
            "960/960 [==============================] - 2s 2ms/step - loss: 2.2166 - mae: 0.4870 - val_loss: 2.4739 - val_mae: 0.5269\n",
            "Epoch 32/100\n",
            "960/960 [==============================] - 2s 2ms/step - loss: 2.0996 - mae: 0.4752 - val_loss: 2.4904 - val_mae: 0.5322\n",
            "Epoch 33/100\n",
            "960/960 [==============================] - 2s 2ms/step - loss: 2.1676 - mae: 0.4788 - val_loss: 2.5810 - val_mae: 0.5235\n",
            "Epoch 34/100\n",
            "960/960 [==============================] - 2s 2ms/step - loss: 2.2293 - mae: 0.4924 - val_loss: 2.6613 - val_mae: 0.5328\n",
            "Epoch 35/100\n",
            "960/960 [==============================] - 2s 2ms/step - loss: 2.1462 - mae: 0.4749 - val_loss: 2.3753 - val_mae: 0.5167\n",
            "Epoch 36/100\n",
            "960/960 [==============================] - 2s 2ms/step - loss: 2.1429 - mae: 0.4701 - val_loss: 2.4260 - val_mae: 0.5307\n",
            "Epoch 37/100\n",
            "960/960 [==============================] - 2s 2ms/step - loss: 2.1502 - mae: 0.4827 - val_loss: 2.5110 - val_mae: 0.5195\n",
            "Epoch 38/100\n",
            "960/960 [==============================] - 2s 2ms/step - loss: 2.1472 - mae: 0.4705 - val_loss: 2.3274 - val_mae: 0.5071\n",
            "Epoch 39/100\n",
            "960/960 [==============================] - 2s 2ms/step - loss: 1.9760 - mae: 0.4544 - val_loss: 2.5393 - val_mae: 0.5251\n",
            "Epoch 40/100\n",
            "960/960 [==============================] - 2s 2ms/step - loss: 2.1213 - mae: 0.4752 - val_loss: 2.8962 - val_mae: 0.5406\n",
            "Epoch 41/100\n",
            "960/960 [==============================] - 2s 2ms/step - loss: 2.0081 - mae: 0.4588 - val_loss: 2.3978 - val_mae: 0.5046\n",
            "Epoch 42/100\n",
            "960/960 [==============================] - 2s 2ms/step - loss: 2.1101 - mae: 0.4710 - val_loss: 2.3941 - val_mae: 0.4944\n",
            "Epoch 43/100\n",
            "960/960 [==============================] - 2s 2ms/step - loss: 1.9629 - mae: 0.4512 - val_loss: 2.2863 - val_mae: 0.5026\n",
            "Epoch 44/100\n",
            "960/960 [==============================] - 2s 2ms/step - loss: 2.0535 - mae: 0.4573 - val_loss: 2.3536 - val_mae: 0.4983\n",
            "Epoch 45/100\n",
            "960/960 [==============================] - 2s 2ms/step - loss: 1.9302 - mae: 0.4382 - val_loss: 2.1901 - val_mae: 0.4737\n",
            "Epoch 46/100\n",
            "960/960 [==============================] - 2s 2ms/step - loss: 1.8747 - mae: 0.4315 - val_loss: 2.3889 - val_mae: 0.5071\n",
            "Epoch 47/100\n",
            "960/960 [==============================] - 2s 2ms/step - loss: 1.8100 - mae: 0.4252 - val_loss: 2.2829 - val_mae: 0.4772\n",
            "Epoch 48/100\n",
            "960/960 [==============================] - 2s 2ms/step - loss: 1.8729 - mae: 0.4327 - val_loss: 2.1269 - val_mae: 0.4753\n",
            "Epoch 49/100\n",
            "960/960 [==============================] - 2s 2ms/step - loss: 1.8520 - mae: 0.4343 - val_loss: 2.1920 - val_mae: 0.4876\n",
            "Epoch 50/100\n",
            "960/960 [==============================] - 2s 2ms/step - loss: 1.9228 - mae: 0.4395 - val_loss: 2.3410 - val_mae: 0.4771\n",
            "Epoch 51/100\n",
            "960/960 [==============================] - 2s 2ms/step - loss: 1.8364 - mae: 0.4282 - val_loss: 2.3159 - val_mae: 0.4781\n",
            "Epoch 52/100\n",
            "960/960 [==============================] - 2s 2ms/step - loss: 1.9320 - mae: 0.4324 - val_loss: 2.1576 - val_mae: 0.4719\n",
            "Epoch 53/100\n",
            "960/960 [==============================] - 2s 2ms/step - loss: 1.8888 - mae: 0.4297 - val_loss: 2.1012 - val_mae: 0.4615\n",
            "Epoch 54/100\n",
            "960/960 [==============================] - 2s 2ms/step - loss: 1.6539 - mae: 0.3991 - val_loss: 2.0936 - val_mae: 0.4613\n",
            "Epoch 55/100\n",
            "960/960 [==============================] - 2s 2ms/step - loss: 1.7594 - mae: 0.4139 - val_loss: 2.1758 - val_mae: 0.4660\n",
            "Epoch 56/100\n",
            "960/960 [==============================] - 2s 2ms/step - loss: 1.7817 - mae: 0.4192 - val_loss: 2.0980 - val_mae: 0.4612\n",
            "Epoch 57/100\n",
            "960/960 [==============================] - 2s 2ms/step - loss: 1.7792 - mae: 0.4155 - val_loss: 2.1395 - val_mae: 0.4842\n",
            "Epoch 58/100\n",
            "960/960 [==============================] - 2s 2ms/step - loss: 1.6684 - mae: 0.4010 - val_loss: 2.1319 - val_mae: 0.4735\n",
            "Epoch 59/100\n",
            "960/960 [==============================] - 2s 2ms/step - loss: 1.6940 - mae: 0.4037 - val_loss: 2.2850 - val_mae: 0.4875\n",
            "Epoch 60/100\n",
            "960/960 [==============================] - 2s 2ms/step - loss: 1.6819 - mae: 0.4080 - val_loss: 2.3012 - val_mae: 0.4778\n",
            "Epoch 61/100\n",
            "960/960 [==============================] - 2s 2ms/step - loss: 1.6720 - mae: 0.3947 - val_loss: 2.1267 - val_mae: 0.4823\n",
            "Epoch 62/100\n",
            "960/960 [==============================] - 2s 2ms/step - loss: 1.6460 - mae: 0.3937 - val_loss: 2.0971 - val_mae: 0.4581\n",
            "Epoch 63/100\n",
            "960/960 [==============================] - 2s 2ms/step - loss: 1.7360 - mae: 0.4092 - val_loss: 2.1966 - val_mae: 0.4652\n",
            "Epoch 64/100\n",
            "960/960 [==============================] - 2s 2ms/step - loss: 1.7223 - mae: 0.4004 - val_loss: 2.0100 - val_mae: 0.4404\n",
            "Epoch 65/100\n",
            "960/960 [==============================] - 2s 2ms/step - loss: 1.5848 - mae: 0.3872 - val_loss: 2.0552 - val_mae: 0.4457\n",
            "Epoch 66/100\n",
            "960/960 [==============================] - 2s 2ms/step - loss: 1.6291 - mae: 0.3915 - val_loss: 1.9078 - val_mae: 0.4331\n",
            "Epoch 67/100\n",
            "960/960 [==============================] - 2s 2ms/step - loss: 1.6688 - mae: 0.3958 - val_loss: 2.2031 - val_mae: 0.4566\n",
            "Epoch 68/100\n",
            "960/960 [==============================] - 2s 2ms/step - loss: 1.6353 - mae: 0.3836 - val_loss: 2.1029 - val_mae: 0.4320\n",
            "Epoch 69/100\n",
            "960/960 [==============================] - 2s 2ms/step - loss: 1.5714 - mae: 0.3842 - val_loss: 2.0199 - val_mae: 0.4379\n",
            "Epoch 70/100\n",
            "960/960 [==============================] - 2s 2ms/step - loss: 1.6204 - mae: 0.3913 - val_loss: 2.1206 - val_mae: 0.4609\n",
            "Epoch 71/100\n",
            "960/960 [==============================] - 2s 2ms/step - loss: 1.5679 - mae: 0.3875 - val_loss: 2.1351 - val_mae: 0.4517\n",
            "Epoch 72/100\n",
            "960/960 [==============================] - 2s 2ms/step - loss: 1.6190 - mae: 0.3887 - val_loss: 2.1012 - val_mae: 0.4548\n",
            "Epoch 73/100\n",
            "960/960 [==============================] - 2s 2ms/step - loss: 1.6281 - mae: 0.3953 - val_loss: 2.0043 - val_mae: 0.4281\n",
            "Epoch 74/100\n",
            "960/960 [==============================] - 2s 2ms/step - loss: 1.4457 - mae: 0.3638 - val_loss: 2.0132 - val_mae: 0.4290\n",
            "Epoch 75/100\n",
            "960/960 [==============================] - 2s 2ms/step - loss: 1.5507 - mae: 0.3815 - val_loss: 2.0126 - val_mae: 0.4347\n",
            "Epoch 76/100\n",
            "960/960 [==============================] - 2s 2ms/step - loss: 1.5157 - mae: 0.3739 - val_loss: 2.0248 - val_mae: 0.4471\n",
            "Epoch 77/100\n",
            "960/960 [==============================] - 2s 2ms/step - loss: 1.5270 - mae: 0.3774 - val_loss: 2.0009 - val_mae: 0.4366\n",
            "Epoch 78/100\n",
            "960/960 [==============================] - 2s 2ms/step - loss: 1.4331 - mae: 0.3612 - val_loss: 2.0375 - val_mae: 0.4804\n",
            "Epoch 79/100\n",
            "960/960 [==============================] - 2s 2ms/step - loss: 1.5038 - mae: 0.3827 - val_loss: 2.0754 - val_mae: 0.4373\n",
            "Epoch 80/100\n",
            "960/960 [==============================] - 2s 2ms/step - loss: 1.5698 - mae: 0.3804 - val_loss: 1.9757 - val_mae: 0.4210\n",
            "Epoch 81/100\n",
            "960/960 [==============================] - 2s 2ms/step - loss: 1.3480 - mae: 0.3498 - val_loss: 2.0344 - val_mae: 0.4484\n",
            "Epoch 82/100\n",
            "960/960 [==============================] - 2s 2ms/step - loss: 1.3076 - mae: 0.3490 - val_loss: 1.9724 - val_mae: 0.4125\n",
            "Epoch 83/100\n",
            "960/960 [==============================] - 2s 2ms/step - loss: 1.2909 - mae: 0.3467 - val_loss: 1.9698 - val_mae: 0.4215\n",
            "Epoch 84/100\n",
            "960/960 [==============================] - 2s 2ms/step - loss: 1.3379 - mae: 0.3488 - val_loss: 2.0045 - val_mae: 0.4269\n",
            "Epoch 85/100\n",
            "960/960 [==============================] - 2s 2ms/step - loss: 1.3548 - mae: 0.3539 - val_loss: 1.9524 - val_mae: 0.4240\n",
            "Epoch 86/100\n",
            "960/960 [==============================] - 2s 2ms/step - loss: 1.4479 - mae: 0.3573 - val_loss: 1.9507 - val_mae: 0.4323\n",
            "Epoch 87/100\n",
            "960/960 [==============================] - 2s 2ms/step - loss: 1.3629 - mae: 0.3518 - val_loss: 2.1405 - val_mae: 0.4424\n",
            "Epoch 88/100\n",
            "960/960 [==============================] - 2s 2ms/step - loss: 1.3310 - mae: 0.3486 - val_loss: 2.3372 - val_mae: 0.4613\n",
            "Epoch 89/100\n",
            "960/960 [==============================] - 2s 2ms/step - loss: 1.3208 - mae: 0.3426 - val_loss: 1.8963 - val_mae: 0.4215\n",
            "Epoch 90/100\n",
            "960/960 [==============================] - 2s 2ms/step - loss: 1.3172 - mae: 0.3508 - val_loss: 1.9074 - val_mae: 0.4314\n",
            "Epoch 91/100\n",
            "960/960 [==============================] - 2s 2ms/step - loss: 1.3913 - mae: 0.3584 - val_loss: 1.9941 - val_mae: 0.4214\n",
            "Epoch 92/100\n",
            "960/960 [==============================] - 2s 2ms/step - loss: 1.2770 - mae: 0.3398 - val_loss: 1.9411 - val_mae: 0.4328\n",
            "Epoch 93/100\n",
            "960/960 [==============================] - 2s 2ms/step - loss: 1.3174 - mae: 0.3478 - val_loss: 1.9605 - val_mae: 0.4274\n",
            "Epoch 94/100\n",
            "960/960 [==============================] - 2s 2ms/step - loss: 1.4076 - mae: 0.3603 - val_loss: 1.9368 - val_mae: 0.4201\n",
            "Epoch 95/100\n",
            "960/960 [==============================] - 2s 2ms/step - loss: 1.3743 - mae: 0.3518 - val_loss: 2.0053 - val_mae: 0.4125\n",
            "Epoch 96/100\n",
            "960/960 [==============================] - 2s 2ms/step - loss: 1.2726 - mae: 0.3375 - val_loss: 2.2013 - val_mae: 0.4493\n",
            "Epoch 97/100\n",
            "960/960 [==============================] - 2s 2ms/step - loss: 1.2657 - mae: 0.3398 - val_loss: 1.8916 - val_mae: 0.4251\n",
            "Epoch 98/100\n",
            "960/960 [==============================] - 2s 2ms/step - loss: 1.2813 - mae: 0.3462 - val_loss: 1.8499 - val_mae: 0.4180\n",
            "Epoch 99/100\n",
            "960/960 [==============================] - 2s 2ms/step - loss: 1.2434 - mae: 0.3331 - val_loss: 2.0304 - val_mae: 0.4631\n",
            "Epoch 100/100\n",
            "960/960 [==============================] - 2s 2ms/step - loss: 1.3262 - mae: 0.3505 - val_loss: 1.8683 - val_mae: 0.4048\n"
          ],
          "name": "stdout"
        }
      ]
    },
    {
      "cell_type": "code",
      "metadata": {
        "colab": {
          "base_uri": "https://localhost:8080/",
          "height": 573
        },
        "id": "67iLto4L2lPo",
        "outputId": "ef9daa31-2e2f-468f-9049-74f5817242be"
      },
      "source": [
        "import numpy as np\n",
        "import pandas as pd \n",
        "from matplotlib import pyplot as plt\n",
        "import matplotlib\n",
        "%matplotlib inline\n",
        "loss = history.history['loss']\n",
        "val_loss = history.history['val_loss']\n",
        "epochs = range(1, len(loss)+1)\n",
        "plt.plot(epochs, loss, 'y', label='Training loss')\n",
        "\n",
        "plt.plot(epochs, val_loss, 'b', label='validation loss')\n",
        "plt.title('Training and validation loss')\n",
        "plt.xlabel('Epochs')\n",
        "plt.ylabel('Loss')\n",
        "plt.legend()\n",
        "plt.show()\n",
        "\n",
        "\n",
        "acc = history.history['mae']\n",
        "val_acc = history.history['val_mae']\n",
        "plt.plot(epochs, acc, 'y', label='Training MAE')\n",
        "\n",
        "plt.plot(epochs, val_acc, 'b', label='validation accuracy')\n",
        "plt.title('Training and validation MAE')\n",
        "plt.xlabel('Epochs')\n",
        "plt.ylabel('Accuracy')\n",
        "plt.legend()\n",
        "plt.show()\n"
      ],
      "execution_count": null,
      "outputs": [
        {
          "output_type": "display_data",
          "data": {
            "image/png": "[encoded data removed]",
            "text/plain": [
              "<Figure size 432x288 with 1 Axes>"
            ]
          },
          "metadata": {
            "tags": [],
            "needs_background": "light"
          }
        },
        {
          "output_type": "display_data",
          "data": {
            "image/png": "[encoded data removed]",
            "text/plain": [
              "<Figure size 432x288 with 1 Axes>"
            ]
          },
          "metadata": {
            "tags": [],
            "needs_background": "light"
          }
        }
      ]
    },
    {
      "cell_type": "code",
      "metadata": {
        "colab": {
          "base_uri": "https://localhost:8080/"
        },
        "id": "taKVhTcU2zMw",
        "outputId": "e16d7c51-eeae-4def-ea03-d90e30bf2944"
      },
      "source": [
        "predictions = model.predict(X_test_scaled[:10])\n",
        "print(\"Predicted values are: \", predictions)\n",
        "print(\"Real values are: \", y_test[:10])\n"
      ],
      "execution_count": null,
      "outputs": [
        {
          "output_type": "stream",
          "text": [
            "WARNING:tensorflow:5 out of the last 6 calls to <function Model.make_predict_function.<locals>.predict_function at 0x7fdd4e641a70> triggered tf.function retracing. Tracing is expensive and the excessive number of tracings could be due to (1) creating @tf.function repeatedly in a loop, (2) passing tensors with different shapes, (3) passing Python objects instead of tensors. For (1), please define your @tf.function outside of the loop. For (2), @tf.function has experimental_relax_shapes=True option that relaxes argument shapes that can avoid unnecessary retracing. For (3), please refer to https://www.tensorflow.org/guide/function#controlling_retracing and https://www.tensorflow.org/api_docs/python/tf/function for  more details.\n",
            "Predicted values are:  [[ 3.9422482e-02]\n",
            " [ 1.3493538e-02]\n",
            " [ 1.4518671e+01]\n",
            " [ 2.4350142e+01]\n",
            " [ 1.5140474e-01]\n",
            " [-2.0145297e-02]\n",
            " [ 1.0924536e-01]\n",
            " [ 6.7731261e-02]\n",
            " [ 7.0429504e-02]\n",
            " [ 1.3506651e-02]]\n",
            "Real values are:  31164     0.008973\n",
            "15339     0.074512\n",
            "32055    17.021274\n",
            "30430    26.299353\n",
            "17544     0.003808\n",
            "6875      0.025146\n",
            "36585     0.017500\n",
            "38943     0.012832\n",
            "40246     0.069556\n",
            "8625      0.011843\n",
            "Name: Substrate Conc, dtype: float64\n"
          ],
          "name": "stdout"
        }
      ]
    },
    {
      "cell_type": "markdown",
      "metadata": {
        "id": "pt5V25sr7ynr"
      },
      "source": [
        ""
      ]
    },
    {
      "cell_type": "code",
      "metadata": {
        "colab": {
          "base_uri": "https://localhost:8080/"
        },
        "id": "vG95aVrL28MM",
        "outputId": "220d9ecd-78b1-4ec9-cb4d-6cce5f213a5c"
      },
      "source": [
        "mse_neural, mae_neural = model.evaluate(X_test_scaled, y_test)\n",
        "print('Mean squared error from neural network: ', mse_neural)\n",
        "print('Mean absolute error from neural network: ', mae_neural)\n"
      ],
      "execution_count": null,
      "outputs": [
        {
          "output_type": "stream",
          "text": [
            "300/300 [==============================] - 0s 1ms/step - loss: 1.6426 - mae: 0.3685\n",
            "Mean squared error from neural network:  1.6425758600234985\n",
            "Mean absolute error from neural network:  0.36851418018341064\n"
          ],
          "name": "stdout"
        }
      ]
    },
    {
      "cell_type": "code",
      "metadata": {
        "id": "Oh_p9M1b3HM-"
      },
      "source": [
        "from sklearn import linear_model\n",
        "from sklearn.tree import DecisionTreeRegressor\n",
        "from sklearn.metrics import mean_squared_error, mean_absolute_error\n",
        "from sklearn.ensemble import RandomForestRegressor"
      ],
      "execution_count": null,
      "outputs": []
    },
    {
      "cell_type": "markdown",
      "metadata": {
        "id": "2idntRdN3NIb"
      },
      "source": [
        "# **LINEAR REGRESSION MODEL**"
      ]
    },
    {
      "cell_type": "code",
      "metadata": {
        "colab": {
          "base_uri": "https://localhost:8080/"
        },
        "id": "S4NC6RL-Ex46",
        "outputId": "6bedfad9-b482-4eda-fffa-aabe3be4cdb0"
      },
      "source": [
        "import pandas as pd\n",
        "import numpy as np\n",
        "data = '/content/gdrive/My Drive/CHE SOP-DOP/1-s2.0-S1369703X18301359-mmc2.xlsx - Sheet1.csv'\n",
        "df = pd.read_csv(data)\n",
        "\n",
        "Parameters = ['Aeration Rate', 'AgitatorPower', 'Subst Feed Conc.', 'Substrate feed T', 'Temp', 'pH', 'Dis O2 Conc.', 'CO2 Conc.', 'VOL', 'Heat', 'Peni Conc.', 'Biomass Conc', 'Substrate Conc']\n",
        "df.columns = Parameters\n",
        "print(df.head())\n",
        "\n"
      ],
      "execution_count": null,
      "outputs": [
        {
          "output_type": "stream",
          "text": [
            "   Aeration Rate  AgitatorPower  ...  Biomass Conc  Substrate Conc\n",
            "0       7.997728      29.666590  ...      0.100000       15.000000\n",
            "1       7.786650      30.725216  ...      0.105235       14.989514\n",
            "2       7.667642      30.741825  ...      0.110740       14.978389\n",
            "3       7.641116      30.311470  ...      0.116530       14.966589\n",
            "4       8.304563      29.958562  ...      0.122621       14.954077\n",
            "\n",
            "[5 rows x 13 columns]\n"
          ],
          "name": "stdout"
        }
      ]
    },
    {
      "cell_type": "code",
      "metadata": {
        "id": "RG4BmN7PE2F7"
      },
      "source": [
        "X = df.drop(['Peni Conc.', 'Biomass Conc', 'Substrate Conc'], axis=1)\n",
        "y = df['Substrate Conc']"
      ],
      "execution_count": null,
      "outputs": []
    },
    {
      "cell_type": "code",
      "metadata": {
        "colab": {
          "base_uri": "https://localhost:8080/"
        },
        "id": "BR7I7-53E758",
        "outputId": "b8a90a62-67c8-48fb-8542-28500fc288c5"
      },
      "source": [
        "print(X)"
      ],
      "execution_count": null,
      "outputs": [
        {
          "output_type": "stream",
          "text": [
            "       Aeration Rate  AgitatorPower  ...         VOL       Heat\n",
            "0           7.997728      29.666590  ...  100.000000   0.008368\n",
            "1           7.786650      30.725216  ...   99.987549   0.021791\n",
            "2           7.667642      30.741825  ...   99.975100   0.071371\n",
            "3           7.641116      30.311470  ...   99.962653   0.093127\n",
            "4           8.304563      29.958562  ...   99.950208   0.142380\n",
            "...              ...            ...  ...         ...        ...\n",
            "47995       5.421724      36.327411  ...  105.720389  76.572162\n",
            "47996       5.217079      35.776739  ...  105.729643  76.576014\n",
            "47997       5.694386      35.206284  ...  105.738909  76.564558\n",
            "47998       5.562624      36.284345  ...  105.748192  76.555443\n",
            "47999       5.574685      35.997997  ...  105.757491  76.535246\n",
            "\n",
            "[48000 rows x 10 columns]\n"
          ],
          "name": "stdout"
        }
      ]
    },
    {
      "cell_type": "code",
      "metadata": {
        "colab": {
          "base_uri": "https://localhost:8080/"
        },
        "id": "S2AMVCY6E-fD",
        "outputId": "2a6f2fbd-5528-4ea6-e44e-1ede127cd492"
      },
      "source": [
        "print(y)"
      ],
      "execution_count": null,
      "outputs": [
        {
          "output_type": "stream",
          "text": [
            "0        15.000000\n",
            "1        14.989514\n",
            "2        14.978389\n",
            "3        14.966589\n",
            "4        14.954077\n",
            "           ...    \n",
            "47995     0.008121\n",
            "47996     0.008268\n",
            "47997     0.008417\n",
            "47998     0.008580\n",
            "47999     0.008751\n",
            "Name: Substrate Conc, Length: 48000, dtype: float64\n"
          ],
          "name": "stdout"
        }
      ]
    },
    {
      "cell_type": "code",
      "metadata": {
        "id": "f7rMqz47FCAD"
      },
      "source": [
        "from sklearn.model_selection import train_test_split\n",
        "X_train,X_test,y_train,y_test=train_test_split(X,y, test_size=0.3, random_state=0)\n"
      ],
      "execution_count": null,
      "outputs": []
    },
    {
      "cell_type": "code",
      "metadata": {
        "colab": {
          "base_uri": "https://localhost:8080/"
        },
        "id": "_alKnrJLFEuW",
        "outputId": "c3020239-01f4-4fdd-b6a9-3eeee9a5ea1d"
      },
      "source": [
        "from sklearn.linear_model import LinearRegression\n",
        "ml=LinearRegression()\n",
        "ml.fit(X_train,y_train)\n"
      ],
      "execution_count": null,
      "outputs": [
        {
          "output_type": "execute_result",
          "data": {
            "text/plain": [
              "LinearRegression(copy_X=True, fit_intercept=True, n_jobs=None, normalize=False)"
            ]
          },
          "metadata": {
            "tags": []
          },
          "execution_count": 11
        }
      ]
    },
    {
      "cell_type": "code",
      "metadata": {
        "colab": {
          "base_uri": "https://localhost:8080/"
        },
        "id": "-aOl2YaIFIh1",
        "outputId": "52a52645-a49d-424c-8e4f-39aae215cb8e"
      },
      "source": [
        "y_pred=ml.predict(X_test)\n",
        "print(y_pred)\n"
      ],
      "execution_count": null,
      "outputs": [
        {
          "output_type": "stream",
          "text": [
            "[-0.79265266 -0.16870892  0.04869533 ... 16.19284419 -2.43805486\n",
            " -0.23248734]\n"
          ],
          "name": "stdout"
        }
      ]
    },
    {
      "cell_type": "code",
      "metadata": {
        "colab": {
          "base_uri": "https://localhost:8080/"
        },
        "id": "ZiQPCtL3FLWh",
        "outputId": "984f9404-f7ce-4ee9-bc1f-eeee6743f6af"
      },
      "source": [
        "from sklearn.metrics import r2_score\n",
        "r2_score(y_test,y_pred)\n"
      ],
      "execution_count": null,
      "outputs": [
        {
          "output_type": "execute_result",
          "data": {
            "text/plain": [
              "0.8533438776313071"
            ]
          },
          "metadata": {
            "tags": []
          },
          "execution_count": 13
        }
      ]
    },
    {
      "cell_type": "code",
      "metadata": {
        "colab": {
          "base_uri": "https://localhost:8080/",
          "height": 367
        },
        "id": "iNewBNjIFObv",
        "outputId": "7271d43c-ba0c-48b5-9289-de3056c50907"
      },
      "source": [
        "import matplotlib.pyplot as plt \n",
        "plt.figure(figsize=(10,5))\n",
        "plt.scatter(y_test, y_pred)\n",
        "plt.xlabel('Actual Substrate Concentration')\n",
        "plt.ylabel('Predicted Substrate Concentration')\n",
        "plt.title('Substrate Concentration: Actual vs Predicted')\n"
      ],
      "execution_count": null,
      "outputs": [
        {
          "output_type": "execute_result",
          "data": {
            "text/plain": [
              "Text(0.5, 1.0, 'Substrate Concentration: Actual vs Predicted')"
            ]
          },
          "metadata": {
            "tags": []
          },
          "execution_count": 14
        },
        {
          "output_type": "display_data",
          "data": {
            "image/png": "[encoded data removed]",
            "text/plain": [
              "<Figure size 720x360 with 1 Axes>"
            ]
          },
          "metadata": {
            "tags": [],
            "needs_background": "light"
          }
        }
      ]
    },
    {
      "cell_type": "code",
      "metadata": {
        "colab": {
          "base_uri": "https://localhost:8080/",
          "height": 359
        },
        "id": "BXtk5BCCFnJN",
        "outputId": "9b012b2d-13e5-4fc3-b681-e94c4b35f413"
      },
      "source": [
        "pred_y_df=pd.DataFrame({'Actual Value':y_test, 'Predicted Value':y_pred, 'Difference':y_test-y_pred})\n",
        "pred_y_df[0:10]\n"
      ],
      "execution_count": null,
      "outputs": [
        {
          "output_type": "execute_result",
          "data": {
            "text/html": [
              "<div>\n",
              "<style scoped>\n",
              "    .dataframe tbody tr th:only-of-type {\n",
              "        vertical-align: middle;\n",
              "    }\n",
              "\n",
              "    .dataframe tbody tr th {\n",
              "        vertical-align: top;\n",
              "    }\n",
              "\n",
              "    .dataframe thead th {\n",
              "        text-align: right;\n",
              "    }\n",
              "</style>\n",
              "<table border=\"1\" class=\"dataframe\">\n",
              "  <thead>\n",
              "    <tr style=\"text-align: right;\">\n",
              "      <th></th>\n",
              "      <th>Actual Value</th>\n",
              "      <th>Predicted Value</th>\n",
              "      <th>Difference</th>\n",
              "    </tr>\n",
              "  </thead>\n",
              "  <tbody>\n",
              "    <tr>\n",
              "      <th>37957</th>\n",
              "      <td>0.035805</td>\n",
              "      <td>-0.792653</td>\n",
              "      <td>0.828458</td>\n",
              "    </tr>\n",
              "    <tr>\n",
              "      <th>45965</th>\n",
              "      <td>0.018561</td>\n",
              "      <td>-0.168709</td>\n",
              "      <td>0.187270</td>\n",
              "    </tr>\n",
              "    <tr>\n",
              "      <th>33541</th>\n",
              "      <td>0.009614</td>\n",
              "      <td>0.048695</td>\n",
              "      <td>-0.039081</td>\n",
              "    </tr>\n",
              "    <tr>\n",
              "      <th>9905</th>\n",
              "      <td>0.050439</td>\n",
              "      <td>-0.364684</td>\n",
              "      <td>0.415124</td>\n",
              "    </tr>\n",
              "    <tr>\n",
              "      <th>9472</th>\n",
              "      <td>0.015205</td>\n",
              "      <td>-0.042551</td>\n",
              "      <td>0.057756</td>\n",
              "    </tr>\n",
              "    <tr>\n",
              "      <th>23682</th>\n",
              "      <td>0.019184</td>\n",
              "      <td>-0.009026</td>\n",
              "      <td>0.028209</td>\n",
              "    </tr>\n",
              "    <tr>\n",
              "      <th>12880</th>\n",
              "      <td>15.573440</td>\n",
              "      <td>12.080641</td>\n",
              "      <td>3.492799</td>\n",
              "    </tr>\n",
              "    <tr>\n",
              "      <th>786</th>\n",
              "      <td>0.007907</td>\n",
              "      <td>0.313150</td>\n",
              "      <td>-0.305243</td>\n",
              "    </tr>\n",
              "    <tr>\n",
              "      <th>3015</th>\n",
              "      <td>0.012001</td>\n",
              "      <td>-0.235783</td>\n",
              "      <td>0.247784</td>\n",
              "    </tr>\n",
              "    <tr>\n",
              "      <th>37111</th>\n",
              "      <td>0.030186</td>\n",
              "      <td>0.479845</td>\n",
              "      <td>-0.449659</td>\n",
              "    </tr>\n",
              "  </tbody>\n",
              "</table>\n",
              "</div>"
            ],
            "text/plain": [
              "       Actual Value  Predicted Value  Difference\n",
              "37957      0.035805        -0.792653    0.828458\n",
              "45965      0.018561        -0.168709    0.187270\n",
              "33541      0.009614         0.048695   -0.039081\n",
              "9905       0.050439        -0.364684    0.415124\n",
              "9472       0.015205        -0.042551    0.057756\n",
              "23682      0.019184        -0.009026    0.028209\n",
              "12880     15.573440        12.080641    3.492799\n",
              "786        0.007907         0.313150   -0.305243\n",
              "3015       0.012001        -0.235783    0.247784\n",
              "37111      0.030186         0.479845   -0.449659"
            ]
          },
          "metadata": {
            "tags": []
          },
          "execution_count": 15
        }
      ]
    },
    {
      "cell_type": "code",
      "metadata": {
        "colab": {
          "base_uri": "https://localhost:8080/"
        },
        "id": "y1eXMnpG3Rl7",
        "outputId": "b6002b20-99c7-4a47-d1a2-57261efd10db"
      },
      "source": [
        "from sklearn import linear_model\n",
        "from sklearn.tree import DecisionTreeRegressor\n",
        "from sklearn.metrics import mean_squared_error, mean_absolute_error\n",
        "from sklearn.ensemble import RandomForestRegressor\n",
        "lr_model = linear_model.LinearRegression()\n",
        "lr_model.fit(X_train, y_train)\n",
        "y_pred_lr = lr_model.predict(X_test)\n",
        "mse_lr = mean_squared_error(y_test, y_pred_lr)\n",
        "mae_lr = mean_absolute_error(y_test, y_pred_lr)\n",
        "print('Mean squared error from linear regression: ', mse_lr)\n",
        "print('Mean absolute error from linear regression: ', mae_lr)\n"
      ],
      "execution_count": null,
      "outputs": [
        {
          "output_type": "stream",
          "text": [
            "Mean squared error from linear regression:  5.432904002111622\n",
            "Mean absolute error from linear regression:  1.0483118208945135\n"
          ],
          "name": "stdout"
        }
      ]
    },
    {
      "cell_type": "code",
      "metadata": {
        "colab": {
          "base_uri": "https://localhost:8080/",
          "height": 721
        },
        "id": "VBGQDBaXqDV1",
        "outputId": "d7de5277-cbd5-4cc7-8f22-80352195b008"
      },
      "source": [
        "from statsmodels.api import OLS\n",
        "from statsmodels.api import add_constant\n",
        "X_train = add_constant(X_train)\n",
        "OLS(y_train, X_train).fit().summary()"
      ],
      "execution_count": null,
      "outputs": [
        {
          "output_type": "stream",
          "text": [
            "/usr/local/lib/python3.7/dist-packages/statsmodels/tools/_testing.py:19: FutureWarning: pandas.util.testing is deprecated. Use the functions in the public API at pandas.testing instead.\n",
            "  import pandas.util.testing as tm\n"
          ],
          "name": "stderr"
        },
        {
          "output_type": "execute_result",
          "data": {
            "text/html": [
              "<table class=\"simpletable\">\n",
              "<caption>OLS Regression Results</caption>\n",
              "<tr>\n",
              "  <th>Dep. Variable:</th>     <td>Substrate Conc</td>  <th>  R-squared:         </th> <td>   0.849</td> \n",
              "</tr>\n",
              "<tr>\n",
              "  <th>Model:</th>                   <td>OLS</td>       <th>  Adj. R-squared:    </th> <td>   0.849</td> \n",
              "</tr>\n",
              "<tr>\n",
              "  <th>Method:</th>             <td>Least Squares</td>  <th>  F-statistic:       </th> <td>1.895e+04</td>\n",
              "</tr>\n",
              "<tr>\n",
              "  <th>Date:</th>             <td>Wed, 12 May 2021</td> <th>  Prob (F-statistic):</th>  <td>  0.00</td>  \n",
              "</tr>\n",
              "<tr>\n",
              "  <th>Time:</th>                 <td>17:38:35</td>     <th>  Log-Likelihood:    </th> <td> -76168.</td> \n",
              "</tr>\n",
              "<tr>\n",
              "  <th>No. Observations:</th>      <td> 33600</td>      <th>  AIC:               </th> <td>1.524e+05</td>\n",
              "</tr>\n",
              "<tr>\n",
              "  <th>Df Residuals:</th>          <td> 33589</td>      <th>  BIC:               </th> <td>1.525e+05</td>\n",
              "</tr>\n",
              "<tr>\n",
              "  <th>Df Model:</th>              <td>    10</td>      <th>                     </th>     <td> </td>    \n",
              "</tr>\n",
              "<tr>\n",
              "  <th>Covariance Type:</th>      <td>nonrobust</td>    <th>                     </th>     <td> </td>    \n",
              "</tr>\n",
              "</table>\n",
              "<table class=\"simpletable\">\n",
              "<tr>\n",
              "          <td></td>            <th>coef</th>     <th>std err</th>      <th>t</th>      <th>P>|t|</th>  <th>[0.025</th>    <th>0.975]</th>  \n",
              "</tr>\n",
              "<tr>\n",
              "  <th>const</th>            <td> -107.1331</td> <td>   18.755</td> <td>   -5.712</td> <td> 0.000</td> <td> -143.893</td> <td>  -70.374</td>\n",
              "</tr>\n",
              "<tr>\n",
              "  <th>Aeration Rate</th>    <td>   -0.1851</td> <td>    0.012</td> <td>  -14.966</td> <td> 0.000</td> <td>   -0.209</td> <td>   -0.161</td>\n",
              "</tr>\n",
              "<tr>\n",
              "  <th>AgitatorPower</th>    <td>   -0.0012</td> <td>    0.003</td> <td>   -0.373</td> <td> 0.709</td> <td>   -0.007</td> <td>    0.005</td>\n",
              "</tr>\n",
              "<tr>\n",
              "  <th>Subst Feed Conc.</th> <td> -310.2666</td> <td>    2.465</td> <td> -125.849</td> <td> 0.000</td> <td> -315.099</td> <td> -305.434</td>\n",
              "</tr>\n",
              "<tr>\n",
              "  <th>Substrate feed T</th> <td>    0.1183</td> <td>    0.044</td> <td>    2.690</td> <td> 0.007</td> <td>    0.032</td> <td>    0.205</td>\n",
              "</tr>\n",
              "<tr>\n",
              "  <th>Temp</th>             <td>    0.0421</td> <td>    0.045</td> <td>    0.941</td> <td> 0.347</td> <td>   -0.046</td> <td>    0.130</td>\n",
              "</tr>\n",
              "<tr>\n",
              "  <th>pH</th>               <td>   -3.5992</td> <td>    0.311</td> <td>  -11.584</td> <td> 0.000</td> <td>   -4.208</td> <td>   -2.990</td>\n",
              "</tr>\n",
              "<tr>\n",
              "  <th>Dis O2 Conc.</th>     <td>   73.5173</td> <td>    1.025</td> <td>   71.742</td> <td> 0.000</td> <td>   71.509</td> <td>   75.526</td>\n",
              "</tr>\n",
              "<tr>\n",
              "  <th>CO2 Conc.</th>        <td>   -1.0707</td> <td>    0.083</td> <td>  -12.928</td> <td> 0.000</td> <td>   -1.233</td> <td>   -0.908</td>\n",
              "</tr>\n",
              "<tr>\n",
              "  <th>VOL</th>              <td>    0.1445</td> <td>    0.009</td> <td>   16.563</td> <td> 0.000</td> <td>    0.127</td> <td>    0.162</td>\n",
              "</tr>\n",
              "<tr>\n",
              "  <th>Heat</th>             <td>   -0.0054</td> <td>    0.003</td> <td>   -1.924</td> <td> 0.054</td> <td>   -0.011</td> <td>    0.000</td>\n",
              "</tr>\n",
              "</table>\n",
              "<table class=\"simpletable\">\n",
              "<tr>\n",
              "  <th>Omnibus:</th>       <td>6731.720</td> <th>  Durbin-Watson:     </th>  <td>   1.991</td> \n",
              "</tr>\n",
              "<tr>\n",
              "  <th>Prob(Omnibus):</th>  <td> 0.000</td>  <th>  Jarque-Bera (JB):  </th> <td>236244.420</td>\n",
              "</tr>\n",
              "<tr>\n",
              "  <th>Skew:</th>           <td> 0.059</td>  <th>  Prob(JB):          </th>  <td>    0.00</td> \n",
              "</tr>\n",
              "<tr>\n",
              "  <th>Kurtosis:</th>       <td>15.990</td>  <th>  Cond. No.          </th>  <td>6.45e+05</td> \n",
              "</tr>\n",
              "</table><br/><br/>Warnings:<br/>[1] Standard Errors assume that the covariance matrix of the errors is correctly specified.<br/>[2] The condition number is large, 6.45e+05. This might indicate that there are<br/>strong multicollinearity or other numerical problems."
            ],
            "text/plain": [
              "<class 'statsmodels.iolib.summary.Summary'>\n",
              "\"\"\"\n",
              "                            OLS Regression Results                            \n",
              "==============================================================================\n",
              "Dep. Variable:         Substrate Conc   R-squared:                       0.849\n",
              "Model:                            OLS   Adj. R-squared:                  0.849\n",
              "Method:                 Least Squares   F-statistic:                 1.895e+04\n",
              "Date:                Wed, 12 May 2021   Prob (F-statistic):               0.00\n",
              "Time:                        17:38:35   Log-Likelihood:                -76168.\n",
              "No. Observations:               33600   AIC:                         1.524e+05\n",
              "Df Residuals:                   33589   BIC:                         1.525e+05\n",
              "Df Model:                          10                                         \n",
              "Covariance Type:            nonrobust                                         \n",
              "====================================================================================\n",
              "                       coef    std err          t      P>|t|      [0.025      0.975]\n",
              "------------------------------------------------------------------------------------\n",
              "const             -107.1331     18.755     -5.712      0.000    -143.893     -70.374\n",
              "Aeration Rate       -0.1851      0.012    -14.966      0.000      -0.209      -0.161\n",
              "AgitatorPower       -0.0012      0.003     -0.373      0.709      -0.007       0.005\n",
              "Subst Feed Conc.  -310.2666      2.465   -125.849      0.000    -315.099    -305.434\n",
              "Substrate feed T     0.1183      0.044      2.690      0.007       0.032       0.205\n",
              "Temp                 0.0421      0.045      0.941      0.347      -0.046       0.130\n",
              "pH                  -3.5992      0.311    -11.584      0.000      -4.208      -2.990\n",
              "Dis O2 Conc.        73.5173      1.025     71.742      0.000      71.509      75.526\n",
              "CO2 Conc.           -1.0707      0.083    -12.928      0.000      -1.233      -0.908\n",
              "VOL                  0.1445      0.009     16.563      0.000       0.127       0.162\n",
              "Heat                -0.0054      0.003     -1.924      0.054      -0.011       0.000\n",
              "==============================================================================\n",
              "Omnibus:                     6731.720   Durbin-Watson:                   1.991\n",
              "Prob(Omnibus):                  0.000   Jarque-Bera (JB):           236244.420\n",
              "Skew:                           0.059   Prob(JB):                         0.00\n",
              "Kurtosis:                      15.990   Cond. No.                     6.45e+05\n",
              "==============================================================================\n",
              "\n",
              "Warnings:\n",
              "[1] Standard Errors assume that the covariance matrix of the errors is correctly specified.\n",
              "[2] The condition number is large, 6.45e+05. This might indicate that there are\n",
              "strong multicollinearity or other numerical problems.\n",
              "\"\"\""
            ]
          },
          "metadata": {
            "tags": []
          },
          "execution_count": 79
        }
      ]
    },
    {
      "cell_type": "markdown",
      "metadata": {
        "id": "rrY6UfTjFuDp"
      },
      "source": [
        "# **RANDOM FOREST REGRESSION MODEL**"
      ]
    },
    {
      "cell_type": "code",
      "metadata": {
        "colab": {
          "base_uri": "https://localhost:8080/"
        },
        "id": "x0PNcFgVFwlD",
        "outputId": "5dd04422-d10a-4bb3-cbca-d70fe0aa307e"
      },
      "source": [
        "import pandas as pd\n",
        "import numpy as np\n",
        "import matplotlib.pyplot as plt \n",
        "data = '/content/gdrive/My Drive/CHE SOP-DOP/1-s2.0-S1369703X18301359-mmc2.xlsx - Sheet1.csv'\n",
        "df = pd.read_csv(data)\n",
        "\n",
        "Parameters = ['Aeration Rate', 'AgitatorPower', 'Subst Feed Conc.', 'Substrate feed T', 'Temp', 'pH', 'Dis O2 Conc.', 'CO2 Conc.', 'VOL', 'Heat', 'Peni Conc.', 'Biomass Conc', 'Substrate Conc']\n",
        "df.columns = Parameters\n",
        "print(df.head())\n"
      ],
      "execution_count": null,
      "outputs": [
        {
          "output_type": "stream",
          "text": [
            "   Aeration Rate  AgitatorPower  ...  Biomass Conc  Substrate Conc\n",
            "0       7.997728      29.666590  ...      0.100000       15.000000\n",
            "1       7.786650      30.725216  ...      0.105235       14.989514\n",
            "2       7.667642      30.741825  ...      0.110740       14.978389\n",
            "3       7.641116      30.311470  ...      0.116530       14.966589\n",
            "4       8.304563      29.958562  ...      0.122621       14.954077\n",
            "\n",
            "[5 rows x 13 columns]\n"
          ],
          "name": "stdout"
        }
      ]
    },
    {
      "cell_type": "code",
      "metadata": {
        "id": "X9z5EAT_F0wT"
      },
      "source": [
        "X = df.drop(['Peni Conc.', 'Biomass Conc', 'Substrate Conc'], axis=1)\n",
        "y = df['Substrate Conc']"
      ],
      "execution_count": null,
      "outputs": []
    },
    {
      "cell_type": "code",
      "metadata": {
        "id": "_TYu9ajFF55o"
      },
      "source": [
        "from sklearn.model_selection import train_test_split\n",
        "X_train,X_test,y_train,y_test=train_test_split(X,y, test_size=0.3, random_state=0)\n"
      ],
      "execution_count": null,
      "outputs": []
    },
    {
      "cell_type": "code",
      "metadata": {
        "colab": {
          "base_uri": "https://localhost:8080/"
        },
        "id": "NM0dm88pF8Xs",
        "outputId": "7fec8f32-1d19-456d-a368-96c108ce7e16"
      },
      "source": [
        "#Import the Random Forest Regressor \n",
        "from sklearn.ensemble import RandomForestRegressor   \n",
        "  \n",
        "#Create a Random Forest regressor object from Random Forest Regressor class\n",
        "RFReg = RandomForestRegressor(n_estimators = 500, random_state = 0)\n",
        "  \n",
        "#Fit the random forest regressor with training data represented by X_train and y_train\n",
        "RFReg.fit(X_train, y_train)\n"
      ],
      "execution_count": null,
      "outputs": [
        {
          "output_type": "execute_result",
          "data": {
            "text/plain": [
              "RandomForestRegressor(bootstrap=True, ccp_alpha=0.0, criterion='mse',\n",
              "                      max_depth=None, max_features='auto', max_leaf_nodes=None,\n",
              "                      max_samples=None, min_impurity_decrease=0.0,\n",
              "                      min_impurity_split=None, min_samples_leaf=1,\n",
              "                      min_samples_split=2, min_weight_fraction_leaf=0.0,\n",
              "                      n_estimators=500, n_jobs=None, oob_score=False,\n",
              "                      random_state=0, verbose=0, warm_start=False)"
            ]
          },
          "metadata": {
            "tags": []
          },
          "execution_count": 65
        }
      ]
    },
    {
      "cell_type": "code",
      "metadata": {
        "colab": {
          "base_uri": "https://localhost:8080/"
        },
        "id": "I8pEp78_GM6X",
        "outputId": "d4fe67cd-b3d8-4c10-c69c-e1a713615fb0"
      },
      "source": [
        "#Predicted Height from test dataset w.r.t Random Forest Regression\n",
        "y_predict_rfr = RFReg.predict((X_test))\n",
        "\n",
        "#Model Evaluation using R-Square for Random Forest Regression\n",
        "from sklearn import metrics\n",
        "r_square = metrics.r2_score(y_test, y_predict_rfr)\n",
        "print('R-Square Error associated with Random Forest Regression is:', r_square)\n"
      ],
      "execution_count": null,
      "outputs": [
        {
          "output_type": "stream",
          "text": [
            "R-Square Error associated with Random Forest Regression is: 0.9575146449754474\n"
          ],
          "name": "stdout"
        }
      ]
    },
    {
      "cell_type": "code",
      "metadata": {
        "colab": {
          "base_uri": "https://localhost:8080/",
          "height": 386
        },
        "id": "dmZp-qsTGPEZ",
        "outputId": "7c3759e9-8be3-42df-8bbe-af4d9d50d2af"
      },
      "source": [
        "plt.figure(figsize=(10,5))\n",
        "plt.scatter(y_test, y_predict_rfr)\n",
        "plt.xlabel('Actual Substrate Concentration')\n",
        "plt.ylabel('Predicted Substrate Concentration')\n",
        "plt.title('Substrate Concentration: Actual vs Predicted using Random Forest Regression')\n"
      ],
      "execution_count": null,
      "outputs": [
        {
          "output_type": "execute_result",
          "data": {
            "text/plain": [
              "Text(0.5, 1.0, 'Substrate Concentration: Actual vs Predicted using Random Forest Regression')"
            ]
          },
          "metadata": {
            "tags": []
          },
          "execution_count": 81
        },
        {
          "output_type": "display_data",
          "data": {
            "image/png": "[encoded data removed]",
            "text/plain": [
              "<Figure size 720x360 with 1 Axes>"
            ]
          },
          "metadata": {
            "tags": [],
            "needs_background": "light"
          }
        }
      ]
    },
    {
      "cell_type": "code",
      "metadata": {
        "colab": {
          "base_uri": "https://localhost:8080/",
          "height": 1000
        },
        "id": "gtri1TK-GSB7",
        "outputId": "4a512d93-0d87-4c57-8876-47d99de2a959"
      },
      "source": [
        "pred_y_df=pd.DataFrame({'Actual Value':y_test, 'Predicted Value':y_predict_rfr, 'Difference':y_test-y_predict_rfr})\n",
        "pred_y_df[0:40]\n"
      ],
      "execution_count": null,
      "outputs": [
        {
          "output_type": "execute_result",
          "data": {
            "text/html": [
              "<div>\n",
              "<style scoped>\n",
              "    .dataframe tbody tr th:only-of-type {\n",
              "        vertical-align: middle;\n",
              "    }\n",
              "\n",
              "    .dataframe tbody tr th {\n",
              "        vertical-align: top;\n",
              "    }\n",
              "\n",
              "    .dataframe thead th {\n",
              "        text-align: right;\n",
              "    }\n",
              "</style>\n",
              "<table border=\"1\" class=\"dataframe\">\n",
              "  <thead>\n",
              "    <tr style=\"text-align: right;\">\n",
              "      <th></th>\n",
              "      <th>Actual Value</th>\n",
              "      <th>Predicted Value</th>\n",
              "      <th>Difference</th>\n",
              "    </tr>\n",
              "  </thead>\n",
              "  <tbody>\n",
              "    <tr>\n",
              "      <th>37957</th>\n",
              "      <td>0.035805</td>\n",
              "      <td>0.035977</td>\n",
              "      <td>-0.000171</td>\n",
              "    </tr>\n",
              "    <tr>\n",
              "      <th>45965</th>\n",
              "      <td>0.018561</td>\n",
              "      <td>0.018431</td>\n",
              "      <td>0.000130</td>\n",
              "    </tr>\n",
              "    <tr>\n",
              "      <th>33541</th>\n",
              "      <td>0.009614</td>\n",
              "      <td>0.009396</td>\n",
              "      <td>0.000218</td>\n",
              "    </tr>\n",
              "    <tr>\n",
              "      <th>9905</th>\n",
              "      <td>0.050439</td>\n",
              "      <td>0.050528</td>\n",
              "      <td>-0.000089</td>\n",
              "    </tr>\n",
              "    <tr>\n",
              "      <th>9472</th>\n",
              "      <td>0.015205</td>\n",
              "      <td>0.015086</td>\n",
              "      <td>0.000119</td>\n",
              "    </tr>\n",
              "    <tr>\n",
              "      <th>23682</th>\n",
              "      <td>0.019184</td>\n",
              "      <td>0.019022</td>\n",
              "      <td>0.000162</td>\n",
              "    </tr>\n",
              "    <tr>\n",
              "      <th>12880</th>\n",
              "      <td>15.573440</td>\n",
              "      <td>12.177476</td>\n",
              "      <td>3.395963</td>\n",
              "    </tr>\n",
              "    <tr>\n",
              "      <th>786</th>\n",
              "      <td>0.007907</td>\n",
              "      <td>0.008528</td>\n",
              "      <td>-0.000621</td>\n",
              "    </tr>\n",
              "    <tr>\n",
              "      <th>3015</th>\n",
              "      <td>0.012001</td>\n",
              "      <td>0.011249</td>\n",
              "      <td>0.000752</td>\n",
              "    </tr>\n",
              "    <tr>\n",
              "      <th>37111</th>\n",
              "      <td>0.030186</td>\n",
              "      <td>0.030427</td>\n",
              "      <td>-0.000241</td>\n",
              "    </tr>\n",
              "    <tr>\n",
              "      <th>18801</th>\n",
              "      <td>0.016634</td>\n",
              "      <td>0.016421</td>\n",
              "      <td>0.000213</td>\n",
              "    </tr>\n",
              "    <tr>\n",
              "      <th>7791</th>\n",
              "      <td>0.019593</td>\n",
              "      <td>0.019458</td>\n",
              "      <td>0.000135</td>\n",
              "    </tr>\n",
              "    <tr>\n",
              "      <th>28516</th>\n",
              "      <td>0.025788</td>\n",
              "      <td>0.025649</td>\n",
              "      <td>0.000139</td>\n",
              "    </tr>\n",
              "    <tr>\n",
              "      <th>5153</th>\n",
              "      <td>0.022534</td>\n",
              "      <td>0.022596</td>\n",
              "      <td>-0.000062</td>\n",
              "    </tr>\n",
              "    <tr>\n",
              "      <th>8611</th>\n",
              "      <td>0.013160</td>\n",
              "      <td>0.013010</td>\n",
              "      <td>0.000150</td>\n",
              "    </tr>\n",
              "    <tr>\n",
              "      <th>13066</th>\n",
              "      <td>0.033611</td>\n",
              "      <td>0.033971</td>\n",
              "      <td>-0.000360</td>\n",
              "    </tr>\n",
              "    <tr>\n",
              "      <th>30167</th>\n",
              "      <td>0.013461</td>\n",
              "      <td>0.013230</td>\n",
              "      <td>0.000231</td>\n",
              "    </tr>\n",
              "    <tr>\n",
              "      <th>33586</th>\n",
              "      <td>0.008591</td>\n",
              "      <td>0.008667</td>\n",
              "      <td>-0.000076</td>\n",
              "    </tr>\n",
              "    <tr>\n",
              "      <th>9068</th>\n",
              "      <td>0.085021</td>\n",
              "      <td>0.084166</td>\n",
              "      <td>0.000855</td>\n",
              "    </tr>\n",
              "    <tr>\n",
              "      <th>2545</th>\n",
              "      <td>0.042889</td>\n",
              "      <td>0.058369</td>\n",
              "      <td>-0.015480</td>\n",
              "    </tr>\n",
              "    <tr>\n",
              "      <th>21500</th>\n",
              "      <td>0.006666</td>\n",
              "      <td>0.006836</td>\n",
              "      <td>-0.000170</td>\n",
              "    </tr>\n",
              "    <tr>\n",
              "      <th>14180</th>\n",
              "      <td>0.017107</td>\n",
              "      <td>0.017140</td>\n",
              "      <td>-0.000033</td>\n",
              "    </tr>\n",
              "    <tr>\n",
              "      <th>7070</th>\n",
              "      <td>0.013260</td>\n",
              "      <td>0.013060</td>\n",
              "      <td>0.000200</td>\n",
              "    </tr>\n",
              "    <tr>\n",
              "      <th>34866</th>\n",
              "      <td>0.018435</td>\n",
              "      <td>0.018684</td>\n",
              "      <td>-0.000249</td>\n",
              "    </tr>\n",
              "    <tr>\n",
              "      <th>19627</th>\n",
              "      <td>0.033996</td>\n",
              "      <td>0.034760</td>\n",
              "      <td>-0.000764</td>\n",
              "    </tr>\n",
              "    <tr>\n",
              "      <th>25421</th>\n",
              "      <td>0.013924</td>\n",
              "      <td>0.013768</td>\n",
              "      <td>0.000157</td>\n",
              "    </tr>\n",
              "    <tr>\n",
              "      <th>2870</th>\n",
              "      <td>0.012144</td>\n",
              "      <td>0.011773</td>\n",
              "      <td>0.000371</td>\n",
              "    </tr>\n",
              "    <tr>\n",
              "      <th>8729</th>\n",
              "      <td>0.008478</td>\n",
              "      <td>0.008605</td>\n",
              "      <td>-0.000127</td>\n",
              "    </tr>\n",
              "    <tr>\n",
              "      <th>28490</th>\n",
              "      <td>0.028753</td>\n",
              "      <td>0.028405</td>\n",
              "      <td>0.000347</td>\n",
              "    </tr>\n",
              "    <tr>\n",
              "      <th>13603</th>\n",
              "      <td>16.038049</td>\n",
              "      <td>17.543403</td>\n",
              "      <td>-1.505354</td>\n",
              "    </tr>\n",
              "    <tr>\n",
              "      <th>20751</th>\n",
              "      <td>0.008470</td>\n",
              "      <td>0.007881</td>\n",
              "      <td>0.000589</td>\n",
              "    </tr>\n",
              "    <tr>\n",
              "      <th>32480</th>\n",
              "      <td>0.018182</td>\n",
              "      <td>0.017805</td>\n",
              "      <td>0.000377</td>\n",
              "    </tr>\n",
              "    <tr>\n",
              "      <th>44681</th>\n",
              "      <td>0.016970</td>\n",
              "      <td>0.016868</td>\n",
              "      <td>0.000102</td>\n",
              "    </tr>\n",
              "    <tr>\n",
              "      <th>44478</th>\n",
              "      <td>0.011321</td>\n",
              "      <td>0.012349</td>\n",
              "      <td>-0.001029</td>\n",
              "    </tr>\n",
              "    <tr>\n",
              "      <th>5517</th>\n",
              "      <td>0.009218</td>\n",
              "      <td>0.009500</td>\n",
              "      <td>-0.000281</td>\n",
              "    </tr>\n",
              "    <tr>\n",
              "      <th>39426</th>\n",
              "      <td>-0.000461</td>\n",
              "      <td>0.000212</td>\n",
              "      <td>-0.000673</td>\n",
              "    </tr>\n",
              "    <tr>\n",
              "      <th>2747</th>\n",
              "      <td>0.012312</td>\n",
              "      <td>0.013257</td>\n",
              "      <td>-0.000944</td>\n",
              "    </tr>\n",
              "    <tr>\n",
              "      <th>21574</th>\n",
              "      <td>0.007341</td>\n",
              "      <td>0.007401</td>\n",
              "      <td>-0.000060</td>\n",
              "    </tr>\n",
              "    <tr>\n",
              "      <th>2307</th>\n",
              "      <td>0.008852</td>\n",
              "      <td>0.009395</td>\n",
              "      <td>-0.000543</td>\n",
              "    </tr>\n",
              "    <tr>\n",
              "      <th>18996</th>\n",
              "      <td>0.010580</td>\n",
              "      <td>0.010591</td>\n",
              "      <td>-0.000011</td>\n",
              "    </tr>\n",
              "  </tbody>\n",
              "</table>\n",
              "</div>"
            ],
            "text/plain": [
              "       Actual Value  Predicted Value  Difference\n",
              "37957      0.035805         0.035977   -0.000171\n",
              "45965      0.018561         0.018431    0.000130\n",
              "33541      0.009614         0.009396    0.000218\n",
              "9905       0.050439         0.050528   -0.000089\n",
              "9472       0.015205         0.015086    0.000119\n",
              "23682      0.019184         0.019022    0.000162\n",
              "12880     15.573440        12.177476    3.395963\n",
              "786        0.007907         0.008528   -0.000621\n",
              "3015       0.012001         0.011249    0.000752\n",
              "37111      0.030186         0.030427   -0.000241\n",
              "18801      0.016634         0.016421    0.000213\n",
              "7791       0.019593         0.019458    0.000135\n",
              "28516      0.025788         0.025649    0.000139\n",
              "5153       0.022534         0.022596   -0.000062\n",
              "8611       0.013160         0.013010    0.000150\n",
              "13066      0.033611         0.033971   -0.000360\n",
              "30167      0.013461         0.013230    0.000231\n",
              "33586      0.008591         0.008667   -0.000076\n",
              "9068       0.085021         0.084166    0.000855\n",
              "2545       0.042889         0.058369   -0.015480\n",
              "21500      0.006666         0.006836   -0.000170\n",
              "14180      0.017107         0.017140   -0.000033\n",
              "7070       0.013260         0.013060    0.000200\n",
              "34866      0.018435         0.018684   -0.000249\n",
              "19627      0.033996         0.034760   -0.000764\n",
              "25421      0.013924         0.013768    0.000157\n",
              "2870       0.012144         0.011773    0.000371\n",
              "8729       0.008478         0.008605   -0.000127\n",
              "28490      0.028753         0.028405    0.000347\n",
              "13603     16.038049        17.543403   -1.505354\n",
              "20751      0.008470         0.007881    0.000589\n",
              "32480      0.018182         0.017805    0.000377\n",
              "44681      0.016970         0.016868    0.000102\n",
              "44478      0.011321         0.012349   -0.001029\n",
              "5517       0.009218         0.009500   -0.000281\n",
              "39426     -0.000461         0.000212   -0.000673\n",
              "2747       0.012312         0.013257   -0.000944\n",
              "21574      0.007341         0.007401   -0.000060\n",
              "2307       0.008852         0.009395   -0.000543\n",
              "18996      0.010580         0.010591   -0.000011"
            ]
          },
          "metadata": {
            "tags": []
          },
          "execution_count": 69
        }
      ]
    },
    {
      "cell_type": "code",
      "metadata": {
        "colab": {
          "base_uri": "https://localhost:8080/"
        },
        "id": "w9-PkPh5GbKP",
        "outputId": "0bfba432-a5d5-4a65-88c9-59d3b614fc8a"
      },
      "source": [
        "from sklearn import linear_model\n",
        "from sklearn.tree import DecisionTreeRegressor\n",
        "from sklearn.metrics import mean_squared_error, mean_absolute_error\n",
        "from sklearn.ensemble import RandomForestRegressor\n",
        "\n",
        "model = RandomForestRegressor(n_estimators=500, random_state=0)\n",
        "model.fit(X_train, y_train)\n",
        "y_pred_rf = model.predict(X_test)\n",
        "mse_rf = mean_squared_error(y_test, y_pred_rf)\n",
        "mae_rf = mean_absolute_error(y_test, y_pred_rf)\n",
        "print('Mean squared error for Random Forest Regression for Substrate Concentration: ', mse_rf)\n",
        "print('Mean absolute error for Random Forest Regression for Substrate Concentration: ', mae_rf)\n"
      ],
      "execution_count": null,
      "outputs": [
        {
          "output_type": "stream",
          "text": [
            "Mean squared error for Random Forest Regression for Substrate Concentration:  1.5738780736510585\n",
            "Mean absolute error for Random Forest Regression for Substrate Concentration:  0.31011989907366266\n"
          ],
          "name": "stdout"
        }
      ]
    },
    {
      "cell_type": "code",
      "metadata": {
        "colab": {
          "base_uri": "https://localhost:8080/"
        },
        "id": "ecoGoRXrGiT6",
        "outputId": "26961e31-5542-47a1-dc47-833b9924077c"
      },
      "source": [
        "import pandas as pd\n",
        "Parameters_list = list(X.columns)\n",
        "Parameters_imp = pd.Series(model.feature_importances_,index=Parameters_list).sort_values()\n",
        "print(Parameters_imp)"
      ],
      "execution_count": null,
      "outputs": [
        {
          "output_type": "stream",
          "text": [
            "Subst Feed Conc.    0.000059\n",
            "Temp                0.004416\n",
            "Substrate feed T    0.004803\n",
            "pH                  0.010106\n",
            "VOL                 0.012252\n",
            "CO2 Conc.           0.019778\n",
            "Aeration Rate       0.027914\n",
            "AgitatorPower       0.038728\n",
            "Dis O2 Conc.        0.043268\n",
            "Heat                0.838676\n",
            "dtype: float64\n"
          ],
          "name": "stdout"
        }
      ]
    }
  ]
}