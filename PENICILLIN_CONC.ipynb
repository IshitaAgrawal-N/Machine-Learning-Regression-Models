{
  "nbformat": 4,
  "nbformat_minor": 0,
  "metadata": {
    "colab": {
      "name": "PENICILLIN CONC.ipynb",
      "provenance": [],
      "collapsed_sections": [],
      "toc_visible": true,
      "include_colab_link": true
    },
    "kernelspec": {
      "name": "python3",
      "display_name": "Python 3"
    },
    "language_info": {
      "name": "python"
    }
  },
  "cells": [
    {
      "cell_type": "markdown",
      "metadata": {
        "id": "view-in-github",
        "colab_type": "text"
      },
      "source": [
        "<a href=\"https://colab.research.google.com/github/IshitaAgrawal-N/Machine-Learning-Regression-Models/blob/main/PENICILLIN_CONC.ipynb\" target=\"_parent\"><img src=\"https://colab.research.google.com/assets/colab-badge.svg\" alt=\"Open In Colab\"/></a>"
      ]
    },
    {
      "cell_type": "markdown",
      "source": [
        "# New Section"
      ],
      "metadata": {
        "id": "QsyFO7qQEng7"
      }
    },
    {
      "cell_type": "code",
      "metadata": {
        "colab": {
          "base_uri": "https://localhost:8080/"
        },
        "id": "17RKweutQMuY",
        "outputId": "6a63cdb3-6938-4252-9cf1-655840b6769d"
      },
      "source": [
        "from google.colab import drive\n",
        "\n",
        "drive.mount('/content/gdrive')\n"
      ],
      "execution_count": null,
      "outputs": [
        {
          "output_type": "stream",
          "text": [
            "Mounted at /content/gdrive\n"
          ],
          "name": "stdout"
        }
      ]
    },
    {
      "cell_type": "markdown",
      "metadata": {
        "id": "dy-UeG9Tzddo"
      },
      "source": [
        "# **NEURAL NETWORK MODEL**"
      ]
    },
    {
      "cell_type": "code",
      "metadata": {
        "colab": {
          "base_uri": "https://localhost:8080/",
          "height": 306
        },
        "id": "S0vRd5xJQbJu",
        "outputId": "a75c06fa-ab6b-4d6a-ce17-72df78a2322f"
      },
      "source": [
        "from sklearn.model_selection import cross_val_score\n",
        "from sklearn.model_selection import train_test_split\n",
        "\n",
        "from sklearn.model_selection import KFold\n",
        "from sklearn.pipeline import Pipeline\n",
        "import pandas as pd\n",
        "from keras.models import Sequential\n",
        "from keras.layers import Dense\n",
        "from keras.wrappers.scikit_learn import KerasRegressor\n",
        "\n",
        "data = '/content/gdrive/My Drive/CHE SOP-DOP/1-s2.0-S1369703X18301359-mmc2.xlsx - Sheet1.csv'\n",
        "df = pd.read_csv(data)\n",
        "\n",
        "Parameters = ['Aeration Rate', 'AgitatorPower', 'Subst Feed Conc.', 'Substrate feed T', 'Temp', 'pH', 'Dis O2 Conc.', 'CO2 Conc.', 'VOL', 'Heat', 'Peni Conc.', 'Biomass Conc', 'Substrate Conc']\n",
        "df.columns = Parameters\n",
        "df.head()\n"
      ],
      "execution_count": null,
      "outputs": [
        {
          "output_type": "execute_result",
          "data": {
            "text/html": [
              "<div>\n",
              "<style scoped>\n",
              "    .dataframe tbody tr th:only-of-type {\n",
              "        vertical-align: middle;\n",
              "    }\n",
              "\n",
              "    .dataframe tbody tr th {\n",
              "        vertical-align: top;\n",
              "    }\n",
              "\n",
              "    .dataframe thead th {\n",
              "        text-align: right;\n",
              "    }\n",
              "</style>\n",
              "<table border=\"1\" class=\"dataframe\">\n",
              "  <thead>\n",
              "    <tr style=\"text-align: right;\">\n",
              "      <th></th>\n",
              "      <th>Aeration Rate</th>\n",
              "      <th>AgitatorPower</th>\n",
              "      <th>Subst Feed Conc.</th>\n",
              "      <th>Substrate feed T</th>\n",
              "      <th>Temp</th>\n",
              "      <th>pH</th>\n",
              "      <th>Dis O2 Conc.</th>\n",
              "      <th>CO2 Conc.</th>\n",
              "      <th>VOL</th>\n",
              "      <th>Heat</th>\n",
              "      <th>Peni Conc.</th>\n",
              "      <th>Biomass Conc</th>\n",
              "      <th>Substrate Conc</th>\n",
              "    </tr>\n",
              "  </thead>\n",
              "  <tbody>\n",
              "    <tr>\n",
              "      <th>0</th>\n",
              "      <td>7.997728</td>\n",
              "      <td>29.666590</td>\n",
              "      <td>2.220000e-16</td>\n",
              "      <td>295.787176</td>\n",
              "      <td>297.770060</td>\n",
              "      <td>4.971986</td>\n",
              "      <td>1.159849</td>\n",
              "      <td>0.473630</td>\n",
              "      <td>100.000000</td>\n",
              "      <td>0.008368</td>\n",
              "      <td>2.220000e-16</td>\n",
              "      <td>0.100000</td>\n",
              "      <td>15.000000</td>\n",
              "    </tr>\n",
              "    <tr>\n",
              "      <th>1</th>\n",
              "      <td>7.786650</td>\n",
              "      <td>30.725216</td>\n",
              "      <td>2.220000e-16</td>\n",
              "      <td>296.007353</td>\n",
              "      <td>298.067225</td>\n",
              "      <td>5.001013</td>\n",
              "      <td>1.154538</td>\n",
              "      <td>0.445180</td>\n",
              "      <td>99.987549</td>\n",
              "      <td>0.021791</td>\n",
              "      <td>1.680000e-06</td>\n",
              "      <td>0.105235</td>\n",
              "      <td>14.989514</td>\n",
              "    </tr>\n",
              "    <tr>\n",
              "      <th>2</th>\n",
              "      <td>7.667642</td>\n",
              "      <td>30.741825</td>\n",
              "      <td>2.220000e-16</td>\n",
              "      <td>295.611213</td>\n",
              "      <td>298.156089</td>\n",
              "      <td>4.955081</td>\n",
              "      <td>1.156036</td>\n",
              "      <td>0.487884</td>\n",
              "      <td>99.975100</td>\n",
              "      <td>0.071371</td>\n",
              "      <td>3.420000e-06</td>\n",
              "      <td>0.110740</td>\n",
              "      <td>14.978389</td>\n",
              "    </tr>\n",
              "    <tr>\n",
              "      <th>3</th>\n",
              "      <td>7.641116</td>\n",
              "      <td>30.311470</td>\n",
              "      <td>2.220000e-16</td>\n",
              "      <td>296.484351</td>\n",
              "      <td>298.375701</td>\n",
              "      <td>4.998819</td>\n",
              "      <td>1.153754</td>\n",
              "      <td>0.587555</td>\n",
              "      <td>99.962653</td>\n",
              "      <td>0.093127</td>\n",
              "      <td>5.220000e-06</td>\n",
              "      <td>0.116530</td>\n",
              "      <td>14.966589</td>\n",
              "    </tr>\n",
              "    <tr>\n",
              "      <th>4</th>\n",
              "      <td>8.304563</td>\n",
              "      <td>29.958562</td>\n",
              "      <td>2.220000e-16</td>\n",
              "      <td>296.439397</td>\n",
              "      <td>297.622245</td>\n",
              "      <td>5.023802</td>\n",
              "      <td>1.159222</td>\n",
              "      <td>0.392376</td>\n",
              "      <td>99.950208</td>\n",
              "      <td>0.142380</td>\n",
              "      <td>7.080000e-06</td>\n",
              "      <td>0.122621</td>\n",
              "      <td>14.954077</td>\n",
              "    </tr>\n",
              "  </tbody>\n",
              "</table>\n",
              "</div>"
            ],
            "text/plain": [
              "   Aeration Rate  AgitatorPower  ...  Biomass Conc  Substrate Conc\n",
              "0       7.997728      29.666590  ...      0.100000       15.000000\n",
              "1       7.786650      30.725216  ...      0.105235       14.989514\n",
              "2       7.667642      30.741825  ...      0.110740       14.978389\n",
              "3       7.641116      30.311470  ...      0.116530       14.966589\n",
              "4       8.304563      29.958562  ...      0.122621       14.954077\n",
              "\n",
              "[5 rows x 13 columns]"
            ]
          },
          "metadata": {
            "tags": []
          },
          "execution_count": 41
        }
      ]
    },
    {
      "cell_type": "code",
      "metadata": {
        "colab": {
          "base_uri": "https://localhost:8080/"
        },
        "id": "Ui4SVp_kYLXL",
        "outputId": "5c40d238-332e-4a09-db9e-f03922ed350d"
      },
      "source": [
        "print(df.describe())"
      ],
      "execution_count": null,
      "outputs": [
        {
          "output_type": "stream",
          "text": [
            "       Aeration Rate  AgitatorPower  ...  Biomass Conc  Substrate Conc\n",
            "count   48000.000000   48000.000000  ...  48000.000000    48000.000000\n",
            "mean        7.174676      33.084610  ...     10.997847        2.043106\n",
            "std         1.087719       4.223971  ...      3.718742        6.038446\n",
            "min         4.653990      23.979445  ...      0.000634       -0.010375\n",
            "25%         6.262741      30.008750  ...     10.912407        0.012933\n",
            "50%         7.289793      33.304819  ...     12.793935        0.022299\n",
            "75%         8.044820      36.443006  ...     13.080617        0.057500\n",
            "max         9.446993      40.697969  ...     13.489368       29.336738\n",
            "\n",
            "[8 rows x 13 columns]\n"
          ],
          "name": "stdout"
        }
      ]
    },
    {
      "cell_type": "code",
      "metadata": {
        "id": "t9oDv6WbQ5cD"
      },
      "source": [
        "X = df.drop(['Peni Conc.', 'Biomass Conc', 'Substrate Conc'], axis=1)\n",
        "y = df['Peni Conc.']"
      ],
      "execution_count": null,
      "outputs": []
    },
    {
      "cell_type": "code",
      "metadata": {
        "colab": {
          "base_uri": "https://localhost:8080/"
        },
        "id": "jVyuVlW7Td_S",
        "outputId": "f7c840d8-6e57-4ccd-ad4a-e6f8fefc32fa"
      },
      "source": [
        "print(X)\n"
      ],
      "execution_count": null,
      "outputs": [
        {
          "output_type": "stream",
          "text": [
            "       Aeration Rate  AgitatorPower  ...         VOL       Heat\n",
            "0           7.997728      29.666590  ...  100.000000   0.008368\n",
            "1           7.786650      30.725216  ...   99.987549   0.021791\n",
            "2           7.667642      30.741825  ...   99.975100   0.071371\n",
            "3           7.641116      30.311470  ...   99.962653   0.093127\n",
            "4           8.304563      29.958562  ...   99.950208   0.142380\n",
            "...              ...            ...  ...         ...        ...\n",
            "47995       5.421724      36.327411  ...  105.720389  76.572162\n",
            "47996       5.217079      35.776739  ...  105.729643  76.576014\n",
            "47997       5.694386      35.206284  ...  105.738909  76.564558\n",
            "47998       5.562624      36.284345  ...  105.748192  76.555443\n",
            "47999       5.574685      35.997997  ...  105.757491  76.535246\n",
            "\n",
            "[48000 rows x 10 columns]\n"
          ],
          "name": "stdout"
        }
      ]
    },
    {
      "cell_type": "code",
      "metadata": {
        "colab": {
          "base_uri": "https://localhost:8080/"
        },
        "id": "aPWwmaYQTgoe",
        "outputId": "daca8e2a-2029-4090-9d6f-5de0ed144c79"
      },
      "source": [
        "print(y)"
      ],
      "execution_count": null,
      "outputs": [
        {
          "output_type": "stream",
          "text": [
            "0        2.220000e-16\n",
            "1        1.680000e-06\n",
            "2        3.420000e-06\n",
            "3        5.220000e-06\n",
            "4        7.080000e-06\n",
            "             ...     \n",
            "47995    1.462076e+00\n",
            "47996    1.461969e+00\n",
            "47997    1.461833e+00\n",
            "47998    1.461667e+00\n",
            "47999    1.461469e+00\n",
            "Name: Peni Conc., Length: 48000, dtype: float64\n"
          ],
          "name": "stdout"
        }
      ]
    },
    {
      "cell_type": "code",
      "metadata": {
        "id": "K1LrM_JbU1wf"
      },
      "source": [
        "X_train, X_test, y_train, y_test = train_test_split(X,y, test_size = 0.2, random_state=20)\n"
      ],
      "execution_count": null,
      "outputs": []
    },
    {
      "cell_type": "code",
      "metadata": {
        "id": "1Gy7PZ9CaTje"
      },
      "source": [
        "from sklearn.preprocessing import StandardScaler\n",
        "scaler=StandardScaler()\n",
        "scaler.fit(X_train)\n",
        "X_train_scaled = scaler.transform(X_train)\n",
        "\n",
        "X_test_scaled = scaler.transform(X_test)"
      ],
      "execution_count": null,
      "outputs": []
    },
    {
      "cell_type": "code",
      "metadata": {
        "colab": {
          "base_uri": "https://localhost:8080/"
        },
        "id": "MSBtKV6bazQZ",
        "outputId": "8fff404e-05d8-4e0c-c5c4-05350887a0bc"
      },
      "source": [
        "print(X_test_scaled)"
      ],
      "execution_count": null,
      "outputs": [
        {
          "output_type": "stream",
          "text": [
            "[[-0.77346914  1.37783364  0.38123198 ...  0.46400136  1.58997535\n",
            "   0.58232551]\n",
            " [-0.49204976  0.16752631  0.43282061 ... -0.30668483 -1.14626671\n",
            "  -0.23690715]\n",
            " [-0.46701665 -1.82319065 -2.6629187  ... -2.90900815 -1.22421445\n",
            "  -2.80568642]\n",
            " ...\n",
            " [-1.6163894  -1.02952337  0.38396933 ...  0.51943729  0.26547936\n",
            "   0.65374575]\n",
            " [ 0.05831028  1.05774776  0.38102141 ... -0.08271203 -1.32254172\n",
            "  -0.56494077]\n",
            " [ 0.79658618 -0.12047534  0.28458225 ...  0.59098659  1.67797132\n",
            "   0.5435943 ]]\n"
          ],
          "name": "stdout"
        }
      ]
    },
    {
      "cell_type": "code",
      "metadata": {
        "colab": {
          "base_uri": "https://localhost:8080/"
        },
        "id": "Dq8o0-n9b0Dy",
        "outputId": "d19e17f3-93c7-48e7-a2bb-dbb75c33a038"
      },
      "source": [
        "model = Sequential()\n",
        "model.add(Dense(128, input_dim=10, activation='relu'))\n",
        "\n",
        "model.add(Dense(64, activation='relu'))\n",
        "model.add(Dense(1, activation='linear'))\n",
        "model.compile(loss='mean_squared_error', optimizer='adam', metrics=['mae'])\n",
        "model.summary()\n",
        "\n"
      ],
      "execution_count": null,
      "outputs": [
        {
          "output_type": "stream",
          "text": [
            "Model: \"sequential_5\"\n",
            "_________________________________________________________________\n",
            "Layer (type)                 Output Shape              Param #   \n",
            "=================================================================\n",
            "dense_15 (Dense)             (None, 128)               1408      \n",
            "_________________________________________________________________\n",
            "dense_16 (Dense)             (None, 64)                8256      \n",
            "_________________________________________________________________\n",
            "dense_17 (Dense)             (None, 1)                 65        \n",
            "=================================================================\n",
            "Total params: 9,729\n",
            "Trainable params: 9,729\n",
            "Non-trainable params: 0\n",
            "_________________________________________________________________\n"
          ],
          "name": "stdout"
        }
      ]
    },
    {
      "cell_type": "code",
      "metadata": {
        "colab": {
          "base_uri": "https://localhost:8080/"
        },
        "id": "oCVTL2XkYukD",
        "outputId": "3fa8a835-b385-436e-e3d7-e6965d19a50a"
      },
      "source": [
        "history = model.fit(X_train_scaled, y_train, validation_split=0.2,epochs=100)\n"
      ],
      "execution_count": null,
      "outputs": [
        {
          "output_type": "stream",
          "text": [
            "Epoch 1/100\n",
            "960/960 [==============================] - 2s 2ms/step - loss: 0.0559 - mae: 0.1365 - val_loss: 0.0036 - val_mae: 0.0452\n",
            "Epoch 2/100\n",
            "960/960 [==============================] - 2s 2ms/step - loss: 0.0033 - mae: 0.0434 - val_loss: 0.0025 - val_mae: 0.0370\n",
            "Epoch 3/100\n",
            "960/960 [==============================] - 2s 2ms/step - loss: 0.0023 - mae: 0.0356 - val_loss: 0.0022 - val_mae: 0.0349\n",
            "Epoch 4/100\n",
            "960/960 [==============================] - 2s 2ms/step - loss: 0.0019 - mae: 0.0324 - val_loss: 0.0020 - val_mae: 0.0326\n",
            "Epoch 5/100\n",
            "960/960 [==============================] - 2s 2ms/step - loss: 0.0017 - mae: 0.0306 - val_loss: 0.0016 - val_mae: 0.0292\n",
            "Epoch 6/100\n",
            "960/960 [==============================] - 2s 2ms/step - loss: 0.0015 - mae: 0.0292 - val_loss: 0.0017 - val_mae: 0.0304\n",
            "Epoch 7/100\n",
            "960/960 [==============================] - 2s 2ms/step - loss: 0.0014 - mae: 0.0278 - val_loss: 0.0014 - val_mae: 0.0281\n",
            "Epoch 8/100\n",
            "960/960 [==============================] - 2s 2ms/step - loss: 0.0013 - mae: 0.0267 - val_loss: 0.0011 - val_mae: 0.0243\n",
            "Epoch 9/100\n",
            "960/960 [==============================] - 2s 2ms/step - loss: 0.0012 - mae: 0.0257 - val_loss: 0.0013 - val_mae: 0.0270\n",
            "Epoch 10/100\n",
            "960/960 [==============================] - 2s 2ms/step - loss: 0.0011 - mae: 0.0249 - val_loss: 0.0010 - val_mae: 0.0233\n",
            "Epoch 11/100\n",
            "960/960 [==============================] - 2s 2ms/step - loss: 0.0011 - mae: 0.0240 - val_loss: 0.0010 - val_mae: 0.0235\n",
            "Epoch 12/100\n",
            "960/960 [==============================] - 2s 2ms/step - loss: 0.0010 - mae: 0.0232 - val_loss: 9.8395e-04 - val_mae: 0.0232\n",
            "Epoch 13/100\n",
            "960/960 [==============================] - 2s 2ms/step - loss: 9.7771e-04 - mae: 0.0228 - val_loss: 8.5118e-04 - val_mae: 0.0210\n",
            "Epoch 14/100\n",
            "960/960 [==============================] - 2s 2ms/step - loss: 9.0077e-04 - mae: 0.0218 - val_loss: 8.7807e-04 - val_mae: 0.0216\n",
            "Epoch 15/100\n",
            "960/960 [==============================] - 2s 2ms/step - loss: 9.2144e-04 - mae: 0.0223 - val_loss: 8.0427e-04 - val_mae: 0.0202\n",
            "Epoch 16/100\n",
            "960/960 [==============================] - 2s 2ms/step - loss: 8.4599e-04 - mae: 0.0211 - val_loss: 0.0010 - val_mae: 0.0239\n",
            "Epoch 17/100\n",
            "960/960 [==============================] - 2s 2ms/step - loss: 8.4452e-04 - mae: 0.0213 - val_loss: 6.9220e-04 - val_mae: 0.0189\n",
            "Epoch 18/100\n",
            "960/960 [==============================] - 2s 2ms/step - loss: 8.0892e-04 - mae: 0.0204 - val_loss: 8.7316e-04 - val_mae: 0.0214\n",
            "Epoch 19/100\n",
            "960/960 [==============================] - 2s 2ms/step - loss: 7.8805e-04 - mae: 0.0203 - val_loss: 8.3997e-04 - val_mae: 0.0212\n",
            "Epoch 20/100\n",
            "960/960 [==============================] - 2s 2ms/step - loss: 7.6149e-04 - mae: 0.0199 - val_loss: 7.3578e-04 - val_mae: 0.0194\n",
            "Epoch 21/100\n",
            "960/960 [==============================] - 2s 2ms/step - loss: 7.2359e-04 - mae: 0.0195 - val_loss: 7.7892e-04 - val_mae: 0.0198\n",
            "Epoch 22/100\n",
            "960/960 [==============================] - 2s 2ms/step - loss: 7.2376e-04 - mae: 0.0196 - val_loss: 0.0011 - val_mae: 0.0258\n",
            "Epoch 23/100\n",
            "960/960 [==============================] - 2s 2ms/step - loss: 6.9490e-04 - mae: 0.0190 - val_loss: 6.9510e-04 - val_mae: 0.0195\n",
            "Epoch 24/100\n",
            "960/960 [==============================] - 2s 2ms/step - loss: 6.8231e-04 - mae: 0.0189 - val_loss: 7.0864e-04 - val_mae: 0.0195\n",
            "Epoch 25/100\n",
            "960/960 [==============================] - 2s 2ms/step - loss: 6.7724e-04 - mae: 0.0187 - val_loss: 6.7580e-04 - val_mae: 0.0189\n",
            "Epoch 26/100\n",
            "960/960 [==============================] - 2s 2ms/step - loss: 6.7126e-04 - mae: 0.0186 - val_loss: 6.8629e-04 - val_mae: 0.0189\n",
            "Epoch 27/100\n",
            "960/960 [==============================] - 2s 2ms/step - loss: 6.6816e-04 - mae: 0.0186 - val_loss: 6.9507e-04 - val_mae: 0.0189\n",
            "Epoch 28/100\n",
            "960/960 [==============================] - 2s 2ms/step - loss: 6.5119e-04 - mae: 0.0184 - val_loss: 6.6569e-04 - val_mae: 0.0184\n",
            "Epoch 29/100\n",
            "960/960 [==============================] - 2s 2ms/step - loss: 6.2347e-04 - mae: 0.0180 - val_loss: 6.7439e-04 - val_mae: 0.0191\n",
            "Epoch 30/100\n",
            "960/960 [==============================] - 2s 2ms/step - loss: 6.1577e-04 - mae: 0.0180 - val_loss: 5.8142e-04 - val_mae: 0.0171\n",
            "Epoch 31/100\n",
            "960/960 [==============================] - 2s 2ms/step - loss: 5.9807e-04 - mae: 0.0176 - val_loss: 6.6602e-04 - val_mae: 0.0184\n",
            "Epoch 32/100\n",
            "960/960 [==============================] - 2s 2ms/step - loss: 6.0034e-04 - mae: 0.0175 - val_loss: 6.0332e-04 - val_mae: 0.0176\n",
            "Epoch 33/100\n",
            "960/960 [==============================] - 2s 2ms/step - loss: 5.8326e-04 - mae: 0.0174 - val_loss: 5.7969e-04 - val_mae: 0.0170\n",
            "Epoch 34/100\n",
            "960/960 [==============================] - 2s 2ms/step - loss: 5.5751e-04 - mae: 0.0171 - val_loss: 6.2515e-04 - val_mae: 0.0177\n",
            "Epoch 35/100\n",
            "960/960 [==============================] - 2s 2ms/step - loss: 5.7579e-04 - mae: 0.0173 - val_loss: 6.1070e-04 - val_mae: 0.0175\n",
            "Epoch 36/100\n",
            "960/960 [==============================] - 2s 2ms/step - loss: 5.7034e-04 - mae: 0.0171 - val_loss: 6.8139e-04 - val_mae: 0.0193\n",
            "Epoch 37/100\n",
            "960/960 [==============================] - 2s 2ms/step - loss: 5.8646e-04 - mae: 0.0174 - val_loss: 5.6209e-04 - val_mae: 0.0166\n",
            "Epoch 38/100\n",
            "960/960 [==============================] - 2s 2ms/step - loss: 5.4006e-04 - mae: 0.0168 - val_loss: 5.6927e-04 - val_mae: 0.0171\n",
            "Epoch 39/100\n",
            "960/960 [==============================] - 2s 2ms/step - loss: 5.5213e-04 - mae: 0.0169 - val_loss: 6.0786e-04 - val_mae: 0.0178\n",
            "Epoch 40/100\n",
            "960/960 [==============================] - 2s 2ms/step - loss: 5.3617e-04 - mae: 0.0167 - val_loss: 6.9725e-04 - val_mae: 0.0192\n",
            "Epoch 41/100\n",
            "960/960 [==============================] - 2s 2ms/step - loss: 5.4622e-04 - mae: 0.0169 - val_loss: 5.5623e-04 - val_mae: 0.0169\n",
            "Epoch 42/100\n",
            "960/960 [==============================] - 2s 2ms/step - loss: 5.2118e-04 - mae: 0.0164 - val_loss: 5.0814e-04 - val_mae: 0.0160\n",
            "Epoch 43/100\n",
            "960/960 [==============================] - 2s 2ms/step - loss: 5.1987e-04 - mae: 0.0164 - val_loss: 5.9068e-04 - val_mae: 0.0180\n",
            "Epoch 44/100\n",
            "960/960 [==============================] - 2s 2ms/step - loss: 5.0819e-04 - mae: 0.0164 - val_loss: 5.6658e-04 - val_mae: 0.0174\n",
            "Epoch 45/100\n",
            "960/960 [==============================] - 2s 2ms/step - loss: 5.1197e-04 - mae: 0.0164 - val_loss: 6.2652e-04 - val_mae: 0.0186\n",
            "Epoch 46/100\n",
            "960/960 [==============================] - 2s 2ms/step - loss: 5.1949e-04 - mae: 0.0164 - val_loss: 4.9372e-04 - val_mae: 0.0160\n",
            "Epoch 47/100\n",
            "960/960 [==============================] - 2s 2ms/step - loss: 5.0448e-04 - mae: 0.0162 - val_loss: 5.0274e-04 - val_mae: 0.0163\n",
            "Epoch 48/100\n",
            "960/960 [==============================] - 2s 2ms/step - loss: 4.7372e-04 - mae: 0.0158 - val_loss: 4.6064e-04 - val_mae: 0.0153\n",
            "Epoch 49/100\n",
            "960/960 [==============================] - 2s 2ms/step - loss: 4.7882e-04 - mae: 0.0158 - val_loss: 4.8394e-04 - val_mae: 0.0156\n",
            "Epoch 50/100\n",
            "960/960 [==============================] - 2s 2ms/step - loss: 4.7677e-04 - mae: 0.0158 - val_loss: 4.9337e-04 - val_mae: 0.0161\n",
            "Epoch 51/100\n",
            "960/960 [==============================] - 2s 2ms/step - loss: 4.4945e-04 - mae: 0.0154 - val_loss: 5.0317e-04 - val_mae: 0.0158\n",
            "Epoch 52/100\n",
            "960/960 [==============================] - 2s 2ms/step - loss: 4.7190e-04 - mae: 0.0158 - val_loss: 4.9194e-04 - val_mae: 0.0162\n",
            "Epoch 53/100\n",
            "960/960 [==============================] - 2s 2ms/step - loss: 4.7101e-04 - mae: 0.0158 - val_loss: 4.2097e-04 - val_mae: 0.0144\n",
            "Epoch 54/100\n",
            "960/960 [==============================] - 2s 2ms/step - loss: 4.5468e-04 - mae: 0.0154 - val_loss: 4.4418e-04 - val_mae: 0.0151\n",
            "Epoch 55/100\n",
            "960/960 [==============================] - 2s 2ms/step - loss: 4.5206e-04 - mae: 0.0153 - val_loss: 4.3010e-04 - val_mae: 0.0149\n",
            "Epoch 56/100\n",
            "960/960 [==============================] - 2s 2ms/step - loss: 4.3625e-04 - mae: 0.0150 - val_loss: 4.3275e-04 - val_mae: 0.0150\n",
            "Epoch 57/100\n",
            "960/960 [==============================] - 2s 2ms/step - loss: 4.3656e-04 - mae: 0.0151 - val_loss: 4.2195e-04 - val_mae: 0.0152\n",
            "Epoch 58/100\n",
            "960/960 [==============================] - 2s 2ms/step - loss: 4.4798e-04 - mae: 0.0154 - val_loss: 5.7744e-04 - val_mae: 0.0171\n",
            "Epoch 59/100\n",
            "960/960 [==============================] - 2s 2ms/step - loss: 4.5529e-04 - mae: 0.0154 - val_loss: 4.2167e-04 - val_mae: 0.0147\n",
            "Epoch 60/100\n",
            "960/960 [==============================] - 2s 2ms/step - loss: 4.3622e-04 - mae: 0.0151 - val_loss: 4.0545e-04 - val_mae: 0.0141\n",
            "Epoch 61/100\n",
            "960/960 [==============================] - 2s 2ms/step - loss: 4.1941e-04 - mae: 0.0148 - val_loss: 4.1726e-04 - val_mae: 0.0145\n",
            "Epoch 62/100\n",
            "960/960 [==============================] - 2s 2ms/step - loss: 4.5244e-04 - mae: 0.0153 - val_loss: 4.0828e-04 - val_mae: 0.0146\n",
            "Epoch 63/100\n",
            "960/960 [==============================] - 2s 2ms/step - loss: 4.2688e-04 - mae: 0.0149 - val_loss: 4.8434e-04 - val_mae: 0.0160\n",
            "Epoch 64/100\n",
            "960/960 [==============================] - 2s 2ms/step - loss: 4.3275e-04 - mae: 0.0150 - val_loss: 4.8309e-04 - val_mae: 0.0156\n",
            "Epoch 65/100\n",
            "960/960 [==============================] - 2s 2ms/step - loss: 4.1372e-04 - mae: 0.0147 - val_loss: 4.1223e-04 - val_mae: 0.0144\n",
            "Epoch 66/100\n",
            "960/960 [==============================] - 2s 2ms/step - loss: 4.0840e-04 - mae: 0.0146 - val_loss: 4.9887e-04 - val_mae: 0.0164\n",
            "Epoch 67/100\n",
            "960/960 [==============================] - 2s 2ms/step - loss: 4.0952e-04 - mae: 0.0147 - val_loss: 3.9798e-04 - val_mae: 0.0143\n",
            "Epoch 68/100\n",
            "960/960 [==============================] - 2s 2ms/step - loss: 4.1035e-04 - mae: 0.0147 - val_loss: 5.0498e-04 - val_mae: 0.0164\n",
            "Epoch 69/100\n",
            "960/960 [==============================] - 2s 2ms/step - loss: 4.1574e-04 - mae: 0.0147 - val_loss: 3.9968e-04 - val_mae: 0.0141\n",
            "Epoch 70/100\n",
            "960/960 [==============================] - 2s 2ms/step - loss: 4.1749e-04 - mae: 0.0148 - val_loss: 4.2045e-04 - val_mae: 0.0148\n",
            "Epoch 71/100\n",
            "960/960 [==============================] - 2s 2ms/step - loss: 3.8387e-04 - mae: 0.0141 - val_loss: 4.1556e-04 - val_mae: 0.0151\n",
            "Epoch 72/100\n",
            "960/960 [==============================] - 2s 2ms/step - loss: 4.0200e-04 - mae: 0.0145 - val_loss: 4.2383e-04 - val_mae: 0.0150\n",
            "Epoch 73/100\n",
            "960/960 [==============================] - 2s 2ms/step - loss: 4.1142e-04 - mae: 0.0147 - val_loss: 3.6720e-04 - val_mae: 0.0133\n",
            "Epoch 74/100\n",
            "960/960 [==============================] - 2s 2ms/step - loss: 3.8336e-04 - mae: 0.0141 - val_loss: 5.1965e-04 - val_mae: 0.0166\n",
            "Epoch 75/100\n",
            "960/960 [==============================] - 2s 2ms/step - loss: 4.0919e-04 - mae: 0.0147 - val_loss: 3.9832e-04 - val_mae: 0.0143\n",
            "Epoch 76/100\n",
            "960/960 [==============================] - 2s 2ms/step - loss: 3.9486e-04 - mae: 0.0142 - val_loss: 3.5812e-04 - val_mae: 0.0134\n",
            "Epoch 77/100\n",
            "960/960 [==============================] - 2s 2ms/step - loss: 3.7418e-04 - mae: 0.0138 - val_loss: 4.0305e-04 - val_mae: 0.0142\n",
            "Epoch 78/100\n",
            "960/960 [==============================] - 2s 2ms/step - loss: 3.9280e-04 - mae: 0.0142 - val_loss: 3.8521e-04 - val_mae: 0.0139\n",
            "Epoch 79/100\n",
            "960/960 [==============================] - 2s 2ms/step - loss: 3.8358e-04 - mae: 0.0141 - val_loss: 4.5821e-04 - val_mae: 0.0153\n",
            "Epoch 80/100\n",
            "960/960 [==============================] - 2s 2ms/step - loss: 3.8731e-04 - mae: 0.0142 - val_loss: 3.8146e-04 - val_mae: 0.0137\n",
            "Epoch 81/100\n",
            "960/960 [==============================] - 2s 2ms/step - loss: 3.7808e-04 - mae: 0.0141 - val_loss: 4.3716e-04 - val_mae: 0.0153\n",
            "Epoch 82/100\n",
            "960/960 [==============================] - 2s 2ms/step - loss: 3.8544e-04 - mae: 0.0141 - val_loss: 4.0676e-04 - val_mae: 0.0143\n",
            "Epoch 83/100\n",
            "960/960 [==============================] - 2s 2ms/step - loss: 3.7056e-04 - mae: 0.0139 - val_loss: 4.3198e-04 - val_mae: 0.0154\n",
            "Epoch 84/100\n",
            "960/960 [==============================] - 2s 2ms/step - loss: 3.8077e-04 - mae: 0.0141 - val_loss: 4.3524e-04 - val_mae: 0.0155\n",
            "Epoch 85/100\n",
            "960/960 [==============================] - 2s 2ms/step - loss: 3.6744e-04 - mae: 0.0138 - val_loss: 3.7812e-04 - val_mae: 0.0139\n",
            "Epoch 86/100\n",
            "960/960 [==============================] - 2s 2ms/step - loss: 3.5037e-04 - mae: 0.0135 - val_loss: 4.2269e-04 - val_mae: 0.0149\n",
            "Epoch 87/100\n",
            "960/960 [==============================] - 2s 2ms/step - loss: 3.7920e-04 - mae: 0.0141 - val_loss: 3.7090e-04 - val_mae: 0.0135\n",
            "Epoch 88/100\n",
            "960/960 [==============================] - 2s 2ms/step - loss: 3.5381e-04 - mae: 0.0135 - val_loss: 4.0202e-04 - val_mae: 0.0147\n",
            "Epoch 89/100\n",
            "960/960 [==============================] - 2s 2ms/step - loss: 3.8045e-04 - mae: 0.0141 - val_loss: 3.6071e-04 - val_mae: 0.0134\n",
            "Epoch 90/100\n",
            "960/960 [==============================] - 2s 2ms/step - loss: 3.4574e-04 - mae: 0.0134 - val_loss: 4.1494e-04 - val_mae: 0.0145\n",
            "Epoch 91/100\n",
            "960/960 [==============================] - 2s 2ms/step - loss: 3.5864e-04 - mae: 0.0137 - val_loss: 3.7831e-04 - val_mae: 0.0140\n",
            "Epoch 92/100\n",
            "960/960 [==============================] - 2s 2ms/step - loss: 3.5431e-04 - mae: 0.0135 - val_loss: 3.5986e-04 - val_mae: 0.0135\n",
            "Epoch 93/100\n",
            "960/960 [==============================] - 2s 2ms/step - loss: 3.5835e-04 - mae: 0.0136 - val_loss: 3.9003e-04 - val_mae: 0.0141\n",
            "Epoch 94/100\n",
            "960/960 [==============================] - 2s 2ms/step - loss: 3.4812e-04 - mae: 0.0134 - val_loss: 3.6902e-04 - val_mae: 0.0135\n",
            "Epoch 95/100\n",
            "960/960 [==============================] - 2s 2ms/step - loss: 3.5995e-04 - mae: 0.0136 - val_loss: 3.9296e-04 - val_mae: 0.0141\n",
            "Epoch 96/100\n",
            "960/960 [==============================] - 2s 2ms/step - loss: 3.4422e-04 - mae: 0.0134 - val_loss: 3.9710e-04 - val_mae: 0.0142\n",
            "Epoch 97/100\n",
            "960/960 [==============================] - 2s 2ms/step - loss: 3.4468e-04 - mae: 0.0134 - val_loss: 3.8301e-04 - val_mae: 0.0141\n",
            "Epoch 98/100\n",
            "960/960 [==============================] - 2s 2ms/step - loss: 3.5528e-04 - mae: 0.0136 - val_loss: 3.4190e-04 - val_mae: 0.0131\n",
            "Epoch 99/100\n",
            "960/960 [==============================] - 2s 2ms/step - loss: 3.4019e-04 - mae: 0.0132 - val_loss: 4.2693e-04 - val_mae: 0.0147\n",
            "Epoch 100/100\n",
            "960/960 [==============================] - 2s 2ms/step - loss: 3.4416e-04 - mae: 0.0134 - val_loss: 3.6795e-04 - val_mae: 0.0138\n"
          ],
          "name": "stdout"
        }
      ]
    },
    {
      "cell_type": "code",
      "metadata": {
        "colab": {
          "base_uri": "https://localhost:8080/",
          "height": 573
        },
        "id": "d55eQTW6VG2L",
        "outputId": "b02ad3de-b4b5-46ae-8699-9f47d65e493f"
      },
      "source": [
        "import numpy as np\n",
        "import pandas as pd \n",
        "from matplotlib import pyplot as plt\n",
        "import matplotlib\n",
        "%matplotlib inline\n",
        "loss = history.history['loss']\n",
        "val_loss = history.history['val_loss']\n",
        "epochs = range(1, len(loss)+1)\n",
        "plt.plot(epochs, loss, 'y', label='Training loss')\n",
        "plt.plot(epochs, val_loss, 'b', label='validation loss')\n",
        "plt.title('Training and validation loss')\n",
        "plt.xlabel('Epochs')\n",
        "plt.ylabel('Loss')\n",
        "plt.legend()\n",
        "plt.show()\n",
        "\n",
        "\n",
        "acc = history.history['mae']\n",
        "val_acc = history.history['val_mae']\n",
        "plt.plot(epochs, acc, 'y', label='Training MAE')\n",
        "plt.plot(epochs, val_acc, 'b', label='validation accuracy')\n",
        "\n",
        "plt.title('Training and validation MAE')\n",
        "plt.xlabel('Epochs')\n",
        "plt.ylabel('Accuracy')\n",
        "plt.legend()\n",
        "plt.show()\n"
      ],
      "execution_count": null,
      "outputs": [
        {
          "output_type": "display_data",
          "data": {
            "image/png": "[encoded data removed]",
            "text/plain": [
              "<Figure size 432x288 with 1 Axes>"
            ]
          },
          "metadata": {
            "tags": [],
            "needs_background": "light"
          }
        },
        {
          "output_type": "display_data",
          "data": {
            "image/png": "[encoded data removed]",
            "text/plain": [
              "<Figure size 432x288 with 1 Axes>"
            ]
          },
          "metadata": {
            "tags": [],
            "needs_background": "light"
          }
        }
      ]
    },
    {
      "cell_type": "code",
      "metadata": {
        "colab": {
          "base_uri": "https://localhost:8080/"
        },
        "id": "X9_wboHZVMxV",
        "outputId": "5b3207b4-d639-4f28-d53d-683c8097ddb7"
      },
      "source": [
        "predictions = model.predict(X_test_scaled[:10])\n",
        "print(\"Predicted values are: \", predictions)\n",
        "print(\"Real values are: \", y_test[:10])\n"
      ],
      "execution_count": null,
      "outputs": [
        {
          "output_type": "stream",
          "text": [
            "Predicted values are:  [[ 1.4242018e+00]\n",
            " [ 4.5189342e-01]\n",
            " [-2.5650859e-03]\n",
            " [ 1.0395348e-03]\n",
            " [ 1.4270517e+00]\n",
            " [ 1.1766906e+00]\n",
            " [ 1.3571121e+00]\n",
            " [ 1.3786622e+00]\n",
            " [ 6.0581845e-01]\n",
            " [ 1.3827237e+00]]\n",
            "Real values are:  31164    1.476894\n",
            "15339    0.450512\n",
            "32055    0.000088\n",
            "30430    0.000040\n",
            "17544    1.415289\n",
            "6875     1.154326\n",
            "36585    1.404618\n",
            "38943    1.380360\n",
            "40246    0.609156\n",
            "8625     1.364260\n",
            "Name: Peni Conc., dtype: float64\n"
          ],
          "name": "stdout"
        }
      ]
    },
    {
      "cell_type": "code",
      "metadata": {
        "colab": {
          "base_uri": "https://localhost:8080/"
        },
        "id": "E2Ua4v85pheL",
        "outputId": "129fbfbc-0b01-413b-876e-c275c5d017ea"
      },
      "source": [
        "mse_neural, mae_neural = model.evaluate(X_test_scaled, y_test)\n",
        "print('Mean squared error from neural network: ', mse_neural)\n",
        "print('Mean absolute error from neural network: ', mae_neural)\n"
      ],
      "execution_count": null,
      "outputs": [
        {
          "output_type": "stream",
          "text": [
            "300/300 [==============================] - 0s 1ms/step - loss: 4.0031e-04 - mae: 0.0144\n",
            "Mean squared error from neural network:  0.0004003067151643336\n",
            "Mean absolute error from neural network:  0.014359505847096443\n"
          ],
          "name": "stdout"
        }
      ]
    },
    {
      "cell_type": "code",
      "metadata": {
        "id": "aosOK4hjqQvA"
      },
      "source": [
        "from sklearn import linear_model\n",
        "from sklearn.tree import DecisionTreeRegressor\n",
        "from sklearn.metrics import mean_squared_error, mean_absolute_error\n",
        "from sklearn.ensemble import RandomForestRegressor"
      ],
      "execution_count": null,
      "outputs": []
    },
    {
      "cell_type": "markdown",
      "metadata": {
        "id": "OSmyrRyr3JQq"
      },
      "source": [
        "# **LINEAR REGRESSION MODEL**"
      ]
    },
    {
      "cell_type": "code",
      "metadata": {
        "colab": {
          "base_uri": "https://localhost:8080/"
        },
        "id": "NCZiyTPA99Q5",
        "outputId": "741c5470-359a-42b8-8325-ebd7210d3857"
      },
      "source": [
        "import pandas as pd\n",
        "import numpy as np\n",
        "data = '/content/gdrive/My Drive/CHE SOP-DOP/1-s2.0-S1369703X18301359-mmc2.xlsx - Sheet1.csv'\n",
        "df = pd.read_csv(data)\n",
        "\n",
        "Parameters = ['Aeration Rate', 'AgitatorPower', 'Subst Feed Conc.', 'Substrate feed T', 'Temp', 'pH', 'Dis O2 Conc.', 'CO2 Conc.', 'VOL', 'Heat', 'Peni Conc.', 'Biomass Conc', 'Substrate Conc']\n",
        "df.columns = Parameters\n",
        "print(df.head())\n",
        "\n"
      ],
      "execution_count": null,
      "outputs": [
        {
          "output_type": "stream",
          "text": [
            "   Aeration Rate  AgitatorPower  ...  Biomass Conc  Substrate Conc\n",
            "0       7.997728      29.666590  ...      0.100000       15.000000\n",
            "1       7.786650      30.725216  ...      0.105235       14.989514\n",
            "2       7.667642      30.741825  ...      0.110740       14.978389\n",
            "3       7.641116      30.311470  ...      0.116530       14.966589\n",
            "4       8.304563      29.958562  ...      0.122621       14.954077\n",
            "\n",
            "[5 rows x 13 columns]\n"
          ],
          "name": "stdout"
        }
      ]
    },
    {
      "cell_type": "code",
      "metadata": {
        "id": "oFGQV1Zj-JSZ"
      },
      "source": [
        "X = df.drop(['Peni Conc.', 'Biomass Conc', 'Substrate Conc'], axis=1)\n",
        "y = df['Peni Conc.']"
      ],
      "execution_count": null,
      "outputs": []
    },
    {
      "cell_type": "code",
      "metadata": {
        "colab": {
          "base_uri": "https://localhost:8080/"
        },
        "id": "lN_BZaxq-VXS",
        "outputId": "2a4f2c10-cc16-4083-831e-d595b29a604d"
      },
      "source": [
        "print(X)"
      ],
      "execution_count": null,
      "outputs": [
        {
          "output_type": "stream",
          "text": [
            "       Aeration Rate  AgitatorPower  ...         VOL       Heat\n",
            "0           7.997728      29.666590  ...  100.000000   0.008368\n",
            "1           7.786650      30.725216  ...   99.987549   0.021791\n",
            "2           7.667642      30.741825  ...   99.975100   0.071371\n",
            "3           7.641116      30.311470  ...   99.962653   0.093127\n",
            "4           8.304563      29.958562  ...   99.950208   0.142380\n",
            "...              ...            ...  ...         ...        ...\n",
            "47995       5.421724      36.327411  ...  105.720389  76.572162\n",
            "47996       5.217079      35.776739  ...  105.729643  76.576014\n",
            "47997       5.694386      35.206284  ...  105.738909  76.564558\n",
            "47998       5.562624      36.284345  ...  105.748192  76.555443\n",
            "47999       5.574685      35.997997  ...  105.757491  76.535246\n",
            "\n",
            "[48000 rows x 10 columns]\n"
          ],
          "name": "stdout"
        }
      ]
    },
    {
      "cell_type": "code",
      "metadata": {
        "colab": {
          "base_uri": "https://localhost:8080/"
        },
        "id": "bcpa5Gnc-X-M",
        "outputId": "8c12b851-5aef-42bc-ae68-1ae68ad991ee"
      },
      "source": [
        "print(y)"
      ],
      "execution_count": null,
      "outputs": [
        {
          "output_type": "stream",
          "text": [
            "0        2.220000e-16\n",
            "1        1.680000e-06\n",
            "2        3.420000e-06\n",
            "3        5.220000e-06\n",
            "4        7.080000e-06\n",
            "             ...     \n",
            "47995    1.462076e+00\n",
            "47996    1.461969e+00\n",
            "47997    1.461833e+00\n",
            "47998    1.461667e+00\n",
            "47999    1.461469e+00\n",
            "Name: Peni Conc., Length: 48000, dtype: float64\n"
          ],
          "name": "stdout"
        }
      ]
    },
    {
      "cell_type": "code",
      "metadata": {
        "id": "PHI2S8S9-bjM"
      },
      "source": [
        "from sklearn.model_selection import train_test_split\n",
        "X_train,X_test,y_train,y_test=train_test_split(X,y, test_size=0.3, random_state=0)\n"
      ],
      "execution_count": null,
      "outputs": []
    },
    {
      "cell_type": "code",
      "metadata": {
        "colab": {
          "base_uri": "https://localhost:8080/"
        },
        "id": "T0qvF6ED-iU3",
        "outputId": "4bb67f79-59a1-478e-9827-59b99a5e287e"
      },
      "source": [
        "from sklearn.linear_model import LinearRegression\n",
        "ml=LinearRegression()\n",
        "ml.fit(X_train,y_train)\n"
      ],
      "execution_count": null,
      "outputs": [
        {
          "output_type": "execute_result",
          "data": {
            "text/plain": [
              "LinearRegression(copy_X=True, fit_intercept=True, n_jobs=None, normalize=False)"
            ]
          },
          "metadata": {
            "tags": []
          },
          "execution_count": 175
        }
      ]
    },
    {
      "cell_type": "code",
      "metadata": {
        "colab": {
          "base_uri": "https://localhost:8080/"
        },
        "id": "byOmA7z8-mgS",
        "outputId": "60df6c85-f878-4653-9868-8ce20aa29820"
      },
      "source": [
        "y_pred=ml.predict(X_test)\n",
        "print(y_pred)\n"
      ],
      "execution_count": null,
      "outputs": [
        {
          "output_type": "stream",
          "text": [
            "[ 1.02768371  1.13129648  1.44726149 ... -0.04605029  0.38722273\n",
            "  1.31946102]\n"
          ],
          "name": "stdout"
        }
      ]
    },
    {
      "cell_type": "code",
      "metadata": {
        "colab": {
          "base_uri": "https://localhost:8080/"
        },
        "id": "6l-JUupJ-qKY",
        "outputId": "03b261f3-2ce8-482d-ebe4-24b865e1aa03"
      },
      "source": [
        "from sklearn.metrics import r2_score\n",
        "r2_score(y_test,y_pred)\n"
      ],
      "execution_count": null,
      "outputs": [
        {
          "output_type": "execute_result",
          "data": {
            "text/plain": [
              "0.9562594072595949"
            ]
          },
          "metadata": {
            "tags": []
          },
          "execution_count": 177
        }
      ]
    },
    {
      "cell_type": "code",
      "metadata": {
        "colab": {
          "base_uri": "https://localhost:8080/",
          "height": 367
        },
        "id": "1_QDScFY-vAX",
        "outputId": "28246f16-b9ed-4aa0-87f1-fa4f2c7f69e6"
      },
      "source": [
        "import matplotlib.pyplot as plt \n",
        "plt.figure(figsize=(10,5))\n",
        "plt.scatter(y_test, y_pred)\n",
        "plt.xlabel('Actual Penicillin Concentration')\n",
        "plt.ylabel('Predicted Penicillin Concentration')\n",
        "plt.title('Penicillin Concentration: Actual vs Predicted')\n"
      ],
      "execution_count": null,
      "outputs": [
        {
          "output_type": "execute_result",
          "data": {
            "text/plain": [
              "Text(0.5, 1.0, 'Penicillin Concentration: Actual vs Predicted')"
            ]
          },
          "metadata": {
            "tags": []
          },
          "execution_count": 178
        },
        {
          "output_type": "display_data",
          "data": {
            "image/png": "[encoded data removed]",
            "text/plain": [
              "<Figure size 720x360 with 1 Axes>"
            ]
          },
          "metadata": {
            "tags": [],
            "needs_background": "light"
          }
        }
      ]
    },
    {
      "cell_type": "code",
      "metadata": {
        "colab": {
          "base_uri": "https://localhost:8080/",
          "height": 359
        },
        "id": "FShCbzgz-y2X",
        "outputId": "505284c7-7821-472b-c3de-5b240fe480ec"
      },
      "source": [
        "pred_y_df=pd.DataFrame({'Actual Value':y_test, 'Predicted Value':y_pred, 'Difference':y_test-y_pred})\n",
        "pred_y_df[0:10]\n"
      ],
      "execution_count": null,
      "outputs": [
        {
          "output_type": "execute_result",
          "data": {
            "text/html": [
              "<div>\n",
              "<style scoped>\n",
              "    .dataframe tbody tr th:only-of-type {\n",
              "        vertical-align: middle;\n",
              "    }\n",
              "\n",
              "    .dataframe tbody tr th {\n",
              "        vertical-align: top;\n",
              "    }\n",
              "\n",
              "    .dataframe thead th {\n",
              "        text-align: right;\n",
              "    }\n",
              "</style>\n",
              "<table border=\"1\" class=\"dataframe\">\n",
              "  <thead>\n",
              "    <tr style=\"text-align: right;\">\n",
              "      <th></th>\n",
              "      <th>Actual Value</th>\n",
              "      <th>Predicted Value</th>\n",
              "      <th>Difference</th>\n",
              "    </tr>\n",
              "  </thead>\n",
              "  <tbody>\n",
              "    <tr>\n",
              "      <th>37957</th>\n",
              "      <td>1.042639</td>\n",
              "      <td>1.027684</td>\n",
              "      <td>0.014955</td>\n",
              "    </tr>\n",
              "    <tr>\n",
              "      <th>45965</th>\n",
              "      <td>1.277454</td>\n",
              "      <td>1.131296</td>\n",
              "      <td>0.146158</td>\n",
              "    </tr>\n",
              "    <tr>\n",
              "      <th>33541</th>\n",
              "      <td>1.445266</td>\n",
              "      <td>1.447261</td>\n",
              "      <td>-0.001996</td>\n",
              "    </tr>\n",
              "    <tr>\n",
              "      <th>9905</th>\n",
              "      <td>0.796529</td>\n",
              "      <td>0.892862</td>\n",
              "      <td>-0.096332</td>\n",
              "    </tr>\n",
              "    <tr>\n",
              "      <th>9472</th>\n",
              "      <td>1.327754</td>\n",
              "      <td>1.300233</td>\n",
              "      <td>0.027521</td>\n",
              "    </tr>\n",
              "    <tr>\n",
              "      <th>23682</th>\n",
              "      <td>1.251489</td>\n",
              "      <td>1.293729</td>\n",
              "      <td>-0.042240</td>\n",
              "    </tr>\n",
              "    <tr>\n",
              "      <th>12880</th>\n",
              "      <td>0.000727</td>\n",
              "      <td>-0.123886</td>\n",
              "      <td>0.124613</td>\n",
              "    </tr>\n",
              "    <tr>\n",
              "      <th>786</th>\n",
              "      <td>1.427379</td>\n",
              "      <td>1.472076</td>\n",
              "      <td>-0.044696</td>\n",
              "    </tr>\n",
              "    <tr>\n",
              "      <th>3015</th>\n",
              "      <td>1.448542</td>\n",
              "      <td>1.341532</td>\n",
              "      <td>0.107010</td>\n",
              "    </tr>\n",
              "    <tr>\n",
              "      <th>37111</th>\n",
              "      <td>1.036192</td>\n",
              "      <td>1.082957</td>\n",
              "      <td>-0.046765</td>\n",
              "    </tr>\n",
              "  </tbody>\n",
              "</table>\n",
              "</div>"
            ],
            "text/plain": [
              "       Actual Value  Predicted Value  Difference\n",
              "37957      1.042639         1.027684    0.014955\n",
              "45965      1.277454         1.131296    0.146158\n",
              "33541      1.445266         1.447261   -0.001996\n",
              "9905       0.796529         0.892862   -0.096332\n",
              "9472       1.327754         1.300233    0.027521\n",
              "23682      1.251489         1.293729   -0.042240\n",
              "12880      0.000727        -0.123886    0.124613\n",
              "786        1.427379         1.472076   -0.044696\n",
              "3015       1.448542         1.341532    0.107010\n",
              "37111      1.036192         1.082957   -0.046765"
            ]
          },
          "metadata": {
            "tags": []
          },
          "execution_count": 109
        }
      ]
    },
    {
      "cell_type": "code",
      "metadata": {
        "colab": {
          "base_uri": "https://localhost:8080/"
        },
        "id": "AaWxLc_6qjYs",
        "outputId": "583678d3-4097-42e3-e223-31da7cce4803"
      },
      "source": [
        "from sklearn import linear_model\n",
        "from sklearn.tree import DecisionTreeRegressor\n",
        "from sklearn.metrics import mean_squared_error, mean_absolute_error\n",
        "from sklearn.ensemble import RandomForestRegressor\n",
        "lr_model = linear_model.LinearRegression()\n",
        "lr_model.fit(X_train, y_train)\n",
        "y_pred_lr = lr_model.predict(X_test)\n",
        "mse_lr = mean_squared_error(y_test, y_pred_lr)\n",
        "mae_lr = mean_absolute_error(y_test, y_pred_lr)\n",
        "print('Mean squared error from linear regression: ', mse_lr)\n",
        "print('Mean absolute error from linear regression: ', mae_lr)\n"
      ],
      "execution_count": null,
      "outputs": [
        {
          "output_type": "stream",
          "text": [
            "Mean squared error from linear regression:  0.011218559706701253\n",
            "Mean absolute error from linear regression:  0.07825779998067513\n"
          ],
          "name": "stdout"
        }
      ]
    },
    {
      "cell_type": "code",
      "metadata": {
        "colab": {
          "base_uri": "https://localhost:8080/",
          "height": 721
        },
        "id": "opOCx7ICqxZR",
        "outputId": "feb4d5fc-cc9c-4240-e92e-16ed87e5928b"
      },
      "source": [
        "from statsmodels.api import OLS\n",
        "from statsmodels.api import add_constant\n",
        "X_train = add_constant(X_train)\n",
        "OLS(y_train, X_train).fit().summary()"
      ],
      "execution_count": null,
      "outputs": [
        {
          "output_type": "stream",
          "text": [
            "/usr/local/lib/python3.7/dist-packages/statsmodels/tools/_testing.py:19: FutureWarning: pandas.util.testing is deprecated. Use the functions in the public API at pandas.testing instead.\n",
            "  import pandas.util.testing as tm\n"
          ],
          "name": "stderr"
        },
        {
          "output_type": "execute_result",
          "data": {
            "text/html": [
              "<table class=\"simpletable\">\n",
              "<caption>OLS Regression Results</caption>\n",
              "<tr>\n",
              "  <th>Dep. Variable:</th>       <td>Peni Conc.</td>    <th>  R-squared:         </th>  <td>   0.957</td> \n",
              "</tr>\n",
              "<tr>\n",
              "  <th>Model:</th>                   <td>OLS</td>       <th>  Adj. R-squared:    </th>  <td>   0.957</td> \n",
              "</tr>\n",
              "<tr>\n",
              "  <th>Method:</th>             <td>Least Squares</td>  <th>  F-statistic:       </th>  <td>8.513e+04</td>\n",
              "</tr>\n",
              "<tr>\n",
              "  <th>Date:</th>             <td>Wed, 12 May 2021</td> <th>  Prob (F-statistic):</th>   <td>  0.00</td>  \n",
              "</tr>\n",
              "<tr>\n",
              "  <th>Time:</th>                 <td>17:41:18</td>     <th>  Log-Likelihood:    </th>  <td>  31924.</td> \n",
              "</tr>\n",
              "<tr>\n",
              "  <th>No. Observations:</th>      <td> 38400</td>      <th>  AIC:               </th> <td>-6.383e+04</td>\n",
              "</tr>\n",
              "<tr>\n",
              "  <th>Df Residuals:</th>          <td> 38389</td>      <th>  BIC:               </th> <td>-6.373e+04</td>\n",
              "</tr>\n",
              "<tr>\n",
              "  <th>Df Model:</th>              <td>    10</td>      <th>                     </th>      <td> </td>    \n",
              "</tr>\n",
              "<tr>\n",
              "  <th>Covariance Type:</th>      <td>nonrobust</td>    <th>                     </th>      <td> </td>    \n",
              "</tr>\n",
              "</table>\n",
              "<table class=\"simpletable\">\n",
              "<tr>\n",
              "          <td></td>            <th>coef</th>     <th>std err</th>      <th>t</th>      <th>P>|t|</th>  <th>[0.025</th>    <th>0.975]</th>  \n",
              "</tr>\n",
              "<tr>\n",
              "  <th>const</th>            <td>  -11.9205</td> <td>    0.791</td> <td>  -15.061</td> <td> 0.000</td> <td>  -13.472</td> <td>  -10.369</td>\n",
              "</tr>\n",
              "<tr>\n",
              "  <th>Aeration Rate</th>    <td>   -0.0281</td> <td>    0.001</td> <td>  -54.038</td> <td> 0.000</td> <td>   -0.029</td> <td>   -0.027</td>\n",
              "</tr>\n",
              "<tr>\n",
              "  <th>AgitatorPower</th>    <td>   -0.0028</td> <td>    0.000</td> <td>  -20.555</td> <td> 0.000</td> <td>   -0.003</td> <td>   -0.002</td>\n",
              "</tr>\n",
              "<tr>\n",
              "  <th>Subst Feed Conc.</th> <td>  -13.7104</td> <td>    0.102</td> <td> -134.315</td> <td> 0.000</td> <td>  -13.911</td> <td>  -13.510</td>\n",
              "</tr>\n",
              "<tr>\n",
              "  <th>Substrate feed T</th> <td>    0.0018</td> <td>    0.002</td> <td>    0.959</td> <td> 0.338</td> <td>   -0.002</td> <td>    0.005</td>\n",
              "</tr>\n",
              "<tr>\n",
              "  <th>Temp</th>             <td>    0.0023</td> <td>    0.002</td> <td>    1.205</td> <td> 0.228</td> <td>   -0.001</td> <td>    0.006</td>\n",
              "</tr>\n",
              "<tr>\n",
              "  <th>pH</th>               <td>   -1.1563</td> <td>    0.013</td> <td>  -86.772</td> <td> 0.000</td> <td>   -1.182</td> <td>   -1.130</td>\n",
              "</tr>\n",
              "<tr>\n",
              "  <th>Dis O2 Conc.</th>     <td>    7.3933</td> <td>    0.043</td> <td>  173.167</td> <td> 0.000</td> <td>    7.310</td> <td>    7.477</td>\n",
              "</tr>\n",
              "<tr>\n",
              "  <th>CO2 Conc.</th>        <td>    0.0004</td> <td>    0.004</td> <td>    0.108</td> <td> 0.914</td> <td>   -0.006</td> <td>    0.007</td>\n",
              "</tr>\n",
              "<tr>\n",
              "  <th>VOL</th>              <td>    0.0826</td> <td>    0.000</td> <td>  225.341</td> <td> 0.000</td> <td>    0.082</td> <td>    0.083</td>\n",
              "</tr>\n",
              "<tr>\n",
              "  <th>Heat</th>             <td>    0.0262</td> <td>    0.000</td> <td>  220.739</td> <td> 0.000</td> <td>    0.026</td> <td>    0.026</td>\n",
              "</tr>\n",
              "</table>\n",
              "<table class=\"simpletable\">\n",
              "<tr>\n",
              "  <th>Omnibus:</th>       <td>8131.954</td> <th>  Durbin-Watson:     </th> <td>   1.978</td> \n",
              "</tr>\n",
              "<tr>\n",
              "  <th>Prob(Omnibus):</th>  <td> 0.000</td>  <th>  Jarque-Bera (JB):  </th> <td>45928.415</td>\n",
              "</tr>\n",
              "<tr>\n",
              "  <th>Skew:</th>           <td>-0.904</td>  <th>  Prob(JB):          </th> <td>    0.00</td> \n",
              "</tr>\n",
              "<tr>\n",
              "  <th>Kurtosis:</th>       <td> 8.043</td>  <th>  Cond. No.          </th> <td>6.45e+05</td> \n",
              "</tr>\n",
              "</table><br/><br/>Warnings:<br/>[1] Standard Errors assume that the covariance matrix of the errors is correctly specified.<br/>[2] The condition number is large, 6.45e+05. This might indicate that there are<br/>strong multicollinearity or other numerical problems."
            ],
            "text/plain": [
              "<class 'statsmodels.iolib.summary.Summary'>\n",
              "\"\"\"\n",
              "                            OLS Regression Results                            \n",
              "==============================================================================\n",
              "Dep. Variable:             Peni Conc.   R-squared:                       0.957\n",
              "Model:                            OLS   Adj. R-squared:                  0.957\n",
              "Method:                 Least Squares   F-statistic:                 8.513e+04\n",
              "Date:                Wed, 12 May 2021   Prob (F-statistic):               0.00\n",
              "Time:                        17:41:18   Log-Likelihood:                 31924.\n",
              "No. Observations:               38400   AIC:                        -6.383e+04\n",
              "Df Residuals:                   38389   BIC:                        -6.373e+04\n",
              "Df Model:                          10                                         \n",
              "Covariance Type:            nonrobust                                         \n",
              "====================================================================================\n",
              "                       coef    std err          t      P>|t|      [0.025      0.975]\n",
              "------------------------------------------------------------------------------------\n",
              "const              -11.9205      0.791    -15.061      0.000     -13.472     -10.369\n",
              "Aeration Rate       -0.0281      0.001    -54.038      0.000      -0.029      -0.027\n",
              "AgitatorPower       -0.0028      0.000    -20.555      0.000      -0.003      -0.002\n",
              "Subst Feed Conc.   -13.7104      0.102   -134.315      0.000     -13.911     -13.510\n",
              "Substrate feed T     0.0018      0.002      0.959      0.338      -0.002       0.005\n",
              "Temp                 0.0023      0.002      1.205      0.228      -0.001       0.006\n",
              "pH                  -1.1563      0.013    -86.772      0.000      -1.182      -1.130\n",
              "Dis O2 Conc.         7.3933      0.043    173.167      0.000       7.310       7.477\n",
              "CO2 Conc.            0.0004      0.004      0.108      0.914      -0.006       0.007\n",
              "VOL                  0.0826      0.000    225.341      0.000       0.082       0.083\n",
              "Heat                 0.0262      0.000    220.739      0.000       0.026       0.026\n",
              "==============================================================================\n",
              "Omnibus:                     8131.954   Durbin-Watson:                   1.978\n",
              "Prob(Omnibus):                  0.000   Jarque-Bera (JB):            45928.415\n",
              "Skew:                          -0.904   Prob(JB):                         0.00\n",
              "Kurtosis:                       8.043   Cond. No.                     6.45e+05\n",
              "==============================================================================\n",
              "\n",
              "Warnings:\n",
              "[1] Standard Errors assume that the covariance matrix of the errors is correctly specified.\n",
              "[2] The condition number is large, 6.45e+05. This might indicate that there are\n",
              "strong multicollinearity or other numerical problems.\n",
              "\"\"\""
            ]
          },
          "metadata": {
            "tags": []
          },
          "execution_count": 156
        }
      ]
    },
    {
      "cell_type": "markdown",
      "metadata": {
        "id": "sb15qljD_WN-"
      },
      "source": [
        "# **RANDOM FOREST REGRESSION MODEL**"
      ]
    },
    {
      "cell_type": "code",
      "metadata": {
        "colab": {
          "base_uri": "https://localhost:8080/"
        },
        "id": "uYbersXv_eUx",
        "outputId": "ad3e5bc3-d75b-414b-a8fa-9b77bd2efdf9"
      },
      "source": [
        "import pandas as pd\n",
        "import numpy as np\n",
        "import matplotlib.pyplot as plt \n",
        "data = '/content/gdrive/My Drive/CHE SOP-DOP/1-s2.0-S1369703X18301359-mmc2.xlsx - Sheet1.csv'\n",
        "df = pd.read_csv(data)\n",
        "\n",
        "Parameters = ['Aeration Rate', 'AgitatorPower', 'Subst Feed Conc.', 'Substrate feed T', 'Temp', 'pH', 'Dis O2 Conc.', 'CO2 Conc.', 'VOL', 'Heat', 'Peni Conc.', 'Biomass Conc', 'Substrate Conc']\n",
        "df.columns = Parameters\n",
        "print(df.head())\n"
      ],
      "execution_count": null,
      "outputs": [
        {
          "output_type": "stream",
          "text": [
            "   Aeration Rate  AgitatorPower  ...  Biomass Conc  Substrate Conc\n",
            "0       7.997728      29.666590  ...      0.100000       15.000000\n",
            "1       7.786650      30.725216  ...      0.105235       14.989514\n",
            "2       7.667642      30.741825  ...      0.110740       14.978389\n",
            "3       7.641116      30.311470  ...      0.116530       14.966589\n",
            "4       8.304563      29.958562  ...      0.122621       14.954077\n",
            "\n",
            "[5 rows x 13 columns]\n"
          ],
          "name": "stdout"
        }
      ]
    },
    {
      "cell_type": "code",
      "metadata": {
        "id": "kIDqHEhQ_v3J"
      },
      "source": [
        "X = df.drop(['Peni Conc.', 'Biomass Conc', 'Substrate Conc'], axis=1)\n",
        "y = df['Peni Conc.']"
      ],
      "execution_count": null,
      "outputs": []
    },
    {
      "cell_type": "code",
      "metadata": {
        "id": "-YNwTCYV_0N7"
      },
      "source": [
        "from sklearn.model_selection import train_test_split\n",
        "X_train,X_test,y_train,y_test=train_test_split(X,y, test_size=0.3, random_state=0)\n"
      ],
      "execution_count": null,
      "outputs": []
    },
    {
      "cell_type": "code",
      "metadata": {
        "colab": {
          "base_uri": "https://localhost:8080/"
        },
        "id": "4kiCNOYn__R5",
        "outputId": "5e04b3e5-1b35-4507-86b8-8fa0c80b5e41"
      },
      "source": [
        "#Import the Random Forest Regressor \n",
        "from sklearn.ensemble import RandomForestRegressor   \n",
        "  \n",
        "#Create a Random Forest regressor object from Random Forest Regressor class\n",
        "RFReg = RandomForestRegressor(n_estimators = 500, random_state = 0)\n",
        "  \n",
        "#Fit the random forest regressor with training data represented by X_train and y_train\n",
        "RFReg.fit(X_train, y_train)\n"
      ],
      "execution_count": null,
      "outputs": [
        {
          "output_type": "execute_result",
          "data": {
            "text/plain": [
              "RandomForestRegressor(bootstrap=True, ccp_alpha=0.0, criterion='mse',\n",
              "                      max_depth=None, max_features='auto', max_leaf_nodes=None,\n",
              "                      max_samples=None, min_impurity_decrease=0.0,\n",
              "                      min_impurity_split=None, min_samples_leaf=1,\n",
              "                      min_samples_split=2, min_weight_fraction_leaf=0.0,\n",
              "                      n_estimators=500, n_jobs=None, oob_score=False,\n",
              "                      random_state=0, verbose=0, warm_start=False)"
            ]
          },
          "metadata": {
            "tags": []
          },
          "execution_count": 114
        }
      ]
    },
    {
      "cell_type": "code",
      "metadata": {
        "colab": {
          "base_uri": "https://localhost:8080/"
        },
        "id": "GJ6WNJ0sAPrg",
        "outputId": "1c63b57b-6276-4a80-9254-f39fb08e182c"
      },
      "source": [
        "#Predicted Height from test dataset w.r.t Random Forest Regression\n",
        "y_predict_rfr = RFReg.predict((X_test))\n",
        "\n",
        "#Model Evaluation using R-Square for Random Forest Regression\n",
        "from sklearn import metrics\n",
        "r_square = metrics.r2_score(y_test, y_predict_rfr)\n",
        "print('R-Square Error associated with Random Forest Regression is:', r_square)\n"
      ],
      "execution_count": null,
      "outputs": [
        {
          "output_type": "stream",
          "text": [
            "R-Square Error associated with Random Forest Regression is: 0.9994741818444126\n"
          ],
          "name": "stdout"
        }
      ]
    },
    {
      "cell_type": "code",
      "metadata": {
        "colab": {
          "base_uri": "https://localhost:8080/",
          "height": 367
        },
        "id": "0mkiQacvAXFs",
        "outputId": "4a8af625-6671-47ca-ba45-afec68a8066f"
      },
      "source": [
        "plt.figure(figsize=(10,5))\n",
        "plt.scatter(y_test, y_predict_rfr)\n",
        "plt.xlabel('Actual Penicillin Concentration')\n",
        "plt.ylabel('Predicted Penicillin Concentration')\n",
        "plt.title('Penicillin Concentration: Actual vs Predicted using Random Forest Regression')\n"
      ],
      "execution_count": null,
      "outputs": [
        {
          "output_type": "execute_result",
          "data": {
            "text/plain": [
              "Text(0.5, 1.0, 'Penicillin Concentration: Actual vs Predicted using Random Forest Regression')"
            ]
          },
          "metadata": {
            "tags": []
          },
          "execution_count": 180
        },
        {
          "output_type": "display_data",
          "data": {
            "image/png": "[encoded data removed]",
            "text/plain": [
              "<Figure size 720x360 with 1 Axes>"
            ]
          },
          "metadata": {
            "tags": [],
            "needs_background": "light"
          }
        }
      ]
    },
    {
      "cell_type": "code",
      "metadata": {
        "colab": {
          "base_uri": "https://localhost:8080/",
          "height": 1000
        },
        "id": "hp109qXtAaAD",
        "outputId": "3a88bfc0-4002-43df-98ed-bceabde09da4"
      },
      "source": [
        "pred_y_df=pd.DataFrame({'Actual Value':y_test, 'Predicted Value':y_predict_rfr, 'Difference':y_test-y_predict_rfr})\n",
        "pred_y_df[0:40]\n"
      ],
      "execution_count": null,
      "outputs": [
        {
          "output_type": "execute_result",
          "data": {
            "text/html": [
              "<div>\n",
              "<style scoped>\n",
              "    .dataframe tbody tr th:only-of-type {\n",
              "        vertical-align: middle;\n",
              "    }\n",
              "\n",
              "    .dataframe tbody tr th {\n",
              "        vertical-align: top;\n",
              "    }\n",
              "\n",
              "    .dataframe thead th {\n",
              "        text-align: right;\n",
              "    }\n",
              "</style>\n",
              "<table border=\"1\" class=\"dataframe\">\n",
              "  <thead>\n",
              "    <tr style=\"text-align: right;\">\n",
              "      <th></th>\n",
              "      <th>Actual Value</th>\n",
              "      <th>Predicted Value</th>\n",
              "      <th>Difference</th>\n",
              "    </tr>\n",
              "  </thead>\n",
              "  <tbody>\n",
              "    <tr>\n",
              "      <th>37957</th>\n",
              "      <td>1.042639</td>\n",
              "      <td>1.050108</td>\n",
              "      <td>-0.007469</td>\n",
              "    </tr>\n",
              "    <tr>\n",
              "      <th>45965</th>\n",
              "      <td>1.277454</td>\n",
              "      <td>1.279948</td>\n",
              "      <td>-0.002493</td>\n",
              "    </tr>\n",
              "    <tr>\n",
              "      <th>33541</th>\n",
              "      <td>1.445266</td>\n",
              "      <td>1.441806</td>\n",
              "      <td>0.003459</td>\n",
              "    </tr>\n",
              "    <tr>\n",
              "      <th>9905</th>\n",
              "      <td>0.796529</td>\n",
              "      <td>0.796423</td>\n",
              "      <td>0.000106</td>\n",
              "    </tr>\n",
              "    <tr>\n",
              "      <th>9472</th>\n",
              "      <td>1.327754</td>\n",
              "      <td>1.332256</td>\n",
              "      <td>-0.004502</td>\n",
              "    </tr>\n",
              "    <tr>\n",
              "      <th>23682</th>\n",
              "      <td>1.251489</td>\n",
              "      <td>1.263480</td>\n",
              "      <td>-0.011990</td>\n",
              "    </tr>\n",
              "    <tr>\n",
              "      <th>12880</th>\n",
              "      <td>0.000727</td>\n",
              "      <td>0.000994</td>\n",
              "      <td>-0.000267</td>\n",
              "    </tr>\n",
              "    <tr>\n",
              "      <th>786</th>\n",
              "      <td>1.427379</td>\n",
              "      <td>1.426759</td>\n",
              "      <td>0.000621</td>\n",
              "    </tr>\n",
              "    <tr>\n",
              "      <th>3015</th>\n",
              "      <td>1.448542</td>\n",
              "      <td>1.438879</td>\n",
              "      <td>0.009663</td>\n",
              "    </tr>\n",
              "    <tr>\n",
              "      <th>37111</th>\n",
              "      <td>1.036192</td>\n",
              "      <td>1.044600</td>\n",
              "      <td>-0.008409</td>\n",
              "    </tr>\n",
              "    <tr>\n",
              "      <th>18801</th>\n",
              "      <td>1.361673</td>\n",
              "      <td>1.364066</td>\n",
              "      <td>-0.002393</td>\n",
              "    </tr>\n",
              "    <tr>\n",
              "      <th>7791</th>\n",
              "      <td>1.234986</td>\n",
              "      <td>1.233261</td>\n",
              "      <td>0.001724</td>\n",
              "    </tr>\n",
              "    <tr>\n",
              "      <th>28516</th>\n",
              "      <td>1.146186</td>\n",
              "      <td>1.151212</td>\n",
              "      <td>-0.005026</td>\n",
              "    </tr>\n",
              "    <tr>\n",
              "      <th>5153</th>\n",
              "      <td>1.226743</td>\n",
              "      <td>1.224099</td>\n",
              "      <td>0.002644</td>\n",
              "    </tr>\n",
              "    <tr>\n",
              "      <th>8611</th>\n",
              "      <td>1.347616</td>\n",
              "      <td>1.359881</td>\n",
              "      <td>-0.012265</td>\n",
              "    </tr>\n",
              "    <tr>\n",
              "      <th>13066</th>\n",
              "      <td>1.007901</td>\n",
              "      <td>1.004147</td>\n",
              "      <td>0.003754</td>\n",
              "    </tr>\n",
              "    <tr>\n",
              "      <th>30167</th>\n",
              "      <td>1.380183</td>\n",
              "      <td>1.381998</td>\n",
              "      <td>-0.001815</td>\n",
              "    </tr>\n",
              "    <tr>\n",
              "      <th>33586</th>\n",
              "      <td>1.448142</td>\n",
              "      <td>1.448117</td>\n",
              "      <td>0.000025</td>\n",
              "    </tr>\n",
              "    <tr>\n",
              "      <th>9068</th>\n",
              "      <td>0.466936</td>\n",
              "      <td>0.425067</td>\n",
              "      <td>0.041869</td>\n",
              "    </tr>\n",
              "    <tr>\n",
              "      <th>2545</th>\n",
              "      <td>0.411398</td>\n",
              "      <td>0.413313</td>\n",
              "      <td>-0.001916</td>\n",
              "    </tr>\n",
              "    <tr>\n",
              "      <th>21500</th>\n",
              "      <td>1.415117</td>\n",
              "      <td>1.413198</td>\n",
              "      <td>0.001919</td>\n",
              "    </tr>\n",
              "    <tr>\n",
              "      <th>14180</th>\n",
              "      <td>1.325660</td>\n",
              "      <td>1.327406</td>\n",
              "      <td>-0.001747</td>\n",
              "    </tr>\n",
              "    <tr>\n",
              "      <th>7070</th>\n",
              "      <td>1.371922</td>\n",
              "      <td>1.372021</td>\n",
              "      <td>-0.000099</td>\n",
              "    </tr>\n",
              "    <tr>\n",
              "      <th>34866</th>\n",
              "      <td>1.236422</td>\n",
              "      <td>1.239644</td>\n",
              "      <td>-0.003222</td>\n",
              "    </tr>\n",
              "    <tr>\n",
              "      <th>19627</th>\n",
              "      <td>1.001518</td>\n",
              "      <td>1.004518</td>\n",
              "      <td>-0.003000</td>\n",
              "    </tr>\n",
              "    <tr>\n",
              "      <th>25421</th>\n",
              "      <td>1.307989</td>\n",
              "      <td>1.321675</td>\n",
              "      <td>-0.013686</td>\n",
              "    </tr>\n",
              "    <tr>\n",
              "      <th>2870</th>\n",
              "      <td>1.378307</td>\n",
              "      <td>1.385191</td>\n",
              "      <td>-0.006884</td>\n",
              "    </tr>\n",
              "    <tr>\n",
              "      <th>8729</th>\n",
              "      <td>1.419036</td>\n",
              "      <td>1.418727</td>\n",
              "      <td>0.000310</td>\n",
              "    </tr>\n",
              "    <tr>\n",
              "      <th>28490</th>\n",
              "      <td>1.100598</td>\n",
              "      <td>1.104921</td>\n",
              "      <td>-0.004324</td>\n",
              "    </tr>\n",
              "    <tr>\n",
              "      <th>13603</th>\n",
              "      <td>0.000004</td>\n",
              "      <td>0.000141</td>\n",
              "      <td>-0.000137</td>\n",
              "    </tr>\n",
              "    <tr>\n",
              "      <th>20751</th>\n",
              "      <td>1.403217</td>\n",
              "      <td>1.405569</td>\n",
              "      <td>-0.002353</td>\n",
              "    </tr>\n",
              "    <tr>\n",
              "      <th>32480</th>\n",
              "      <td>1.238853</td>\n",
              "      <td>1.239856</td>\n",
              "      <td>-0.001003</td>\n",
              "    </tr>\n",
              "    <tr>\n",
              "      <th>44681</th>\n",
              "      <td>1.442494</td>\n",
              "      <td>1.434414</td>\n",
              "      <td>0.008081</td>\n",
              "    </tr>\n",
              "    <tr>\n",
              "      <th>44478</th>\n",
              "      <td>1.420093</td>\n",
              "      <td>1.418555</td>\n",
              "      <td>0.001538</td>\n",
              "    </tr>\n",
              "    <tr>\n",
              "      <th>5517</th>\n",
              "      <td>1.426622</td>\n",
              "      <td>1.423172</td>\n",
              "      <td>0.003450</td>\n",
              "    </tr>\n",
              "    <tr>\n",
              "      <th>39426</th>\n",
              "      <td>0.597365</td>\n",
              "      <td>0.594242</td>\n",
              "      <td>0.003123</td>\n",
              "    </tr>\n",
              "    <tr>\n",
              "      <th>2747</th>\n",
              "      <td>1.307123</td>\n",
              "      <td>1.295982</td>\n",
              "      <td>0.011141</td>\n",
              "    </tr>\n",
              "    <tr>\n",
              "      <th>21574</th>\n",
              "      <td>1.437303</td>\n",
              "      <td>1.433343</td>\n",
              "      <td>0.003960</td>\n",
              "    </tr>\n",
              "    <tr>\n",
              "      <th>2307</th>\n",
              "      <td>1.455392</td>\n",
              "      <td>1.451406</td>\n",
              "      <td>0.003986</td>\n",
              "    </tr>\n",
              "    <tr>\n",
              "      <th>18996</th>\n",
              "      <td>1.455798</td>\n",
              "      <td>1.455425</td>\n",
              "      <td>0.000373</td>\n",
              "    </tr>\n",
              "  </tbody>\n",
              "</table>\n",
              "</div>"
            ],
            "text/plain": [
              "       Actual Value  Predicted Value  Difference\n",
              "37957      1.042639         1.050108   -0.007469\n",
              "45965      1.277454         1.279948   -0.002493\n",
              "33541      1.445266         1.441806    0.003459\n",
              "9905       0.796529         0.796423    0.000106\n",
              "9472       1.327754         1.332256   -0.004502\n",
              "23682      1.251489         1.263480   -0.011990\n",
              "12880      0.000727         0.000994   -0.000267\n",
              "786        1.427379         1.426759    0.000621\n",
              "3015       1.448542         1.438879    0.009663\n",
              "37111      1.036192         1.044600   -0.008409\n",
              "18801      1.361673         1.364066   -0.002393\n",
              "7791       1.234986         1.233261    0.001724\n",
              "28516      1.146186         1.151212   -0.005026\n",
              "5153       1.226743         1.224099    0.002644\n",
              "8611       1.347616         1.359881   -0.012265\n",
              "13066      1.007901         1.004147    0.003754\n",
              "30167      1.380183         1.381998   -0.001815\n",
              "33586      1.448142         1.448117    0.000025\n",
              "9068       0.466936         0.425067    0.041869\n",
              "2545       0.411398         0.413313   -0.001916\n",
              "21500      1.415117         1.413198    0.001919\n",
              "14180      1.325660         1.327406   -0.001747\n",
              "7070       1.371922         1.372021   -0.000099\n",
              "34866      1.236422         1.239644   -0.003222\n",
              "19627      1.001518         1.004518   -0.003000\n",
              "25421      1.307989         1.321675   -0.013686\n",
              "2870       1.378307         1.385191   -0.006884\n",
              "8729       1.419036         1.418727    0.000310\n",
              "28490      1.100598         1.104921   -0.004324\n",
              "13603      0.000004         0.000141   -0.000137\n",
              "20751      1.403217         1.405569   -0.002353\n",
              "32480      1.238853         1.239856   -0.001003\n",
              "44681      1.442494         1.434414    0.008081\n",
              "44478      1.420093         1.418555    0.001538\n",
              "5517       1.426622         1.423172    0.003450\n",
              "39426      0.597365         0.594242    0.003123\n",
              "2747       1.307123         1.295982    0.011141\n",
              "21574      1.437303         1.433343    0.003960\n",
              "2307       1.455392         1.451406    0.003986\n",
              "18996      1.455798         1.455425    0.000373"
            ]
          },
          "metadata": {
            "tags": []
          },
          "execution_count": 117
        }
      ]
    },
    {
      "cell_type": "code",
      "metadata": {
        "colab": {
          "base_uri": "https://localhost:8080/"
        },
        "id": "efwK4_yPsO_I",
        "outputId": "92032cdf-8b79-4f09-d75b-cdcd4f904ffc"
      },
      "source": [
        "from sklearn import linear_model\n",
        "from sklearn.tree import DecisionTreeRegressor\n",
        "from sklearn.metrics import mean_squared_error, mean_absolute_error\n",
        "from sklearn.ensemble import RandomForestRegressor\n",
        "\n",
        "model = RandomForestRegressor(n_estimators=500, random_state=0)\n",
        "model.fit(X_train, y_train)\n",
        "y_pred_rf = model.predict(X_test)\n",
        "mse_rf = mean_squared_error(y_test, y_pred_rf)\n",
        "mae_rf = mean_absolute_error(y_test, y_pred_rf)\n",
        "print('Mean squared error for Random Forest Regression for Penicillin Concentration: ', mse_rf)\n",
        "print('Mean absolute error for Random Forest Regression for Penicillin Concentration: ', mae_rf)\n"
      ],
      "execution_count": null,
      "outputs": [
        {
          "output_type": "stream",
          "text": [
            "Mean squared error for Random Forest Regression for Penicillin Concentration:  0.000134861509729775\n",
            "Mean absolute error for Random Forest Regression for Penicillin Concentration:  0.005710890760285493\n"
          ],
          "name": "stdout"
        }
      ]
    },
    {
      "cell_type": "code",
      "metadata": {
        "colab": {
          "base_uri": "https://localhost:8080/"
        },
        "id": "junGR3bbum_r",
        "outputId": "e7bbe532-0a93-4187-d6b1-8e5e8b2d4959"
      },
      "source": [
        "import pandas as pd\n",
        "Parameters_list = list(X.columns)\n",
        "Parameters_imp = pd.Series(model.feature_importances_,index=Parameters_list).sort_values()\n",
        "print(Parameters_imp)"
      ],
      "execution_count": null,
      "outputs": [
        {
          "output_type": "stream",
          "text": [
            "Temp                0.000040\n",
            "Substrate feed T    0.000046\n",
            "CO2 Conc.           0.000482\n",
            "Dis O2 Conc.        0.000537\n",
            "Aeration Rate       0.000558\n",
            "AgitatorPower       0.001268\n",
            "pH                  0.004271\n",
            "Subst Feed Conc.    0.009181\n",
            "VOL                 0.044947\n",
            "Heat                0.938669\n",
            "dtype: float64\n"
          ],
          "name": "stdout"
        }
      ]
    }
  ]
}